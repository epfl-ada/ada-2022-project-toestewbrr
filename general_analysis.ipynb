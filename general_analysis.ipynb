{
 "cells": [
  {
   "cell_type": "markdown",
   "metadata": {
    "collapsed": true,
    "id": "AYC13i4R39dN"
   },
   "source": [
    "# Applied Data Analysis Project\n",
    "**Team**: ToeStewBrr - Alexander Sternfeld, Marguerite Thery, Antoine Bonnet, Hugo Bordereaux\n",
    "\n",
    "**Dataset**: CMU Movie Summary Corpus\n"
   ]
  },
  {
   "cell_type": "code",
   "execution_count": null,
   "metadata": {
    "id": "MlSSpJAG39dP"
   },
   "outputs": [],
   "source": [
    "import requests\n",
    "import pandas as pd\n",
    "import seaborn as sns\n",
    "import numpy as np\n",
    "import matplotlib.pyplot as plt\n",
    "from nltk.tree import Tree\n",
    "import xml.etree.ElementTree as ET\n",
    "import itertools\n",
    "import matplotlib.dates as mdates\n",
    "\n",
    "from load_data import *\n",
    "pd.options.mode.chained_assignment = None\n"
   ]
  },
  {
   "cell_type": "markdown",
   "metadata": {
    "id": "_TadIrDF39dR"
   },
   "source": [
    "## 1. Loading data\n",
    "\n",
    "We first extract all files from the [MoviesSummaries dataset](http://www.cs.cmu.edu/~ark/personas/). \n",
    "\n",
    "`corenlp_plot_summaries.tar.gz [628 M, separate download]`: The plot summary of each movie, run through the Stanford CoreNLP pipeline (tagging, parsing, NER and coref). Each filename begins with the Wikipedia movie ID (which indexes into movie.metadata.tsv).\n",
    "\n",
    "We extract all coreNLP files, then uncompress them to the XML format. \n",
    "\n",
    "Note: Extraction of CoreNLP files takes 15 minutes, while conversion takes 30 seconds. "
   ]
  },
  {
   "cell_type": "code",
   "execution_count": null,
   "metadata": {},
   "outputs": [],
   "source": [
    "download_data()"
   ]
  },
  {
   "cell_type": "markdown",
   "metadata": {
    "id": "eoIsNdG539dR"
   },
   "source": [
    "## 2. Pre-processing data\n",
    "\n",
    "### 2.1. Plot summaries\n",
    "\n",
    "`plot_summaries.txt [29 M]`: Plot summaries of 42,306 movies extracted from the November 2, 2012 dump of English-language Wikipedia.  Each line contains the Wikipedia movie ID (which indexes into movie.metadata.tsv) followed by the summary."
   ]
  },
  {
   "cell_type": "code",
   "execution_count": null,
   "metadata": {
    "id": "z6AUVYUc39dS",
    "outputId": "f909218b-7eaa-40d6-faee-e6937677b4c9"
   },
   "outputs": [],
   "source": [
    "plot_df = load_plot_df()\n",
    "plot_df"
   ]
  },
  {
   "cell_type": "code",
   "execution_count": null,
   "metadata": {},
   "outputs": [],
   "source": [
    "# For Hugo: this method stems the words to their lexical root. \n",
    "# Implement Stemming using out of the box Porter algorithm\n",
    "from nltk.stem import PorterStemmer\n",
    "stemmer = PorterStemmer()\n",
    "plot_stemmed = [[stemmer.stem(word) for word in sentence.split(\" \")] for sentence in plot_df.iloc[:5].Summary]\n",
    "plot_stemmed = [\" \".join(sentence) for sentence in plot_stemmed]\n"
   ]
  },
  {
   "cell_type": "markdown",
   "metadata": {
    "id": "d8vh3IEW39dS"
   },
   "source": [
    "### 2.2. Movie metadata\n",
    "\n",
    "`movie.metadata.tsv.gz [3.4 M]`: Metadata for 81,741 movies. "
   ]
  },
  {
   "cell_type": "code",
   "execution_count": null,
   "metadata": {
    "colab": {
     "base_uri": "https://localhost:8080/",
     "height": 898
    },
    "id": "p5NKaQHm39dT",
    "outputId": "3b973e13-6efd-4c48-95a7-0346d5ec753c"
   },
   "outputs": [],
   "source": [
    "movie_df = load_movie_df()\n",
    "movie_df"
   ]
  },
  {
   "cell_type": "markdown",
   "metadata": {
    "id": "GMGsQrxV39dT"
   },
   "source": [
    "### 2.3. Character metadata\n",
    "\n",
    "`character.metadata.tsv.gz [14 M]`: Metadata for 450,669 characters aligned to the movies above. \n"
   ]
  },
  {
   "cell_type": "code",
   "execution_count": null,
   "metadata": {
    "colab": {
     "base_uri": "https://localhost:8080/",
     "height": 762
    },
    "id": "7xdjzblS39dT",
    "outputId": "9c609dff-a8d6-495a-f3c5-7e12ffb2639d"
   },
   "outputs": [],
   "source": [
    "char_df = load_char_df()\n",
    "char_df"
   ]
  },
  {
   "cell_type": "markdown",
   "metadata": {},
   "source": [
    "### 2.4. Name clusters\n",
    "\n",
    "`name.clusters.txt`: 970 unique character names used in at least two different movies, along with 2,666 instances of those types.  The ID field indexes into the Freebase character/actor map ID in character.metadata.tsv."
   ]
  },
  {
   "cell_type": "code",
   "execution_count": null,
   "metadata": {},
   "outputs": [],
   "source": [
    "names_df = load_names_df()\n",
    "names_df"
   ]
  },
  {
   "cell_type": "markdown",
   "metadata": {},
   "source": [
    "### 2.5. TV Tropes Clusters\n",
    "\n",
    "`tvtropes.clusters.txt`: 72 character types drawn from tvtropes.com, along with 501 instances of those types.  The ID field indexes into the Freebase character/actor map ID in character.metadata.tsv."
   ]
  },
  {
   "cell_type": "code",
   "execution_count": null,
   "metadata": {},
   "outputs": [],
   "source": [
    "cluster_df = load_cluster_df()\n",
    "cluster_df\n"
   ]
  },
  {
   "cell_type": "markdown",
   "metadata": {},
   "source": [
    "We now join the TV tropes clusters with movie.metadata so we are able to access movie genre and filter on romance. "
   ]
  },
  {
   "cell_type": "code",
   "execution_count": null,
   "metadata": {},
   "outputs": [],
   "source": [
    "cluster_char = cluster_df.merge(char_df, on='Freebase character/map ID')\n",
    "cluster_char_movie = cluster_char.merge(movie_df, on='Freebase ID')\n",
    "romance_cluster = cluster_char_movie[cluster_char_movie['Genres'].apply(lambda x: any('Roman' in genre for genre in x))]\n",
    "romance_cluster.groupby(romance_cluster['Cluster']).size().sort_values(ascending=False)\n",
    "romance_cluster"
   ]
  },
  {
   "cell_type": "markdown",
   "metadata": {
    "collapsed": false
   },
   "source": [
    "### 2.6. Missing values and outliers"
   ]
  },
  {
   "cell_type": "markdown",
   "metadata": {
    "collapsed": false
   },
   "source": [
    "#### 2.6.1. Identifying missing values"
   ]
  },
  {
   "cell_type": "code",
   "execution_count": null,
   "metadata": {
    "collapsed": false
   },
   "outputs": [],
   "source": [
    "# Missing values\n",
    "movie_cols = ['Wikipedia ID', 'Freebase ID', 'Name', 'Release date', \n",
    "'Box office revenue', 'Runtime', 'Languages', 'Countries', 'Genres']\n",
    "for column in movie_cols[3:]:\n",
    "    number_missing = movie_df[column].isna().sum()\n",
    "    print(f'{column}: {number_missing}/{len(movie_df)} ({round(100*number_missing/movie_df.shape[0],2)}%) missing values')\n"
   ]
  },
  {
   "cell_type": "markdown",
   "metadata": {
    "collapsed": false
   },
   "source": [
    "#### 2.6.2. Outliers\n",
    "- We note that there is one movie with a release date in the year 1010, we manually correct this to the date 2010\n",
    "- There are many movies with very short runtimes (under 5 minutes). We manually verified a sample of these movies, and have found that the runtimes are correct.\n",
    "- There are over a hundred movies with runtimes over 5 hours. We have found that most of these data points correspond to series, where the runtime is the sum of the episode lengths.\n",
    "- One movie has a runtime of over a million minutes ('Zero tolerance'). This lengths is manually corrected to 88 minutes."
   ]
  },
  {
   "cell_type": "code",
   "execution_count": null,
   "metadata": {
    "collapsed": false
   },
   "outputs": [],
   "source": [
    "# Isolate the year from the release date\n",
    "getYear = lambda x: x[slice(0,4)] if type(x) == str else x\n",
    "movie_df['Release date'] = movie_df['Release date'].apply(getYear)\n",
    "\n",
    "# Identify suspicious movie with release date 1010, manually correct\n",
    "outlier_release_date = movie_df[movie_df['Release date'].apply(lambda x: int(x.split('-')[0]) < 1850 if type(x)==str else False)]\n",
    "movie_df['Release date'][movie_df['Wikipedia ID']==29666067] = '2010'\n",
    "\n",
    "# Identify suspicious movies with long runtimes\n",
    "movie_df[movie_df['Runtime'] > 300]\n",
    "movie_df['Runtime'][movie_df['Wikipedia ID']==10815585] = '88'\n"
   ]
  },
  {
   "cell_type": "markdown",
   "metadata": {
    "collapsed": false
   },
   "source": [
    "## 3. Exploratory Data Analysis\n",
    "\n",
    "\n",
    "### 3.1. Analysing romantic genres\n",
    "\n",
    "One notices that there are several types of romantic movies: romantic comedy, romance film, romantic drama. "
   ]
  },
  {
   "cell_type": "code",
   "execution_count": null,
   "metadata": {
    "collapsed": false
   },
   "outputs": [],
   "source": [
    "romance_genres = ['Romantic comedy', 'Romance Film', 'Romantic drama', 'Romantic fantasy', 'Romantic thriller']\n",
    "is_romantic = lambda i: lambda x: any(y in romance_genres[i] for y in x) if type(x) == list else False\n",
    "is_not_romantic = lambda i: lambda x: not any(y in romance_genres[i] for y in x) if type(x) == list else False\n",
    "romance_movies = movie_df[movie_df['Genres'].apply(is_romantic(slice(0, 5)))]\n",
    "non_romance_movies = movie_df[movie_df['Genres'].apply(is_not_romantic(slice(0, 5)))]"
   ]
  },
  {
   "cell_type": "code",
   "execution_count": null,
   "metadata": {
    "collapsed": false
   },
   "outputs": [],
   "source": [
    "#Organize by category\n",
    "romantic_comedy = romance_movies.loc[movie_df['Genres'].apply(is_romantic(0))]\n",
    "romantic_film = romance_movies.loc[movie_df['Genres'].apply(is_romantic(1))]\n",
    "romantic_drama = romance_movies.loc[movie_df['Genres'].apply(is_romantic(2))]\n",
    "romantic_fantasy = romance_movies.loc[movie_df['Genres'].apply(is_romantic(3))]\n",
    "romantic_thriller = romance_movies.loc[movie_df['Genres'].apply(is_romantic(4))]\n",
    "print('Romance:' , romance_movies.shape[0])\n",
    "print('Romantic comedies: ', romantic_comedy.shape[0], '\\nRomantic films: ', romantic_film.shape[0], '\\nRomantic drama: ', romantic_drama.shape[0], '\\nRomantic fantasy: ', romantic_fantasy.shape[0], '\\nRomantic thriller: ', romantic_thriller.shape[0])\n",
    "print('Total number of films: ', movie_df.shape[0])"
   ]
  },
  {
   "cell_type": "markdown",
   "metadata": {
    "collapsed": false
   },
   "source": [
    "### 3.2. Romantic movies runtime"
   ]
  },
  {
   "cell_type": "code",
   "execution_count": null,
   "metadata": {},
   "outputs": [],
   "source": [
    "ax = sns.kdeplot(romantic_comedy['Runtime'], color='blue')\n",
    "ax = sns.kdeplot(romantic_drama['Runtime'], color='green')\n",
    "ax = sns.kdeplot(romantic_film['Runtime'], color='red')\n",
    "ax = sns.kdeplot(romantic_fantasy['Runtime'], color='orange')\n",
    "ax = sns.kdeplot(non_romance_movies[non_romance_movies['Runtime'] < 200]['Runtime'], color = 'purple')\n",
    "ax.set_xlim(0, 200)\n",
    "ax.legend(['Romantic comedy', 'Romantic drama', 'Romance Film', 'Romantic fantasy', 'Non romantic movies'])\n",
    "plt.title('Movie runtime distribution by genre')\n",
    "plt.xlabel('Runtime (minutes)')\n",
    "plt.ylabel('Density')\n",
    "plt.show()"
   ]
  },
  {
   "cell_type": "markdown",
   "metadata": {
    "collapsed": false
   },
   "source": [
    "### 3.3. Romantic movies box office revenue"
   ]
  },
  {
   "cell_type": "code",
   "execution_count": null,
   "metadata": {
    "collapsed": false
   },
   "outputs": [],
   "source": [
    "ax = sns.kdeplot(romantic_comedy['Box office revenue'], log_scale=True, color='blue')\n",
    "ax = sns.kdeplot(romantic_drama['Box office revenue'], log_scale=True, color='green')\n",
    "ax = sns.kdeplot(romantic_film['Box office revenue'], log_scale=True, color='red')\n",
    "ax = sns.kdeplot(romantic_fantasy['Box office revenue'], log_scale=True, color='orange')\n",
    "ax = sns.kdeplot(non_romance_movies['Box office revenue'], log_scale=True, color='purple')\n",
    "ax.legend(['Romantic comedy', 'Romantic drama', 'Romance Film', 'Romantic fantasy', 'Non romantic movies'])\n",
    "plt.title('Box office revenue distribution by genre')\n",
    "plt.xlabel('Revenue (USD)')\n",
    "plt.ylabel('Density')\n",
    "plt.show()"
   ]
  },
  {
   "cell_type": "markdown",
   "metadata": {
    "collapsed": false
   },
   "source": [
    "### 3.4. Romantic movies countries"
   ]
  },
  {
   "cell_type": "code",
   "execution_count": null,
   "metadata": {
    "collapsed": false
   },
   "outputs": [],
   "source": [
    "get_countries = lambda x: len(x) if type(x) == list else np.nan\n",
    "romantic_comedy['number_countries'] = romantic_comedy['Countries'].apply(get_countries)\n",
    "romantic_fantasy['number_countries'] = romantic_fantasy['Countries'].apply(get_countries)\n",
    "romantic_film['number_countries'] = romantic_film['Countries'].apply(get_countries)\n",
    "romantic_drama['number_countries'] = romantic_drama['Countries'].apply(get_countries)\n",
    "\n",
    "combined_numb_countries = pd.DataFrame({\n",
    "    'Romantic comedy': romantic_comedy['number_countries'], \n",
    "    'Romance Film': romantic_film['number_countries'], \n",
    "    'Romantic drama': romantic_drama['number_countries'], \n",
    "    'Romantic fantasy': romantic_fantasy['number_countries']})\n",
    "\n",
    "print('Percentage romantic comedy movie countries > 1: ', round(romantic_comedy[romantic_comedy['number_countries']> 1].shape[0]/romantic_comedy.shape[0], 2), '%')\n",
    "print('Other countries can be added in code...')"
   ]
  },
  {
   "cell_type": "markdown",
   "metadata": {
    "collapsed": false
   },
   "source": [
    "### 3.5. Movie languages"
   ]
  },
  {
   "cell_type": "code",
   "execution_count": null,
   "metadata": {
    "collapsed": false
   },
   "outputs": [],
   "source": [
    "#Get languages whole movie set\n",
    "movies_language = movie_df[movie_df['Languages'].notnull()]\n",
    "languages=movies_language['Languages'].sum()\n",
    "values, counts = np.unique(languages, return_counts=True)\n",
    "print('5 most common languages in movies are: ')\n",
    "print(values[counts.argsort()[-5:][::-1]])\n",
    "\n",
    "#Get languages romantic movies overall\n",
    "romance_movies_lang = romance_movies[romance_movies['Languages'].notnull()]\n",
    "languages_romance = romance_movies_lang.Languages.sum()\n",
    "values, counts = np.unique(languages_romance, return_counts=True)\n",
    "print('\\n5 most common languages in romantic movies: ')\n",
    "print(values[counts.argsort()[-5:][::-1]])\n",
    "\n",
    "\n",
    "rom_com_known = romantic_comedy[romantic_comedy['Languages'].notnull()]\n",
    "languages_romcom = rom_com_known.Languages.sum()\n",
    "values, counts = np.unique(languages_romcom, return_counts=True)\n",
    "print('\\n5 most common languages in romantic comedies: ')\n",
    "print(values[counts.argsort()[-5:][::-1]])"
   ]
  },
  {
   "cell_type": "markdown",
   "metadata": {
    "collapsed": false
   },
   "source": [
    "### 3.6. Evolution over time"
   ]
  },
  {
   "cell_type": "markdown",
   "metadata": {
    "collapsed": false
   },
   "source": [
    "#### 3.6.1 Box office revenue over time"
   ]
  },
  {
   "cell_type": "code",
   "execution_count": null,
   "metadata": {},
   "outputs": [],
   "source": [
    "year_box_office = non_romance_movies[['Release date', 'Box office revenue']].dropna()\n",
    "year_box_office_romance = romance_movies[['Release date', 'Box office revenue']].dropna()\n",
    "year_box_office['Release date'] = pd.to_datetime(year_box_office['Release date'])\n",
    "year_box_office_romance['Release date'] = pd.to_datetime(year_box_office_romance['Release date'])"
   ]
  },
  {
   "cell_type": "code",
   "execution_count": null,
   "metadata": {},
   "outputs": [],
   "source": [
    "import matplotlib\n",
    "# Get yearly box office revenue for romantic and non-romantic movies\n",
    "year_box_office = non_romance_movies[['Release date', 'Box office revenue']].dropna()\n",
    "year_box_office_romance = romance_movies[['Release date', 'Box office revenue']].dropna()\n",
    "year_box_office['Release date'] = pd.to_datetime(year_box_office['Release date'])\n",
    "year_box_office_romance['Release date'] = pd.to_datetime(year_box_office_romance['Release date'])\n",
    "\n",
    "# TODO: Fix the standard deviations for the box office revenue\n",
    "total_mean = year_box_office.groupby('Release date').mean().iloc[1:]\n",
    "romance_mean = year_box_office_romance.groupby('Release date').mean().iloc[1:]\n",
    "total_std = year_box_office.groupby('Release date').std().replace(np.nan, 0).iloc[1:]/10\n",
    "romance_std = year_box_office_romance.groupby('Release date').std().replace(np.nan, 0).iloc[1:]/10\n",
    "\n",
    "\n",
    "# Plot average monthly revenue for romance movies and non romance movies\n",
    "fig, ax = plt.subplots(figsize=(15, 7))\n",
    "ax.plot(total_mean.index, total_mean['Box office revenue'], color='blue', label='Non romance movies')\n",
    "ax.plot(romance_mean.index, romance_mean['Box office revenue'], color='red', label='Romance movies')\n",
    "ax.fill_between(total_mean.index, total_mean['Box office revenue'] - total_std['Box office revenue'], total_mean['Box office revenue'] + total_std['Box office revenue'], color='blue', alpha=0.2)\n",
    "ax.fill_between(romance_mean.index, romance_mean['Box office revenue'] - romance_std['Box office revenue'], romance_mean['Box office revenue'] + romance_std['Box office revenue'], color='red', alpha=0.2)\n",
    "years = mdates.YearLocator(5)\n",
    "ax.xaxis.set_major_locator(years)\n",
    "ax.xaxis.set_major_formatter(mdates.DateFormatter('%Y'))\n",
    "ax.yaxis.set_major_formatter(matplotlib.ticker.StrMethodFormatter('${x:,.0f}'))\n",
    "ax.set_xlabel('Release date')\n",
    "ax.set_ylabel('Revenue (USD)')\n",
    "ax.set_title('Average monthly revenue for romance movies and non romance movies')\n",
    "ax.legend()\n",
    "plt.show()\n"
   ]
  },
  {
   "cell_type": "markdown",
   "metadata": {
    "collapsed": false
   },
   "source": [
    "### 3.6.2. Evolution of runtime"
   ]
  },
  {
   "cell_type": "code",
   "execution_count": null,
   "metadata": {},
   "outputs": [],
   "source": [
    "import matplotlib\n",
    "\n",
    "# Get yearly runtime for romantic and non-romantic movies\n",
    "year_runtime = non_romance_movies[['Release date', 'Runtime']].dropna()\n",
    "year_runtime_romance = romance_movies[['Release date', 'Runtime']].dropna()\n",
    "year_runtime['Runtime'] = year_runtime['Runtime'].astype(float)\n",
    "year_runtime_romance['Runtime'] = year_runtime_romance['Runtime'].astype(float)\n",
    "\n",
    "# TODO: Fix the standard deviations for the runtime\n",
    "total_runtime_mean = year_runtime.groupby('Release date').mean()\n",
    "romance_runtime_mean = year_runtime_romance.groupby('Release date').mean()\n",
    "total_runtime_std = year_runtime.groupby('Release date').std().replace(np.nan, 0)/10\n",
    "romance_runtime_std = year_runtime_romance.groupby('Release date').std().replace(np.nan, 0)/10\n",
    "\n",
    "# Convert release date of mean and std to datetime\n",
    "total_runtime_mean.index = pd.to_datetime(total_runtime_mean.index)\n",
    "romance_runtime_mean.index = pd.to_datetime(romance_runtime_mean.index)\n",
    "total_runtime_std.index = pd.to_datetime(total_runtime_std.index)\n",
    "romance_runtime_std.index = pd.to_datetime(romance_runtime_std.index)\n",
    "\n",
    "\n",
    "# Plot average monthly runtime for romance movies and non romance movies\n",
    "fig, ax = plt.subplots(figsize=(15, 7))\n",
    "ax.plot(total_runtime_mean.index, total_runtime_mean['Runtime'], color='blue', label='Non romance movies')\n",
    "ax.plot(romance_runtime_mean.index, romance_runtime_mean['Runtime'], color='red', label='Romance movies')\n",
    "ax.fill_between(total_runtime_mean.index, total_runtime_mean['Runtime'] - total_runtime_std['Runtime'], total_runtime_mean['Runtime'] + total_runtime_std['Runtime'], color='blue', alpha=0.2)\n",
    "ax.fill_between(romance_runtime_mean.index, romance_runtime_mean['Runtime'] - romance_runtime_std['Runtime'], romance_runtime_mean['Runtime'] + romance_runtime_std['Runtime'], color='red', alpha=0.2)\n",
    "years = mdates.YearLocator(5)\n",
    "ax.xaxis.set_major_locator(years)\n",
    "ax.xaxis.set_major_formatter(mdates.DateFormatter('%Y'))\n",
    "ax.set_xlabel('Release date')\n",
    "ax.set_ylabel('Runtime (minutes)')\n",
    "ax.set_title('Average monthly runtime for romance movies and non romance movies')\n",
    "ax.legend()\n",
    "plt.show()"
   ]
  }
 ],
 "metadata": {
  "colab": {
   "provenance": []
  },
  "kernelspec": {
   "display_name": "Python 3.9.6 64-bit",
   "language": "python",
   "name": "python3"
  },
  "language_info": {
   "codemirror_mode": {
    "name": "ipython",
    "version": 3
   },
   "file_extension": ".py",
   "mimetype": "text/x-python",
   "name": "python",
   "nbconvert_exporter": "python",
   "pygments_lexer": "ipython3",
   "version": "3.9.6"
  },
  "vscode": {
   "interpreter": {
    "hash": "31f2aee4e71d21fbe5cf8b01ff0e069b9275f58929596ceb00d14d90e3e16cd6"
   }
  }
 },
 "nbformat": 4,
 "nbformat_minor": 0
}
