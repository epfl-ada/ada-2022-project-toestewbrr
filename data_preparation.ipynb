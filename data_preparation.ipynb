{
 "cells": [
  {
   "cell_type": "markdown",
   "metadata": {},
   "source": [
    "#### Data preparation\n",
    "\n",
    "We extract plot summaries that we will pass through our pipeline and store them as `.txt` files to be able to run them through the new coreNLP pipeline. "
   ]
  },
  {
   "cell_type": "code",
   "execution_count": 2,
   "metadata": {},
   "outputs": [],
   "source": [
    "from load_data import *\n",
    "from coreNLP_analysis import *\n",
    "\n",
    "movie_df = load_movie_df()\n",
    "plot_df = load_plot_df()"
   ]
  },
  {
   "cell_type": "markdown",
   "metadata": {},
   "source": [
    "Remove the romance plot summaries which were already processed through the pipeline."
   ]
  },
  {
   "cell_type": "code",
   "execution_count": 3,
   "metadata": {},
   "outputs": [],
   "source": [
    "romance_genres = ['Romantic comedy', 'Romance Film', 'Romantic drama', 'Romantic fantasy', 'Romantic thriller']\n",
    "rom_com_plots = get_plots(romance_genres, movie_df, plot_df)\n",
    "split_df = plot_df[~plot_df['Wikipedia ID'].isin(rom_com_plots['Wikipedia ID'])]"
   ]
  },
  {
   "cell_type": "markdown",
   "metadata": {},
   "source": [
    "Split the remaining plot summaries into 4 parts. Change the value whoami to your name (Alex, Antoine, Hugo). "
   ]
  },
  {
   "cell_type": "code",
   "execution_count": 4,
   "metadata": {},
   "outputs": [],
   "source": [
    "alex = split_df.iloc[:int(len(split_df)/4)]\n",
    "antoine = split_df.iloc[int(len(split_df)/4):int(len(split_df)/2)]\n",
    "hugo = split_df.iloc[int(len(split_df)/2):int(3*len(split_df)/4)]\n",
    "marg = split_df.iloc[int(3*len(split_df)/4):]\n",
    "\n",
    "# Change whoami to your name\n",
    "whoami = antoine\n",
    "\n",
    "# Store each plot summary as .txt file\n",
    "for index, row in whoami.iterrows():\n",
    "    # If directory doesn't exist, create it\n",
    "    if not os.path.exists('Plots/'):\n",
    "        os.makedirs('Plots/')\n",
    "    with open(\"Plots/\" + \"{}.txt\".format(row['Wikipedia ID']), 'w', encoding='utf8') as f:\n",
    "        if type(row['Summary']) == str:\n",
    "            f.write(row['Summary'])\n",
    "            f.close()"
   ]
  }
 ],
 "metadata": {
  "kernelspec": {
   "display_name": "Python 3.9.6 64-bit",
   "language": "python",
   "name": "python3"
  },
  "language_info": {
   "codemirror_mode": {
    "name": "ipython",
    "version": 3
   },
   "file_extension": ".py",
   "mimetype": "text/x-python",
   "name": "python",
   "nbconvert_exporter": "python",
   "pygments_lexer": "ipython3",
   "version": "3.9.6"
  },
  "orig_nbformat": 4,
  "vscode": {
   "interpreter": {
    "hash": "31f2aee4e71d21fbe5cf8b01ff0e069b9275f58929596ceb00d14d90e3e16cd6"
   }
  }
 },
 "nbformat": 4,
 "nbformat_minor": 2
}
