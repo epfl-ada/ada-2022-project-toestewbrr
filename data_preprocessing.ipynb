{
 "cells": [
  {
   "cell_type": "markdown",
   "metadata": {
    "collapsed": true,
    "id": "AYC13i4R39dN"
   },
   "source": [
    "# Applied Data Analysis Project\n",
    "**Team**: ToeStewBrr - Alexander Sternfeld, Marguerite Thery, Antoine Bonnet, Hugo Bordereaux\n",
    "\n",
    "**Dataset**: CMU Movie Summary Corpus\n"
   ]
  },
  {
   "cell_type": "code",
   "execution_count": 43,
   "metadata": {
    "id": "MlSSpJAG39dP"
   },
   "outputs": [],
   "source": [
    "import requests\n",
    "import tarfile\n",
    "import urllib\n",
    "import os\n",
    "import pandas as pd\n",
    "import seaborn as sns\n",
    "import numpy as np\n",
    "import matplotlib as plt\n",
    "import re\n",
    "import gzip"
   ]
  },
  {
   "cell_type": "markdown",
   "metadata": {
    "id": "_TadIrDF39dR"
   },
   "source": [
    "## 1. Loading data\n",
    "\n",
    "We first extract all files from the [MoviesSummaries dataset](http://www.cs.cmu.edu/~ark/personas/). "
   ]
  },
  {
   "cell_type": "code",
   "execution_count": 13,
   "metadata": {},
   "outputs": [],
   "source": [
    "if not os.path.exists('Data/MovieSummaries'):\n",
    "    filename = 'http://www.cs.cmu.edu/~ark/personas/data/MovieSummaries.tar.gz'\n",
    "    my_tar = tarfile.open(fileobj=urllib.request.urlopen(filename), mode=\"r:gz\") \n",
    "    my_tar.extractall('./Data') # specify which folder to extract to\n",
    "    my_tar.close()"
   ]
  },
  {
   "cell_type": "markdown",
   "metadata": {
    "id": "eoIsNdG539dR"
   },
   "source": [
    "## 2. Pre-processing data\n",
    "\n",
    "### 1. Plot summaries\n",
    "\n",
    "`plot_summaries.txt [29 M]`: Plot summaries of 42,306 movies extracted from the November 2, 2012 dump of English-language Wikipedia.  Each line contains the Wikipedia movie ID (which indexes into movie.metadata.tsv) followed by the summary."
   ]
  },
  {
   "cell_type": "code",
   "execution_count": 14,
   "metadata": {
    "id": "z6AUVYUc39dS",
    "outputId": "f909218b-7eaa-40d6-faee-e6937677b4c9"
   },
   "outputs": [
    {
     "data": {
      "text/html": [
       "<div>\n",
       "<style scoped>\n",
       "    .dataframe tbody tr th:only-of-type {\n",
       "        vertical-align: middle;\n",
       "    }\n",
       "\n",
       "    .dataframe tbody tr th {\n",
       "        vertical-align: top;\n",
       "    }\n",
       "\n",
       "    .dataframe thead th {\n",
       "        text-align: right;\n",
       "    }\n",
       "</style>\n",
       "<table border=\"1\" class=\"dataframe\">\n",
       "  <thead>\n",
       "    <tr style=\"text-align: right;\">\n",
       "      <th></th>\n",
       "      <th>Summary</th>\n",
       "    </tr>\n",
       "    <tr>\n",
       "      <th>Wikipedia ID</th>\n",
       "      <th></th>\n",
       "    </tr>\n",
       "  </thead>\n",
       "  <tbody>\n",
       "    <tr>\n",
       "      <th>23890098</th>\n",
       "      <td>Shlykov, a hard-working taxi driver and Lyosha...</td>\n",
       "    </tr>\n",
       "    <tr>\n",
       "      <th>31186339</th>\n",
       "      <td>The nation of Panem consists of a wealthy Capi...</td>\n",
       "    </tr>\n",
       "    <tr>\n",
       "      <th>20663735</th>\n",
       "      <td>Poovalli Induchoodan  is sentenced for six yea...</td>\n",
       "    </tr>\n",
       "    <tr>\n",
       "      <th>2231378</th>\n",
       "      <td>The Lemon Drop Kid , a New York City swindler,...</td>\n",
       "    </tr>\n",
       "    <tr>\n",
       "      <th>595909</th>\n",
       "      <td>Seventh-day Adventist Church pastor Michael Ch...</td>\n",
       "    </tr>\n",
       "    <tr>\n",
       "      <th>...</th>\n",
       "      <td>...</td>\n",
       "    </tr>\n",
       "    <tr>\n",
       "      <th>34808485</th>\n",
       "      <td>The story is about Reema , a young Muslim scho...</td>\n",
       "    </tr>\n",
       "    <tr>\n",
       "      <th>1096473</th>\n",
       "      <td>In 1928 Hollywood, director Leo Andreyev  look...</td>\n",
       "    </tr>\n",
       "    <tr>\n",
       "      <th>35102018</th>\n",
       "      <td>American Luthier focuses on Randy Parsons’ tra...</td>\n",
       "    </tr>\n",
       "    <tr>\n",
       "      <th>8628195</th>\n",
       "      <td>Abdur Rehman Khan , a middle-aged dry fruit se...</td>\n",
       "    </tr>\n",
       "    <tr>\n",
       "      <th>6040782</th>\n",
       "      <td>1940 - Operation Dynamo has just taken place. ...</td>\n",
       "    </tr>\n",
       "  </tbody>\n",
       "</table>\n",
       "<p>42303 rows × 1 columns</p>\n",
       "</div>"
      ],
      "text/plain": [
       "                                                        Summary\n",
       "Wikipedia ID                                                   \n",
       "23890098      Shlykov, a hard-working taxi driver and Lyosha...\n",
       "31186339      The nation of Panem consists of a wealthy Capi...\n",
       "20663735      Poovalli Induchoodan  is sentenced for six yea...\n",
       "2231378       The Lemon Drop Kid , a New York City swindler,...\n",
       "595909        Seventh-day Adventist Church pastor Michael Ch...\n",
       "...                                                         ...\n",
       "34808485      The story is about Reema , a young Muslim scho...\n",
       "1096473       In 1928 Hollywood, director Leo Andreyev  look...\n",
       "35102018      American Luthier focuses on Randy Parsons’ tra...\n",
       "8628195       Abdur Rehman Khan , a middle-aged dry fruit se...\n",
       "6040782       1940 - Operation Dynamo has just taken place. ...\n",
       "\n",
       "[42303 rows x 1 columns]"
      ]
     },
     "execution_count": 14,
     "metadata": {},
     "output_type": "execute_result"
    }
   ],
   "source": [
    "plot_path = 'Data/MovieSummaries/plot_summaries.txt'\n",
    "plot_cols = ['Wikipedia ID', 'Summary']\n",
    "plot_df = pd.read_csv(plot_path, sep='\\t', header=None, names=plot_cols, index_col=0)\n",
    "plot_df"
   ]
  },
  {
   "cell_type": "markdown",
   "metadata": {
    "id": "d8vh3IEW39dS"
   },
   "source": [
    "### 2. Movie metadata\n",
    "\n",
    "`movie.metadata.tsv.gz [3.4 M]`: Metadata for 81,741 movies, extracted from the Noverber 4, 2012 dump of Freebase.  Tab-separated; columns:\n",
    "\n",
    "1. Wikipedia movie ID\n",
    "2. Freebase movie ID\n",
    "3. Movie name\n",
    "4. Movie release date\n",
    "5. Movie box office revenue\n",
    "6. Movie runtime\n",
    "7. Movie languages (Freebase ID:name tuples)\n",
    "8. Movie countries (Freebase ID:name tuples)\n",
    "9. Movie genres (Freebase ID:name tuples)\n"
   ]
  },
  {
   "cell_type": "code",
   "execution_count": 82,
   "metadata": {},
   "outputs": [],
   "source": [
    "strip_encoding = lambda x: np.nan if x == '{}' else \\\n",
    "    [w.replace(' Language', '').replace(' language', '') for w in re.findall(r'\"(.*?)\"', x)[1::2]]"
   ]
  },
  {
   "cell_type": "code",
   "execution_count": 83,
   "metadata": {
    "colab": {
     "base_uri": "https://localhost:8080/",
     "height": 898
    },
    "id": "p5NKaQHm39dT",
    "outputId": "3b973e13-6efd-4c48-95a7-0346d5ec753c"
   },
   "outputs": [
    {
     "data": {
      "text/html": [
       "<div>\n",
       "<style scoped>\n",
       "    .dataframe tbody tr th:only-of-type {\n",
       "        vertical-align: middle;\n",
       "    }\n",
       "\n",
       "    .dataframe tbody tr th {\n",
       "        vertical-align: top;\n",
       "    }\n",
       "\n",
       "    .dataframe thead th {\n",
       "        text-align: right;\n",
       "    }\n",
       "</style>\n",
       "<table border=\"1\" class=\"dataframe\">\n",
       "  <thead>\n",
       "    <tr style=\"text-align: right;\">\n",
       "      <th></th>\n",
       "      <th>Freebase ID</th>\n",
       "      <th>Name</th>\n",
       "      <th>Release date</th>\n",
       "      <th>Box office revenue</th>\n",
       "      <th>Runtime</th>\n",
       "      <th>Languages</th>\n",
       "      <th>Countries</th>\n",
       "      <th>Genres</th>\n",
       "    </tr>\n",
       "    <tr>\n",
       "      <th>Wikipedia ID</th>\n",
       "      <th></th>\n",
       "      <th></th>\n",
       "      <th></th>\n",
       "      <th></th>\n",
       "      <th></th>\n",
       "      <th></th>\n",
       "      <th></th>\n",
       "      <th></th>\n",
       "    </tr>\n",
       "  </thead>\n",
       "  <tbody>\n",
       "    <tr>\n",
       "      <th>975900</th>\n",
       "      <td>/m/03vyhn</td>\n",
       "      <td>Ghosts of Mars</td>\n",
       "      <td>2001-08-24</td>\n",
       "      <td>14010832.0</td>\n",
       "      <td>98.0</td>\n",
       "      <td>[English]</td>\n",
       "      <td>[United States of America]</td>\n",
       "      <td>[Thriller, Science Fiction, Horror, Adventure,...</td>\n",
       "    </tr>\n",
       "    <tr>\n",
       "      <th>3196793</th>\n",
       "      <td>/m/08yl5d</td>\n",
       "      <td>Getting Away with Murder: The JonBenét Ramsey ...</td>\n",
       "      <td>2000-02-16</td>\n",
       "      <td>NaN</td>\n",
       "      <td>95.0</td>\n",
       "      <td>[English]</td>\n",
       "      <td>[United States of America]</td>\n",
       "      <td>[Mystery, Biographical film, Drama, Crime Drama]</td>\n",
       "    </tr>\n",
       "    <tr>\n",
       "      <th>28463795</th>\n",
       "      <td>/m/0crgdbh</td>\n",
       "      <td>Brun bitter</td>\n",
       "      <td>1988</td>\n",
       "      <td>NaN</td>\n",
       "      <td>83.0</td>\n",
       "      <td>[Norwegian]</td>\n",
       "      <td>[Norway]</td>\n",
       "      <td>[Crime Fiction, Drama]</td>\n",
       "    </tr>\n",
       "    <tr>\n",
       "      <th>9363483</th>\n",
       "      <td>/m/0285_cd</td>\n",
       "      <td>White Of The Eye</td>\n",
       "      <td>1987</td>\n",
       "      <td>NaN</td>\n",
       "      <td>110.0</td>\n",
       "      <td>[English]</td>\n",
       "      <td>[United Kingdom]</td>\n",
       "      <td>[Thriller, Erotic thriller, Psychological thri...</td>\n",
       "    </tr>\n",
       "    <tr>\n",
       "      <th>261236</th>\n",
       "      <td>/m/01mrr1</td>\n",
       "      <td>A Woman in Flames</td>\n",
       "      <td>1983</td>\n",
       "      <td>NaN</td>\n",
       "      <td>106.0</td>\n",
       "      <td>[German]</td>\n",
       "      <td>[Germany]</td>\n",
       "      <td>[Drama]</td>\n",
       "    </tr>\n",
       "    <tr>\n",
       "      <th>...</th>\n",
       "      <td>...</td>\n",
       "      <td>...</td>\n",
       "      <td>...</td>\n",
       "      <td>...</td>\n",
       "      <td>...</td>\n",
       "      <td>...</td>\n",
       "      <td>...</td>\n",
       "      <td>...</td>\n",
       "    </tr>\n",
       "    <tr>\n",
       "      <th>35228177</th>\n",
       "      <td>/m/0j7hxnt</td>\n",
       "      <td>Mermaids: The Body Found</td>\n",
       "      <td>2011-03-19</td>\n",
       "      <td>NaN</td>\n",
       "      <td>120.0</td>\n",
       "      <td>[English]</td>\n",
       "      <td>[United States of America]</td>\n",
       "      <td>[Drama]</td>\n",
       "    </tr>\n",
       "    <tr>\n",
       "      <th>34980460</th>\n",
       "      <td>/m/0g4pl34</td>\n",
       "      <td>Knuckle</td>\n",
       "      <td>2011-01-21</td>\n",
       "      <td>NaN</td>\n",
       "      <td>96.0</td>\n",
       "      <td>[English]</td>\n",
       "      <td>[Ireland, United Kingdom]</td>\n",
       "      <td>[Biographical film, Drama, Documentary]</td>\n",
       "    </tr>\n",
       "    <tr>\n",
       "      <th>9971909</th>\n",
       "      <td>/m/02pygw1</td>\n",
       "      <td>Another Nice Mess</td>\n",
       "      <td>1972-09-22</td>\n",
       "      <td>NaN</td>\n",
       "      <td>66.0</td>\n",
       "      <td>[English]</td>\n",
       "      <td>[United States of America]</td>\n",
       "      <td>[Satire, Comedy]</td>\n",
       "    </tr>\n",
       "    <tr>\n",
       "      <th>913762</th>\n",
       "      <td>/m/03pcrp</td>\n",
       "      <td>The Super Dimension Fortress Macross II: Lover...</td>\n",
       "      <td>1992-05-21</td>\n",
       "      <td>NaN</td>\n",
       "      <td>150.0</td>\n",
       "      <td>[Japanese]</td>\n",
       "      <td>[Japan]</td>\n",
       "      <td>[Science Fiction, Japanese Movies, Adventure, ...</td>\n",
       "    </tr>\n",
       "    <tr>\n",
       "      <th>12476867</th>\n",
       "      <td>/m/02w7zz8</td>\n",
       "      <td>Spliced</td>\n",
       "      <td>2002</td>\n",
       "      <td>NaN</td>\n",
       "      <td>86.0</td>\n",
       "      <td>[English]</td>\n",
       "      <td>[Canada]</td>\n",
       "      <td>[Thriller, Horror, Slasher, Teen]</td>\n",
       "    </tr>\n",
       "  </tbody>\n",
       "</table>\n",
       "<p>81741 rows × 8 columns</p>\n",
       "</div>"
      ],
      "text/plain": [
       "             Freebase ID                                               Name  \\\n",
       "Wikipedia ID                                                                  \n",
       "975900         /m/03vyhn                                     Ghosts of Mars   \n",
       "3196793        /m/08yl5d  Getting Away with Murder: The JonBenét Ramsey ...   \n",
       "28463795      /m/0crgdbh                                        Brun bitter   \n",
       "9363483       /m/0285_cd                                   White Of The Eye   \n",
       "261236         /m/01mrr1                                  A Woman in Flames   \n",
       "...                  ...                                                ...   \n",
       "35228177      /m/0j7hxnt                           Mermaids: The Body Found   \n",
       "34980460      /m/0g4pl34                                            Knuckle   \n",
       "9971909       /m/02pygw1                                  Another Nice Mess   \n",
       "913762         /m/03pcrp  The Super Dimension Fortress Macross II: Lover...   \n",
       "12476867      /m/02w7zz8                                            Spliced   \n",
       "\n",
       "             Release date  Box office revenue  Runtime    Languages  \\\n",
       "Wikipedia ID                                                          \n",
       "975900         2001-08-24          14010832.0     98.0    [English]   \n",
       "3196793        2000-02-16                 NaN     95.0    [English]   \n",
       "28463795             1988                 NaN     83.0  [Norwegian]   \n",
       "9363483              1987                 NaN    110.0    [English]   \n",
       "261236               1983                 NaN    106.0     [German]   \n",
       "...                   ...                 ...      ...          ...   \n",
       "35228177       2011-03-19                 NaN    120.0    [English]   \n",
       "34980460       2011-01-21                 NaN     96.0    [English]   \n",
       "9971909        1972-09-22                 NaN     66.0    [English]   \n",
       "913762         1992-05-21                 NaN    150.0   [Japanese]   \n",
       "12476867             2002                 NaN     86.0    [English]   \n",
       "\n",
       "                               Countries  \\\n",
       "Wikipedia ID                               \n",
       "975900        [United States of America]   \n",
       "3196793       [United States of America]   \n",
       "28463795                        [Norway]   \n",
       "9363483                 [United Kingdom]   \n",
       "261236                         [Germany]   \n",
       "...                                  ...   \n",
       "35228177      [United States of America]   \n",
       "34980460       [Ireland, United Kingdom]   \n",
       "9971909       [United States of America]   \n",
       "913762                           [Japan]   \n",
       "12476867                        [Canada]   \n",
       "\n",
       "                                                         Genres  \n",
       "Wikipedia ID                                                     \n",
       "975900        [Thriller, Science Fiction, Horror, Adventure,...  \n",
       "3196793        [Mystery, Biographical film, Drama, Crime Drama]  \n",
       "28463795                                 [Crime Fiction, Drama]  \n",
       "9363483       [Thriller, Erotic thriller, Psychological thri...  \n",
       "261236                                                  [Drama]  \n",
       "...                                                         ...  \n",
       "35228177                                                [Drama]  \n",
       "34980460                [Biographical film, Drama, Documentary]  \n",
       "9971909                                        [Satire, Comedy]  \n",
       "913762        [Science Fiction, Japanese Movies, Adventure, ...  \n",
       "12476867                      [Thriller, Horror, Slasher, Teen]  \n",
       "\n",
       "[81741 rows x 8 columns]"
      ]
     },
     "execution_count": 83,
     "metadata": {},
     "output_type": "execute_result"
    }
   ],
   "source": [
    "movie_path = 'Data/MovieSummaries/movie.metadata.tsv'\n",
    "movie_cols = ['Wikipedia ID', 'Freebase ID', 'Name', 'Release date', \n",
    "              'Box office revenue', 'Runtime', 'Languages', 'Countries', 'Genres']\n",
    "movie_df = pd.read_csv(movie_path, sep='\\t', header=None, names=movie_cols, index_col=0, dtype = {'Freebase ID': str})\n",
    "movie_df['Languages'] = movie_df['Languages'].apply(strip_encoding)\n",
    "movie_df['Countries'] = movie_df['Countries'].apply(strip_encoding)\n",
    "movie_df['Genres'] = movie_df['Genres'].apply(strip_encoding)\n",
    "movie_df"
   ]
  },
  {
   "cell_type": "markdown",
   "metadata": {
    "id": "GMGsQrxV39dT"
   },
   "source": [
    "### 3. Character metadata\n",
    "\n",
    "`character.metadata.tsv.gz [14 M]`: Metadata for 450,669 characters aligned to the movies above, extracted from the November 4, 2012 dump of Freebase.  Tab-separated; columns:\n",
    "\n",
    "1. Wikipedia movie ID\n",
    "2. Freebase movie ID\n",
    "3. Movie release date\n",
    "4. Character name\n",
    "5. Actor date of birth\n",
    "6. Actor gender\n",
    "7. Actor height (in meters)\n",
    "8. Actor ethnicity (Freebase ID)\n",
    "9. Actor name\n",
    "10. Actor age at movie release\n",
    "11. Freebase character/actor map ID\n",
    "12. Freebase character ID\n",
    "13. Freebase actor ID\n"
   ]
  },
  {
   "cell_type": "code",
   "execution_count": 84,
   "metadata": {
    "colab": {
     "base_uri": "https://localhost:8080/",
     "height": 762
    },
    "id": "7xdjzblS39dT",
    "outputId": "9c609dff-a8d6-495a-f3c5-7e12ffb2639d"
   },
   "outputs": [
    {
     "data": {
      "text/html": [
       "<div>\n",
       "<style scoped>\n",
       "    .dataframe tbody tr th:only-of-type {\n",
       "        vertical-align: middle;\n",
       "    }\n",
       "\n",
       "    .dataframe tbody tr th {\n",
       "        vertical-align: top;\n",
       "    }\n",
       "\n",
       "    .dataframe thead th {\n",
       "        text-align: right;\n",
       "    }\n",
       "</style>\n",
       "<table border=\"1\" class=\"dataframe\">\n",
       "  <thead>\n",
       "    <tr style=\"text-align: right;\">\n",
       "      <th></th>\n",
       "      <th>Freebase ID</th>\n",
       "      <th>Release date</th>\n",
       "      <th>Character name</th>\n",
       "      <th>Date of birth</th>\n",
       "      <th>Gender</th>\n",
       "      <th>Height</th>\n",
       "      <th>Ethnicity</th>\n",
       "      <th>Actor name</th>\n",
       "      <th>Actor age at release</th>\n",
       "      <th>Freebase character/map ID</th>\n",
       "      <th>Freebase character ID</th>\n",
       "      <th>Freebase actor ID</th>\n",
       "    </tr>\n",
       "    <tr>\n",
       "      <th>Wikipedia ID</th>\n",
       "      <th></th>\n",
       "      <th></th>\n",
       "      <th></th>\n",
       "      <th></th>\n",
       "      <th></th>\n",
       "      <th></th>\n",
       "      <th></th>\n",
       "      <th></th>\n",
       "      <th></th>\n",
       "      <th></th>\n",
       "      <th></th>\n",
       "      <th></th>\n",
       "    </tr>\n",
       "  </thead>\n",
       "  <tbody>\n",
       "    <tr>\n",
       "      <th>975900</th>\n",
       "      <td>/m/03vyhn</td>\n",
       "      <td>2001-08-24</td>\n",
       "      <td>Akooshay</td>\n",
       "      <td>1958-08-26</td>\n",
       "      <td>F</td>\n",
       "      <td>1.620</td>\n",
       "      <td>NaN</td>\n",
       "      <td>Wanda De Jesus</td>\n",
       "      <td>42.0</td>\n",
       "      <td>/m/0bgchxw</td>\n",
       "      <td>/m/0bgcj3x</td>\n",
       "      <td>/m/03wcfv7</td>\n",
       "    </tr>\n",
       "    <tr>\n",
       "      <th>975900</th>\n",
       "      <td>/m/03vyhn</td>\n",
       "      <td>2001-08-24</td>\n",
       "      <td>Lieutenant Melanie Ballard</td>\n",
       "      <td>1974-08-15</td>\n",
       "      <td>F</td>\n",
       "      <td>1.780</td>\n",
       "      <td>/m/044038p</td>\n",
       "      <td>Natasha Henstridge</td>\n",
       "      <td>27.0</td>\n",
       "      <td>/m/0jys3m</td>\n",
       "      <td>/m/0bgchn4</td>\n",
       "      <td>/m/0346l4</td>\n",
       "    </tr>\n",
       "    <tr>\n",
       "      <th>975900</th>\n",
       "      <td>/m/03vyhn</td>\n",
       "      <td>2001-08-24</td>\n",
       "      <td>Desolation Williams</td>\n",
       "      <td>1969-06-15</td>\n",
       "      <td>M</td>\n",
       "      <td>1.727</td>\n",
       "      <td>/m/0x67</td>\n",
       "      <td>Ice Cube</td>\n",
       "      <td>32.0</td>\n",
       "      <td>/m/0jys3g</td>\n",
       "      <td>/m/0bgchn_</td>\n",
       "      <td>/m/01vw26l</td>\n",
       "    </tr>\n",
       "    <tr>\n",
       "      <th>975900</th>\n",
       "      <td>/m/03vyhn</td>\n",
       "      <td>2001-08-24</td>\n",
       "      <td>Sgt Jericho Butler</td>\n",
       "      <td>1967-09-12</td>\n",
       "      <td>M</td>\n",
       "      <td>1.750</td>\n",
       "      <td>NaN</td>\n",
       "      <td>Jason Statham</td>\n",
       "      <td>33.0</td>\n",
       "      <td>/m/02vchl6</td>\n",
       "      <td>/m/0bgchnq</td>\n",
       "      <td>/m/034hyc</td>\n",
       "    </tr>\n",
       "    <tr>\n",
       "      <th>975900</th>\n",
       "      <td>/m/03vyhn</td>\n",
       "      <td>2001-08-24</td>\n",
       "      <td>Bashira Kincaid</td>\n",
       "      <td>1977-09-25</td>\n",
       "      <td>F</td>\n",
       "      <td>1.650</td>\n",
       "      <td>NaN</td>\n",
       "      <td>Clea DuVall</td>\n",
       "      <td>23.0</td>\n",
       "      <td>/m/02vbb3r</td>\n",
       "      <td>/m/0bgchp9</td>\n",
       "      <td>/m/01y9xg</td>\n",
       "    </tr>\n",
       "    <tr>\n",
       "      <th>...</th>\n",
       "      <td>...</td>\n",
       "      <td>...</td>\n",
       "      <td>...</td>\n",
       "      <td>...</td>\n",
       "      <td>...</td>\n",
       "      <td>...</td>\n",
       "      <td>...</td>\n",
       "      <td>...</td>\n",
       "      <td>...</td>\n",
       "      <td>...</td>\n",
       "      <td>...</td>\n",
       "      <td>...</td>\n",
       "    </tr>\n",
       "    <tr>\n",
       "      <th>913762</th>\n",
       "      <td>/m/03pcrp</td>\n",
       "      <td>1992-05-21</td>\n",
       "      <td>Elensh</td>\n",
       "      <td>1970-05</td>\n",
       "      <td>F</td>\n",
       "      <td>NaN</td>\n",
       "      <td>NaN</td>\n",
       "      <td>Dorothy Elias-Fahn</td>\n",
       "      <td>NaN</td>\n",
       "      <td>/m/0kr406c</td>\n",
       "      <td>/m/0kr406h</td>\n",
       "      <td>/m/0b_vcv</td>\n",
       "    </tr>\n",
       "    <tr>\n",
       "      <th>913762</th>\n",
       "      <td>/m/03pcrp</td>\n",
       "      <td>1992-05-21</td>\n",
       "      <td>Hibiki</td>\n",
       "      <td>1965-04-12</td>\n",
       "      <td>M</td>\n",
       "      <td>NaN</td>\n",
       "      <td>NaN</td>\n",
       "      <td>Jonathan Fahn</td>\n",
       "      <td>27.0</td>\n",
       "      <td>/m/0kr405_</td>\n",
       "      <td>/m/0kr4090</td>\n",
       "      <td>/m/0bx7_j</td>\n",
       "    </tr>\n",
       "    <tr>\n",
       "      <th>28308153</th>\n",
       "      <td>/m/0cp05t9</td>\n",
       "      <td>1957</td>\n",
       "      <td>NaN</td>\n",
       "      <td>1941-11-18</td>\n",
       "      <td>M</td>\n",
       "      <td>1.730</td>\n",
       "      <td>/m/02w7gg</td>\n",
       "      <td>David Hemmings</td>\n",
       "      <td>15.0</td>\n",
       "      <td>/m/0g8ngmc</td>\n",
       "      <td>NaN</td>\n",
       "      <td>/m/022g44</td>\n",
       "    </tr>\n",
       "    <tr>\n",
       "      <th>28308153</th>\n",
       "      <td>/m/0cp05t9</td>\n",
       "      <td>1957</td>\n",
       "      <td>NaN</td>\n",
       "      <td>NaN</td>\n",
       "      <td>NaN</td>\n",
       "      <td>NaN</td>\n",
       "      <td>NaN</td>\n",
       "      <td>Roberta Paterson</td>\n",
       "      <td>NaN</td>\n",
       "      <td>/m/0g8ngmj</td>\n",
       "      <td>NaN</td>\n",
       "      <td>/m/0g8ngmm</td>\n",
       "    </tr>\n",
       "    <tr>\n",
       "      <th>28308153</th>\n",
       "      <td>/m/0cp05t9</td>\n",
       "      <td>1957</td>\n",
       "      <td>NaN</td>\n",
       "      <td>NaN</td>\n",
       "      <td>NaN</td>\n",
       "      <td>NaN</td>\n",
       "      <td>NaN</td>\n",
       "      <td>John Rogers</td>\n",
       "      <td>NaN</td>\n",
       "      <td>/m/0g8ngmw</td>\n",
       "      <td>NaN</td>\n",
       "      <td>/m/0btz19d</td>\n",
       "    </tr>\n",
       "  </tbody>\n",
       "</table>\n",
       "<p>450669 rows × 12 columns</p>\n",
       "</div>"
      ],
      "text/plain": [
       "             Freebase ID Release date              Character name  \\\n",
       "Wikipedia ID                                                        \n",
       "975900         /m/03vyhn   2001-08-24                    Akooshay   \n",
       "975900         /m/03vyhn   2001-08-24  Lieutenant Melanie Ballard   \n",
       "975900         /m/03vyhn   2001-08-24         Desolation Williams   \n",
       "975900         /m/03vyhn   2001-08-24          Sgt Jericho Butler   \n",
       "975900         /m/03vyhn   2001-08-24             Bashira Kincaid   \n",
       "...                  ...          ...                         ...   \n",
       "913762         /m/03pcrp   1992-05-21                      Elensh   \n",
       "913762         /m/03pcrp   1992-05-21                      Hibiki   \n",
       "28308153      /m/0cp05t9         1957                         NaN   \n",
       "28308153      /m/0cp05t9         1957                         NaN   \n",
       "28308153      /m/0cp05t9         1957                         NaN   \n",
       "\n",
       "             Date of birth Gender  Height   Ethnicity          Actor name  \\\n",
       "Wikipedia ID                                                                \n",
       "975900          1958-08-26      F   1.620         NaN      Wanda De Jesus   \n",
       "975900          1974-08-15      F   1.780  /m/044038p  Natasha Henstridge   \n",
       "975900          1969-06-15      M   1.727     /m/0x67            Ice Cube   \n",
       "975900          1967-09-12      M   1.750         NaN       Jason Statham   \n",
       "975900          1977-09-25      F   1.650         NaN         Clea DuVall   \n",
       "...                    ...    ...     ...         ...                 ...   \n",
       "913762             1970-05      F     NaN         NaN  Dorothy Elias-Fahn   \n",
       "913762          1965-04-12      M     NaN         NaN       Jonathan Fahn   \n",
       "28308153        1941-11-18      M   1.730   /m/02w7gg      David Hemmings   \n",
       "28308153               NaN    NaN     NaN         NaN    Roberta Paterson   \n",
       "28308153               NaN    NaN     NaN         NaN         John Rogers   \n",
       "\n",
       "              Actor age at release Freebase character/map ID  \\\n",
       "Wikipedia ID                                                   \n",
       "975900                        42.0                /m/0bgchxw   \n",
       "975900                        27.0                 /m/0jys3m   \n",
       "975900                        32.0                 /m/0jys3g   \n",
       "975900                        33.0                /m/02vchl6   \n",
       "975900                        23.0                /m/02vbb3r   \n",
       "...                            ...                       ...   \n",
       "913762                         NaN                /m/0kr406c   \n",
       "913762                        27.0                /m/0kr405_   \n",
       "28308153                      15.0                /m/0g8ngmc   \n",
       "28308153                       NaN                /m/0g8ngmj   \n",
       "28308153                       NaN                /m/0g8ngmw   \n",
       "\n",
       "             Freebase character ID Freebase actor ID  \n",
       "Wikipedia ID                                          \n",
       "975900                  /m/0bgcj3x        /m/03wcfv7  \n",
       "975900                  /m/0bgchn4         /m/0346l4  \n",
       "975900                  /m/0bgchn_        /m/01vw26l  \n",
       "975900                  /m/0bgchnq         /m/034hyc  \n",
       "975900                  /m/0bgchp9         /m/01y9xg  \n",
       "...                            ...               ...  \n",
       "913762                  /m/0kr406h         /m/0b_vcv  \n",
       "913762                  /m/0kr4090         /m/0bx7_j  \n",
       "28308153                       NaN         /m/022g44  \n",
       "28308153                       NaN        /m/0g8ngmm  \n",
       "28308153                       NaN        /m/0btz19d  \n",
       "\n",
       "[450669 rows x 12 columns]"
      ]
     },
     "execution_count": 84,
     "metadata": {},
     "output_type": "execute_result"
    }
   ],
   "source": [
    "char_path = 'Data/MovieSummaries/character.metadata.tsv'\n",
    "char_cols = ['Wikipedia ID', 'Freebase ID', 'Release date', 'Character name', 'Date of birth', \n",
    "             'Gender', 'Height', 'Ethnicity', 'Actor name', 'Actor age at release', \n",
    "             'Freebase character/map ID', 'Freebase character ID', 'Freebase actor ID']\n",
    "char_df = pd.read_csv(char_path, sep='\\t', header=None, names=char_cols, index_col=0)\n",
    "char_df"
   ]
  },
  {
   "cell_type": "markdown",
   "metadata": {
    "collapsed": false
   },
   "source": [
    "## General analysis"
   ]
  },
  {
   "cell_type": "markdown",
   "metadata": {
    "collapsed": false
   },
   "source": [
    "### -Analysis romantic genres"
   ]
  },
  {
   "cell_type": "code",
   "execution_count": 85,
   "metadata": {
    "collapsed": false
   },
   "outputs": [],
   "source": [
    "##One notices that there are several types of romantic movies: romantic comedy, romance film, romantic drama\n",
    "romance_genres = ['Romantic comedy', 'Romance Film', 'Romantic drama', 'Romantic fantasy', 'Romantic thriller']\n",
    "romance_movies = movie_df[movie_df['Genres'].apply(lambda x: any(y in romance_genres for y in x) if type(x) == list else False)]"
   ]
  },
  {
   "cell_type": "code",
   "execution_count": 86,
   "metadata": {
    "collapsed": false
   },
   "outputs": [
    {
     "name": "stdout",
     "output_type": "stream",
     "text": [
      "Roman 11131\n",
      "Romantic comedies:  2680 \n",
      "Romantic films:  10234 \n",
      "Romantic drama:  3372 \n",
      "Romantic fantasy:  72 \n",
      "Romantic thriller:  1\n",
      "Total number of films:  81741\n"
     ]
    },
    {
     "name": "stderr",
     "output_type": "stream",
     "text": [
      "/var/folders/rh/x2hr79s123s3bct3lj6kl28w0000gn/T/ipykernel_47608/4191339270.py:2: UserWarning: Boolean Series key will be reindexed to match DataFrame index.\n",
      "  romantic_comedy = romance_movies[movie_df['Genres'].apply(lambda x: any(y in romance_genres[0] for y in x) if type(x) == list else False)]\n",
      "/var/folders/rh/x2hr79s123s3bct3lj6kl28w0000gn/T/ipykernel_47608/4191339270.py:3: UserWarning: Boolean Series key will be reindexed to match DataFrame index.\n",
      "  romantic_film = romance_movies[movie_df['Genres'].apply(lambda x: any(y in romance_genres[1] for y in x) if type(x) == list else False)]\n",
      "/var/folders/rh/x2hr79s123s3bct3lj6kl28w0000gn/T/ipykernel_47608/4191339270.py:4: UserWarning: Boolean Series key will be reindexed to match DataFrame index.\n",
      "  romantic_drama = romance_movies[movie_df['Genres'].apply(lambda x: any(y in romance_genres[2] for y in x) if type(x) == list else False)]\n",
      "/var/folders/rh/x2hr79s123s3bct3lj6kl28w0000gn/T/ipykernel_47608/4191339270.py:5: UserWarning: Boolean Series key will be reindexed to match DataFrame index.\n",
      "  romantic_fantasy = romance_movies[movie_df['Genres'].apply(lambda x: any(y in romance_genres[3] for y in x) if type(x) == list else False)]\n",
      "/var/folders/rh/x2hr79s123s3bct3lj6kl28w0000gn/T/ipykernel_47608/4191339270.py:6: UserWarning: Boolean Series key will be reindexed to match DataFrame index.\n",
      "  romantic_thriller = romance_movies[movie_df['Genres'].apply(lambda x: any(y in romance_genres[4] for y in x) if type(x) == list else False)]\n"
     ]
    }
   ],
   "source": [
    "#Organize by category\n",
    "romantic_comedy = romance_movies[movie_df['Genres'].apply(lambda x: any(y in romance_genres[0] for y in x) if type(x) == list else False)]\n",
    "romantic_film = romance_movies[movie_df['Genres'].apply(lambda x: any(y in romance_genres[1] for y in x) if type(x) == list else False)]\n",
    "romantic_drama = romance_movies[movie_df['Genres'].apply(lambda x: any(y in romance_genres[2] for y in x) if type(x) == list else False)]\n",
    "romantic_fantasy = romance_movies[movie_df['Genres'].apply(lambda x: any(y in romance_genres[3] for y in x) if type(x) == list else False)]\n",
    "romantic_thriller = romance_movies[movie_df['Genres'].apply(lambda x: any(y in romance_genres[4] for y in x) if type(x) == list else False)]\n",
    "\n",
    "print('Roman' , romance_movies.shape[0])\n",
    "print('Romantic comedies: ', romantic_comedy.shape[0], '\\nRomantic films: ', romantic_film.shape[0], '\\nRomantic drama: ', romantic_drama.shape[0], '\\nRomantic fantasy: ', romantic_fantasy.shape[0], '\\nRomantic thriller: ', romantic_thriller.shape[0])\n",
    "print('Total number of films: ', movie_df.shape[0])"
   ]
  },
  {
   "cell_type": "markdown",
   "metadata": {
    "collapsed": false
   },
   "source": [
    "### Romantic movies runtime"
   ]
  },
  {
   "cell_type": "code",
   "execution_count": 87,
   "metadata": {},
   "outputs": [],
   "source": [
    "##Should correct outliers\n",
    "#combined_runtime = pd.DataFrame({'Romantic comedy': romantic_comedy['Runtime'], 'Romance Film': romantic_film['Runtime'], 'Romantic drama': romantic_drama['Runtime'], 'Romantic fantasy': romantic_fantasy['Runtime']})\n",
    "#sns.boxplot(combined_runtime)"
   ]
  },
  {
   "cell_type": "code",
   "execution_count": 88,
   "metadata": {},
   "outputs": [
    {
     "data": {
      "text/plain": [
       "<matplotlib.legend.Legend at 0x2a61ebc40>"
      ]
     },
     "execution_count": 88,
     "metadata": {},
     "output_type": "execute_result"
    },
    {
     "data": {
      "image/png": "[encoded data removed]",
      "text/plain": [
       "<Figure size 640x480 with 1 Axes>"
      ]
     },
     "metadata": {},
     "output_type": "display_data"
    }
   ],
   "source": [
    "ax = sns.kdeplot(romantic_comedy['Runtime'], color='blue')\n",
    "ax = sns.kdeplot(romantic_drama['Runtime'], color='green')\n",
    "ax = sns.kdeplot(romantic_film['Runtime'], color='red')\n",
    "ax = sns.kdeplot(romantic_fantasy['Runtime'], color='orange')\n",
    "ax.set_xlim(0,250)\n",
    "ax.legend(['Romantic comedy', 'Romantic drama', 'Romance Film', 'Romantic fantasy'])\n"
   ]
  },
  {
   "cell_type": "markdown",
   "metadata": {
    "collapsed": false
   },
   "source": [
    "### Romantic movies box office revenue"
   ]
  },
  {
   "cell_type": "code",
   "execution_count": 89,
   "metadata": {
    "collapsed": false
   },
   "outputs": [],
   "source": [
    "#Does not give a good view\n",
    "#combined_box_office = pd.DataFrame({'Romantic comedy': romantic_comedy['Box office revenue'], 'Romance Film': romantic_film['Box office revenue'], 'Romantic drama': romantic_drama['Box office revenue'], 'Romantic fantasy': romantic_fantasy['Box office revenue']})\n",
    "#sns.boxplot(combined_box_office)"
   ]
  },
  {
   "cell_type": "code",
   "execution_count": 90,
   "metadata": {
    "collapsed": false
   },
   "outputs": [
    {
     "data": {
      "text/plain": [
       "<matplotlib.legend.Legend at 0x29aa90880>"
      ]
     },
     "execution_count": 90,
     "metadata": {},
     "output_type": "execute_result"
    },
    {
     "data": {
      "image/png": "[encoded data removed]",
      "text/plain": [
       "<Figure size 640x480 with 1 Axes>"
      ]
     },
     "metadata": {},
     "output_type": "display_data"
    }
   ],
   "source": [
    "ax = sns.kdeplot(romantic_comedy['Box office revenue'], log_scale=True, color='blue')\n",
    "ax = sns.kdeplot(romantic_drama['Box office revenue'], log_scale=True, color='green')\n",
    "ax = sns.kdeplot(romantic_film['Box office revenue'], log_scale=True, color='red')\n",
    "ax = sns.kdeplot(romantic_fantasy['Box office revenue'], log_scale=True, color='orange')\n",
    "ax.legend(['Romantic comedy', 'Romantic drama', 'Romance Film', 'Romantic fantasy'])\n"
   ]
  },
  {
   "cell_type": "markdown",
   "metadata": {
    "collapsed": false
   },
   "source": [
    "### Romantic movies countries"
   ]
  },
  {
   "cell_type": "code",
   "execution_count": 93,
   "metadata": {},
   "outputs": [
    {
     "data": {
      "text/html": [
       "<div>\n",
       "<style scoped>\n",
       "    .dataframe tbody tr th:only-of-type {\n",
       "        vertical-align: middle;\n",
       "    }\n",
       "\n",
       "    .dataframe tbody tr th {\n",
       "        vertical-align: top;\n",
       "    }\n",
       "\n",
       "    .dataframe thead th {\n",
       "        text-align: right;\n",
       "    }\n",
       "</style>\n",
       "<table border=\"1\" class=\"dataframe\">\n",
       "  <thead>\n",
       "    <tr style=\"text-align: right;\">\n",
       "      <th></th>\n",
       "      <th>Freebase ID</th>\n",
       "      <th>Name</th>\n",
       "      <th>Release date</th>\n",
       "      <th>Box office revenue</th>\n",
       "      <th>Runtime</th>\n",
       "      <th>Languages</th>\n",
       "      <th>Countries</th>\n",
       "      <th>Genres</th>\n",
       "    </tr>\n",
       "    <tr>\n",
       "      <th>Wikipedia ID</th>\n",
       "      <th></th>\n",
       "      <th></th>\n",
       "      <th></th>\n",
       "      <th></th>\n",
       "      <th></th>\n",
       "      <th></th>\n",
       "      <th></th>\n",
       "      <th></th>\n",
       "    </tr>\n",
       "  </thead>\n",
       "  <tbody>\n",
       "    <tr>\n",
       "      <th>6631279</th>\n",
       "      <td>/m/0gffwj</td>\n",
       "      <td>Little city</td>\n",
       "      <td>1997-04-04</td>\n",
       "      <td>NaN</td>\n",
       "      <td>93.0</td>\n",
       "      <td>[English]</td>\n",
       "      <td>[United States of America]</td>\n",
       "      <td>[Romantic comedy, Ensemble Film, Comedy-drama,...</td>\n",
       "    </tr>\n",
       "    <tr>\n",
       "      <th>21926710</th>\n",
       "      <td>/m/05p45cv</td>\n",
       "      <td>White on Rice</td>\n",
       "      <td>2009</td>\n",
       "      <td>NaN</td>\n",
       "      <td>82.0</td>\n",
       "      <td>NaN</td>\n",
       "      <td>[United States of America]</td>\n",
       "      <td>[Romantic comedy, Romance Film, Comedy, Indie]</td>\n",
       "    </tr>\n",
       "    <tr>\n",
       "      <th>26067101</th>\n",
       "      <td>/m/0b6c_nw</td>\n",
       "      <td>Siam Sunset</td>\n",
       "      <td>1999</td>\n",
       "      <td>NaN</td>\n",
       "      <td>91.0</td>\n",
       "      <td>NaN</td>\n",
       "      <td>[Australia, New Zealand]</td>\n",
       "      <td>[Romantic comedy, Romance Film, Comedy, World ...</td>\n",
       "    </tr>\n",
       "    <tr>\n",
       "      <th>12053509</th>\n",
       "      <td>/m/02vn81r</td>\n",
       "      <td>Loverboy</td>\n",
       "      <td>1989-04-28</td>\n",
       "      <td>3960327.0</td>\n",
       "      <td>98.0</td>\n",
       "      <td>[English]</td>\n",
       "      <td>[United States of America]</td>\n",
       "      <td>[Romantic comedy, Romance Film, Comedy]</td>\n",
       "    </tr>\n",
       "    <tr>\n",
       "      <th>7028314</th>\n",
       "      <td>/m/0h10pz</td>\n",
       "      <td>The Little Hut</td>\n",
       "      <td>1957-05-03</td>\n",
       "      <td>3600000.0</td>\n",
       "      <td>90.0</td>\n",
       "      <td>[English]</td>\n",
       "      <td>[United States of America]</td>\n",
       "      <td>[Romantic comedy, Romance Film, Comedy]</td>\n",
       "    </tr>\n",
       "    <tr>\n",
       "      <th>...</th>\n",
       "      <td>...</td>\n",
       "      <td>...</td>\n",
       "      <td>...</td>\n",
       "      <td>...</td>\n",
       "      <td>...</td>\n",
       "      <td>...</td>\n",
       "      <td>...</td>\n",
       "      <td>...</td>\n",
       "    </tr>\n",
       "    <tr>\n",
       "      <th>1001692</th>\n",
       "      <td>/m/03y72s</td>\n",
       "      <td>The Divorce of Lady X</td>\n",
       "      <td>1938</td>\n",
       "      <td>NaN</td>\n",
       "      <td>92.0</td>\n",
       "      <td>[English]</td>\n",
       "      <td>[United Kingdom]</td>\n",
       "      <td>[Romantic comedy, Romance Film, Comedy of Erro...</td>\n",
       "    </tr>\n",
       "    <tr>\n",
       "      <th>25655938</th>\n",
       "      <td>/m/09v7p4g</td>\n",
       "      <td>I Was a Mail Order Bride</td>\n",
       "      <td>1982-12-14</td>\n",
       "      <td>NaN</td>\n",
       "      <td>92.0</td>\n",
       "      <td>[English]</td>\n",
       "      <td>[United States of America]</td>\n",
       "      <td>[Romantic comedy]</td>\n",
       "    </tr>\n",
       "    <tr>\n",
       "      <th>11823946</th>\n",
       "      <td>/m/02rtqvb</td>\n",
       "      <td>Twelfth Night: Or What You Will</td>\n",
       "      <td>1996-10-25</td>\n",
       "      <td>588621.0</td>\n",
       "      <td>134.0</td>\n",
       "      <td>[English]</td>\n",
       "      <td>[United States of America, Ireland, United Kin...</td>\n",
       "      <td>[Romantic comedy, Romance Film, Drama, Comedy,...</td>\n",
       "    </tr>\n",
       "    <tr>\n",
       "      <th>30553937</th>\n",
       "      <td>/m/0g9ts5h</td>\n",
       "      <td>Confessions of a Sexist Pig</td>\n",
       "      <td>1998-03-07</td>\n",
       "      <td>NaN</td>\n",
       "      <td>91.0</td>\n",
       "      <td>[English]</td>\n",
       "      <td>[United States of America]</td>\n",
       "      <td>[Romantic comedy, Comedy]</td>\n",
       "    </tr>\n",
       "    <tr>\n",
       "      <th>54540</th>\n",
       "      <td>/m/0f7hw</td>\n",
       "      <td>Coming to America</td>\n",
       "      <td>1988-06-29</td>\n",
       "      <td>288752301.0</td>\n",
       "      <td>117.0</td>\n",
       "      <td>[English]</td>\n",
       "      <td>[United States of America]</td>\n",
       "      <td>[Romantic comedy, Comedy of manners, Drama, Co...</td>\n",
       "    </tr>\n",
       "  </tbody>\n",
       "</table>\n",
       "<p>2680 rows × 8 columns</p>\n",
       "</div>"
      ],
      "text/plain": [
       "             Freebase ID                             Name Release date  \\\n",
       "Wikipedia ID                                                             \n",
       "6631279        /m/0gffwj                      Little city   1997-04-04   \n",
       "21926710      /m/05p45cv                    White on Rice         2009   \n",
       "26067101      /m/0b6c_nw                      Siam Sunset         1999   \n",
       "12053509      /m/02vn81r                         Loverboy   1989-04-28   \n",
       "7028314        /m/0h10pz                   The Little Hut   1957-05-03   \n",
       "...                  ...                              ...          ...   \n",
       "1001692        /m/03y72s            The Divorce of Lady X         1938   \n",
       "25655938      /m/09v7p4g         I Was a Mail Order Bride   1982-12-14   \n",
       "11823946      /m/02rtqvb  Twelfth Night: Or What You Will   1996-10-25   \n",
       "30553937      /m/0g9ts5h      Confessions of a Sexist Pig   1998-03-07   \n",
       "54540           /m/0f7hw                Coming to America   1988-06-29   \n",
       "\n",
       "              Box office revenue  Runtime  Languages  \\\n",
       "Wikipedia ID                                           \n",
       "6631279                      NaN     93.0  [English]   \n",
       "21926710                     NaN     82.0        NaN   \n",
       "26067101                     NaN     91.0        NaN   \n",
       "12053509               3960327.0     98.0  [English]   \n",
       "7028314                3600000.0     90.0  [English]   \n",
       "...                          ...      ...        ...   \n",
       "1001692                      NaN     92.0  [English]   \n",
       "25655938                     NaN     92.0  [English]   \n",
       "11823946                588621.0    134.0  [English]   \n",
       "30553937                     NaN     91.0  [English]   \n",
       "54540                288752301.0    117.0  [English]   \n",
       "\n",
       "                                                      Countries  \\\n",
       "Wikipedia ID                                                      \n",
       "6631279                              [United States of America]   \n",
       "21926710                             [United States of America]   \n",
       "26067101                               [Australia, New Zealand]   \n",
       "12053509                             [United States of America]   \n",
       "7028314                              [United States of America]   \n",
       "...                                                         ...   \n",
       "1001692                                        [United Kingdom]   \n",
       "25655938                             [United States of America]   \n",
       "11823946      [United States of America, Ireland, United Kin...   \n",
       "30553937                             [United States of America]   \n",
       "54540                                [United States of America]   \n",
       "\n",
       "                                                         Genres  \n",
       "Wikipedia ID                                                     \n",
       "6631279       [Romantic comedy, Ensemble Film, Comedy-drama,...  \n",
       "21926710         [Romantic comedy, Romance Film, Comedy, Indie]  \n",
       "26067101      [Romantic comedy, Romance Film, Comedy, World ...  \n",
       "12053509                [Romantic comedy, Romance Film, Comedy]  \n",
       "7028314                 [Romantic comedy, Romance Film, Comedy]  \n",
       "...                                                         ...  \n",
       "1001692       [Romantic comedy, Romance Film, Comedy of Erro...  \n",
       "25655938                                      [Romantic comedy]  \n",
       "11823946      [Romantic comedy, Romance Film, Drama, Comedy,...  \n",
       "30553937                              [Romantic comedy, Comedy]  \n",
       "54540         [Romantic comedy, Comedy of manners, Drama, Co...  \n",
       "\n",
       "[2680 rows x 8 columns]"
      ]
     },
     "execution_count": 93,
     "metadata": {},
     "output_type": "execute_result"
    }
   ],
   "source": [
    "romantic_comedy"
   ]
  },
  {
   "cell_type": "code",
   "execution_count": 96,
   "metadata": {
    "collapsed": false
   },
   "outputs": [
    {
     "name": "stdout",
     "output_type": "stream",
     "text": [
      "Percentage romantic comedy movie countries > 1:  0.14 %\n",
      "Other countries can be added in code...\n"
     ]
    },
    {
     "name": "stderr",
     "output_type": "stream",
     "text": [
      "/var/folders/rh/x2hr79s123s3bct3lj6kl28w0000gn/T/ipykernel_47608/2615585845.py:2: SettingWithCopyWarning: \n",
      "A value is trying to be set on a copy of a slice from a DataFrame.\n",
      "Try using .loc[row_indexer,col_indexer] = value instead\n",
      "\n",
      "See the caveats in the documentation: https://pandas.pydata.org/pandas-docs/stable/user_guide/indexing.html#returning-a-view-versus-a-copy\n",
      "  romantic_comedy['number_countries'] = romantic_comedy['Countries'].apply(get_countries)\n",
      "/var/folders/rh/x2hr79s123s3bct3lj6kl28w0000gn/T/ipykernel_47608/2615585845.py:3: SettingWithCopyWarning: \n",
      "A value is trying to be set on a copy of a slice from a DataFrame.\n",
      "Try using .loc[row_indexer,col_indexer] = value instead\n",
      "\n",
      "See the caveats in the documentation: https://pandas.pydata.org/pandas-docs/stable/user_guide/indexing.html#returning-a-view-versus-a-copy\n",
      "  romantic_fantasy['number_countries'] = romantic_fantasy['Countries'].apply(get_countries)\n",
      "/var/folders/rh/x2hr79s123s3bct3lj6kl28w0000gn/T/ipykernel_47608/2615585845.py:4: SettingWithCopyWarning: \n",
      "A value is trying to be set on a copy of a slice from a DataFrame.\n",
      "Try using .loc[row_indexer,col_indexer] = value instead\n",
      "\n",
      "See the caveats in the documentation: https://pandas.pydata.org/pandas-docs/stable/user_guide/indexing.html#returning-a-view-versus-a-copy\n",
      "  romantic_film['number_countries'] = romantic_film['Countries'].apply(get_countries)\n",
      "/var/folders/rh/x2hr79s123s3bct3lj6kl28w0000gn/T/ipykernel_47608/2615585845.py:5: SettingWithCopyWarning: \n",
      "A value is trying to be set on a copy of a slice from a DataFrame.\n",
      "Try using .loc[row_indexer,col_indexer] = value instead\n",
      "\n",
      "See the caveats in the documentation: https://pandas.pydata.org/pandas-docs/stable/user_guide/indexing.html#returning-a-view-versus-a-copy\n",
      "  romantic_drama['number_countries'] = romantic_drama['Countries'].apply(get_countries)\n"
     ]
    }
   ],
   "source": [
    "get_countries = lambda x: len(x) if type(x) == list else np.nan\n",
    "romantic_comedy['number_countries'] = romantic_comedy['Countries'].apply(get_countries)\n",
    "romantic_fantasy['number_countries'] = romantic_fantasy['Countries'].apply(get_countries)\n",
    "romantic_film['number_countries'] = romantic_film['Countries'].apply(get_countries)\n",
    "romantic_drama['number_countries'] = romantic_drama['Countries'].apply(get_countries)\n",
    "\n",
    "combined_numb_countries = pd.DataFrame({\n",
    "    'Romantic comedy': romantic_comedy['number_countries'], \n",
    "    'Romance Film': romantic_film['number_countries'], \n",
    "    'Romantic drama': romantic_drama['number_countries'], \n",
    "    'Romantic fantasy': romantic_fantasy['number_countries']})\n",
    "\n",
    "print('Percentage romantic comedy movie countries > 1: ', round(romantic_comedy[romantic_comedy['number_countries']> 1].shape[0]/romantic_comedy.shape[0], 2), '%')\n",
    "print('Other countries can be added in code...')"
   ]
  },
  {
   "cell_type": "markdown",
   "metadata": {
    "collapsed": false
   },
   "source": [
    "### Movie languages"
   ]
  },
  {
   "cell_type": "code",
   "execution_count": 99,
   "metadata": {
    "collapsed": false
   },
   "outputs": [
    {
     "name": "stdout",
     "output_type": "stream",
     "text": [
      "5 most common languages in movies are: \n",
      "['English' 'Hindi' 'Spanish' 'French' 'Silent film']\n",
      "5 most common languages in romantic movies: \n",
      "['English' 'Hindi' 'French' 'Tamil' 'Spanish']\n",
      "\n",
      "5 most common languages in romantic comedies: \n",
      "['English' 'French' 'Hindi' 'Spanish' 'Italian']\n"
     ]
    }
   ],
   "source": [
    "#Get languages whole movie set\n",
    "movies_language = movie_df[movie_df['Languages'].notnull()]\n",
    "languages=movies_language['Languages'].sum()\n",
    "values, counts = np.unique(languages, return_counts=True)\n",
    "print('5 most common languages in movies are: ')\n",
    "print(values[counts.argsort()[-5:][::-1]])\n",
    "\n",
    "#Get languages romantic movies overall\n",
    "romance_movies_lang = romance_movies[romance_movies['Languages'].notnull()]\n",
    "languages_romance = romance_movies_lang.Languages.sum()\n",
    "values, counts = np.unique(languages_romance, return_counts=True)\n",
    "print('5 most common languages in romantic movies: ')\n",
    "print(values[counts.argsort()[-5:][::-1]])\n",
    "\n",
    "\n",
    "rom_com_known = romantic_comedy[romantic_comedy['Languages'].notnull()]\n",
    "languages_romcom = rom_com_known.Languages.sum()\n",
    "values, counts = np.unique(languages_romcom, return_counts=True)\n",
    "print('\\n5 most common languages in romantic comedies: ')\n",
    "print(values[counts.argsort()[-5:][::-1]])"
   ]
  },
  {
   "cell_type": "markdown",
   "metadata": {
    "id": "ifnIh1uE39dU"
   },
   "source": [
    "### 4. CoreNLP Plot Summaries\n",
    "\n",
    "`corenlp_plot_summaries.tar.gz [628 M, separate download]`: The plot summaries from above, run through the Stanford CoreNLP pipeline (tagging, parsing, NER and coref). Each filename begins with the Wikipedia movie ID (which indexes into movie.metadata.tsv).\n",
    "\n",
    "Note: Extraction takes 15min42s, while conversion takes 33s. "
   ]
  },
  {
   "cell_type": "code",
   "execution_count": 58,
   "metadata": {},
   "outputs": [],
   "source": [
    "# Extract all coreNLP files to Data/CoreNLP\n",
    "if not os.path.exists('Data/CoreNLP'):\n",
    "    coreNLPfilename = 'http://www.cs.cmu.edu/~ark/personas/data/corenlp_plot_summaries.tar'\n",
    "    my_tar = tarfile.open(fileobj=urllib.request.urlopen(coreNLPfilename), mode=\"r|\") \n",
    "    my_tar.extractall(path='./Data/CoreNLP') # specify which folder to extract to\n",
    "    my_tar.close()"
   ]
  },
  {
   "cell_type": "code",
   "execution_count": 59,
   "metadata": {},
   "outputs": [],
   "source": [
    "# Convert every file in directory Data/CoreNLP to xml format\n",
    "raw_dir = 'Data/CoreNLP/corenlp_plot_summaries'\n",
    "extracted_dir = 'Data/CoreNLP/corenlp_plot_summaries_xml'\n",
    "os.mkdir(extracted_dir)\n",
    "for filename in os.listdir(raw_dir):\n",
    "    f = os.path.join(raw_dir, filename) \n",
    "    if os.path.isfile(f):\n",
    "        # Open and store file as xml \n",
    "        with gzip.open(f, 'rb') as f_in:\n",
    "            gz_file = os.path.join(extracted_dir, filename)\n",
    "            with open(gz_file[:-3], 'wb') as f_out:\n",
    "                f_out.write(f_in.read())\n"
   ]
  },
  {
   "cell_type": "code",
   "execution_count": 63,
   "metadata": {
    "colab": {
     "base_uri": "https://localhost:8080/"
    },
    "id": "gfYMmpwSGxMD",
    "outputId": "c45a3a93-e2ae-4785-f362-814836b0be1a"
   },
   "outputs": [
    {
     "name": "stdout",
     "output_type": "stream",
     "text": [
      "1220\n",
      "ORGANIZATION\n",
      "ORGANIZATION\n",
      "DATE\n",
      "PERSON\n",
      "PERSON\n",
      "ORGANIZATION\n",
      "ORGANIZATION\n",
      "PERSON\n",
      "PERSON\n",
      "MISC\n",
      "PERSON\n",
      "MISC\n",
      "MISC\n",
      "PERSON\n",
      "PERSON\n",
      "NUMBER\n",
      "ORGANIZATION\n",
      "MISC\n",
      "MISC\n",
      "MISC\n",
      "MISC\n",
      "PERSON\n",
      "PERSON\n",
      "LOCATION\n",
      "NUMBER\n",
      "ORGANIZATION\n",
      "LOCATION\n",
      "ORGANIZATION\n",
      "ORGANIZATION\n",
      "NUMBER\n",
      "NUMBER\n",
      "NUMBER\n",
      "PERSON\n",
      "MISC\n",
      "ORGANIZATION\n",
      "ORGANIZATION\n",
      "ORGANIZATION\n",
      "MISC\n",
      "PERSON\n",
      "PERSON\n",
      "ORGANIZATION\n",
      "DATE\n",
      "ORGANIZATION\n",
      "ORGANIZATION\n",
      "NUMBER\n",
      "ORGANIZATION\n",
      "ORGANIZATION\n",
      "PERSON\n",
      "ORGANIZATION\n",
      "ORGANIZATION\n",
      "ORGANIZATION\n",
      "LOCATION\n",
      "ORGANIZATION\n",
      "ORGANIZATION\n"
     ]
    }
   ],
   "source": [
    "#Use file I already extracted on my computer to run some tests\n",
    "import xml.etree.ElementTree as ET\n",
    "tree = ET.parse('Data/CoreNLP/corenlp_plot_summaries_xml/3217.xml')\n",
    "root = tree.getroot()\n",
    "\n",
    "#NER tag = person can give us the characters mention in the plot summary. \n",
    "\n",
    "print(len(root.findall('.//*governor'))) #use parse or basic-dependencies to have more info \n",
    "#print(root.findall('.//*governor').text())\n",
    "for l in root.findall('.//*NER'): \n",
    "  if len(l.text) > 1:\n",
    "    print(l.text)\n"
   ]
  },
  {
   "cell_type": "markdown",
   "metadata": {
    "id": "3BHCfeenl6-3"
   },
   "source": [
    "### 5. TV Tropes Clusters\n",
    "\n",
    "We reformat the file `tvtropes.clusters.txt` so it is easier to use."
   ]
  },
  {
   "cell_type": "code",
   "execution_count": null,
   "metadata": {
    "colab": {
     "base_uri": "https://localhost:8080/",
     "height": 537
    },
    "id": "25-cuhaOhxw9",
    "outputId": "40ae44d8-796f-48e2-8031-d686eea18f07"
   },
   "outputs": [],
   "source": [
    "path = 'Data/MovieSummaries/'\n",
    "cluster_path = path+'tvtropes.clusters.format.txt'\n",
    "cluster_cols = ['Cluster', 'Character name', 'Movie', 'Freebase character/map ID', 'Actor']\n",
    "cluster_df = pd.read_csv(cluster_path, sep=',', header=None, names=cluster_cols, dtype = {'Freebase ID': str})\n",
    "cluster_df"
   ]
  },
  {
   "cell_type": "markdown",
   "metadata": {
    "id": "OFbHAkx-mHwA"
   },
   "source": [
    "### 6. Join cluster and movies\n",
    "\n",
    " We now join the TV tropes clusters with movie.metadata so we are able to access movie genre and filter on romance. "
   ]
  },
  {
   "cell_type": "code",
   "execution_count": null,
   "metadata": {
    "colab": {
     "base_uri": "https://localhost:8080/"
    },
    "id": "1J_1KXB40qbR",
    "outputId": "02b73165-d4d5-4d24-e13f-1b8c8e5b7560"
   },
   "outputs": [],
   "source": [
    "cluster_char = cluster_df.merge(char_df, on='Freebase character/map ID')\n",
    "cluster_char_movie = cluster_char.merge(movie_df, on='Freebase ID')\n",
    "romance_cluster = cluster_char_movie[cluster_char_movie['Genres'].apply(lambda x: 'Roman' in x)]\n",
    "romance_cluster.groupby(romance_cluster['Cluster']).size().sort_values(ascending=False)"
   ]
  },
  {
   "cell_type": "code",
   "execution_count": null,
   "metadata": {},
   "outputs": [],
   "source": []
  },
  {
   "cell_type": "code",
   "execution_count": null,
   "metadata": {},
   "outputs": [],
   "source": []
  }
 ],
 "metadata": {
  "colab": {
   "provenance": []
  },
  "kernelspec": {
   "display_name": "Python 3.9.6 64-bit",
   "language": "python",
   "name": "python3"
  },
  "language_info": {
   "codemirror_mode": {
    "name": "ipython",
    "version": 3
   },
   "file_extension": ".py",
   "mimetype": "text/x-python",
   "name": "python",
   "nbconvert_exporter": "python",
   "pygments_lexer": "ipython3",
   "version": "3.9.6"
  },
  "vscode": {
   "interpreter": {
    "hash": "31f2aee4e71d21fbe5cf8b01ff0e069b9275f58929596ceb00d14d90e3e16cd6"
   }
  }
 },
 "nbformat": 4,
 "nbformat_minor": 0
}
