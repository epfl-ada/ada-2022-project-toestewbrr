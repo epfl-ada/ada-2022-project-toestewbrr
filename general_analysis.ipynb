{
 "cells": [
  {
   "cell_type": "markdown",
   "metadata": {
    "collapsed": true,
    "id": "AYC13i4R39dN"
   },
   "source": [
    "## Applied Data Analysis Project\n",
    "**Team**: ToeStewBrr - Alexander Sternfeld, Marguerite Thery, Antoine Bonnet, Hugo Bordereaux\n",
    "\n",
    "**Dataset**: CMU Movie Summary Corpus\n",
    "\n",
    "# Part 1: General Analysis\n",
    "\n",
    "In this notebook, we explore the provided dataset. \n",
    "\n",
    "### Table of contents\n",
    "1. [Loading data and handling outliers movie metadata](#section1)\n",
    "    - 1.1 [Loading all provided data](#section1-1)\n",
    "    - 1.2 [Missing values and outliers](#section1-2)\n",
    "      * 1.2.1 [Identifying missing values](#section1-2-1)\n",
    "      * 1.2.2 [Outliers](#section1-2-2)\n",
    "2. [Exploratory data analysis movie metadata](#section2)\n",
    "    - 2.1 [Analysing genres](#section2-1)\n",
    "    - 2.2 [Romantic movies runtime](#section2-2)\n",
    "    - 2.3 [Romantic movies box office revenue](#section2-3)\n",
    "    - 2.4 [Romantic movies countries](#section2-4)\n",
    "    - 2.5 [Romantic movies languages](#section2-5)\n",
    "    - 2.6 [Evolution over time](#section2-6)\n",
    "      * 2.6.1 [Box office revenue over time](#section2-6-1)\n",
    "      * 2.6.2 [Evolution of runtime](#section2-6-2)\n",
    "3. [Exploratory data analysis character metadata](#section3)\n",
    "    - 3.1 [Missing values and outliers](#section3-1)\n",
    "    - 3.2 [Merging movie metadata and character metadata](#section3-2)\n",
    "    - 3.3 [Gender analysis](#section3-3)\n",
    "    - 3.4 [Age of actor analysis](#section3-4)\n",
    "3. [TV Tropes](#section4)\n",
    "\n"
   ]
  },
  {
   "cell_type": "code",
   "execution_count": null,
   "metadata": {
    "id": "MlSSpJAG39dP"
   },
   "outputs": [],
   "source": [
    "import requests\n",
    "import pandas as pd\n",
    "import seaborn as sns\n",
    "import numpy as np\n",
    "import matplotlib.pyplot as plt\n",
    "import matplotlib\n",
    "from nltk.tree import Tree\n",
    "import xml.etree.ElementTree as ET\n",
    "import itertools\n",
    "import matplotlib.dates as mdates\n",
    "\n",
    "from load_data import *\n",
    "pd.options.mode.chained_assignment = None\n"
   ]
  },
  {
   "cell_type": "markdown",
   "metadata": {
    "id": "_TadIrDF39dR"
   },
   "source": [
    "## 1. Loading data and handling outliers <a class=\"anchor\" id=\"section1\"></a>\n",
    "\n",
    "### 1.1 Loading provided data <a class=\"anchor\" id=\"section1-1\"></a>\n",
    "\n",
    "We first extract all files from the [MoviesSummaries dataset](http://www.cs.cmu.edu/~ark/personas/). \n",
    "\n",
    "`corenlp_plot_summaries.tar.gz [628 M, separate download]`: The plot summary of each movie, run through the Stanford CoreNLP pipeline (tagging, parsing, NER and coref). Each filename begins with the Wikipedia movie ID (which indexes into movie.metadata.tsv). We extract all coreNLP files, then uncompress them to the XML format. Note: Extraction of CoreNLP files takes 15 minutes, while conversion takes 30 seconds.\n",
    "\n",
    "`plot_summaries.txt [29 M]`: Plot summaries of 42,306 movies extracted from the November 2, 2012 dump of English-language Wikipedia.  Each line contains the Wikipedia movie ID (which indexes into movie.metadata.tsv) followed by the summary.\n",
    "\n",
    "`movie.metadata.tsv.gz [3.4 M]`: Metadata for 81,741 movies, extracted from the Noverber 4, 2012 dump of Freebase.  Tab-separated; columns:\n",
    "\n",
    "1. Wikipedia movie ID\n",
    "2. Freebase movie ID\n",
    "3. Movie name\n",
    "4. Movie release date\n",
    "5. Movie box office revenue\n",
    "6. Movie runtime\n",
    "7. Movie languages (Freebase ID:name tuples)\n",
    "8. Movie countries (Freebase ID:name tuples)\n",
    "9. Movie genres (Freebase ID:name tuples)\n",
    "\n",
    "`character.metadata.tsv.gz [14 M]`: Metadata for 450,669 characters aligned to the movies above, extracted from the November 4, 2012 dump of Freebase.  Tab-separated; columns:\n",
    "\n",
    "1. Wikipedia movie ID\n",
    "2. Freebase movie ID\n",
    "3. Movie release date\n",
    "4. Character name\n",
    "5. Actor date of birth\n",
    "6. Actor gender\n",
    "7. Actor height (in meters)\n",
    "8. Actor ethnicity (Freebase ID)\n",
    "9. Actor name\n",
    "10. Actor age at movie release\n",
    "11. Freebase character/actor map ID\n",
    "12. Freebase character ID\n",
    "13. Freebase actor ID\n",
    "\n",
    "`name.clusters.txt`: 970 unique character names used in at least two different movies, along with 2,666 instances of those types.  The ID field indexes into the Freebase character/actor map ID in character.metadata.tsv.\n",
    "\n",
    "`tvtropes.clusters.txt`: 72 character types drawn from tvtropes.com, along with 501 instances of those types.  The ID field indexes into the Freebase character/actor map ID in character.metadata.tsv."
   ]
  },
  {
   "cell_type": "code",
   "execution_count": null,
   "metadata": {
    "id": "z6AUVYUc39dS",
    "outputId": "f909218b-7eaa-40d6-faee-e6937677b4c9"
   },
   "outputs": [],
   "source": [
    "download_data()\n",
    "\n",
    "# Load plot summaries\n",
    "plot_df = load_plot_df()\n",
    "\n",
    "# Load movie metadata\n",
    "movie_df = load_movie_df()\n",
    "\n",
    "# Load character metadata\n",
    "char_df = load_char_df()\n",
    "\n",
    "# Load name clusters\n",
    "names_df = load_names_df()\n",
    "\n",
    "# Load tv tropes\n",
    "cluster_df = load_cluster_df()"
   ]
  },
  {
   "cell_type": "markdown",
   "metadata": {},
   "source": [
    "### 1.2 Missing values and outliers <a class=\"anchor\" id=\"section1-2\"></a>\n",
    "\n",
    "#### 1.2.1 Identifying missing values <a class=\"anchor\" id=\"section1-2-1\"></a>\n",
    "The analysis below shows that several features contain missing values. Most notably, 90% of the box office revenue values and 25% of the runtimes are missing. Since our research question is not focused on these features, this will not pose a big problem. On the other hand, only 2.8% of the genres is missing, which will be beneficial for identifying romantic movies. \n",
    "\n",
    "For the exploratory analysis, we will remove the observations with a missing value for the feature that we discuss. We note that we will miss information by discarding these values. However, since the exploratory analysis is mostly for gaining an understanding of the data, this is not a problem."
   ]
  },
  {
   "cell_type": "code",
   "execution_count": null,
   "metadata": {
    "collapsed": false
   },
   "outputs": [],
   "source": [
    "# Find number of missing values for each column\n",
    "missing_values = movie_df.isnull().sum()\n",
    "missing = []\n",
    "\n",
    "#Print name of column, followed by number of missing values with percentage of missing values in brackets\n",
    "for col in movie_df.columns:\n",
    "    missing.append([col, missing_values[col], round(missing_values[col]/len(movie_df)*100, 2)])\n",
    "\n",
    "table = [['Category', 'Number of missing values', 'Proportion of missing values (%)']] + missing\n",
    "display(pd.DataFrame(table[1:], columns=table[0]).set_index('Category'))"
   ]
  },
  {
   "cell_type": "markdown",
   "metadata": {},
   "source": [
    "#### 1.2.2 Outliers <a class=\"anchor\" id=\"section1-2-2\"></a>\n",
    "The data contains some outliers, we have observed the following points:\n",
    "\n",
    "- We note that there is one movie with a release date in the year 1010 ('Hunting season'), we manually correct this to the date 2010\n",
    "- There are many movies with very short runtimes (under 5 minutes). We manually verified a sample of these movies, and have found that the runtimes are correct. They mostly correspond to short movies from the early 20th century.\n",
    "- There are over a hundred movies with runtimes over 5 hours. We have found that most of these data points correspond to series, where the runtime is the sum of the episode lengths.\n",
    "- One movie has a runtime of over a million minutes ('Zero tolerance'). This lengths is manually corrected to 88 minutes."
   ]
  },
  {
   "cell_type": "code",
   "execution_count": null,
   "metadata": {
    "collapsed": false
   },
   "outputs": [],
   "source": [
    "# Isolate the year from the release date\n",
    "getYear = lambda x: x[slice(0,4)] if type(x) == str else x\n",
    "movie_df['Release date'] = movie_df['Release date'].apply(getYear)\n",
    "\n",
    "# Correct release date of 1010\n",
    "movie_df['Release date'][movie_df['Wikipedia ID']==29666067] = '2010'\n",
    "\n",
    "# Correct runtime of over a million minutes\n",
    "movie_df['Runtime'][movie_df['Wikipedia ID']==10815585] = 88\n",
    "\n",
    "def sanitycheck(df):\n",
    "    # Remove movies with nan for release date or nan for runtime\n",
    "    df = df[df['Release date'].notna()]\n",
    "    df = df[df['Runtime'].notna()]\n",
    "    # Make a boolean that is true if there is a release date before 1900\n",
    "    before1900 = any(df['Release date'].apply(lambda x: int(x) < 1880))\n",
    "    # Make a boolean that is true if there is a runtime over 20000 minutes\n",
    "    # Note that we allow long runtimes, as we keep series in the dataset\n",
    "    over10hours = any(df['Runtime'].apply(lambda x: int(x) > 20000))\n",
    "    if before1900 or over10hours:\n",
    "        print('Sanity check failed')\n",
    "    else:\n",
    "        print('Sanity check passed')\n",
    "sanitycheck(movie_df)"
   ]
  },
  {
   "cell_type": "markdown",
   "metadata": {},
   "source": [
    "## 2. Exploratory data analysis on movies <a class=\"anchor\" id=\"section2\"></a>\n",
    "\n",
    "### 2.1 Analysing genres <a class=\"anchor\" id=\"section2-1\"></a>\n",
    "\n",
    "Let us first find the total number of unique genres and plot the 10 most occuring genres. The plot shows that drama occurs much more than the other genres. The subsequent genres have a similar appearance frequency. "
   ]
  },
  {
   "cell_type": "code",
   "execution_count": null,
   "metadata": {
    "collapsed": false
   },
   "outputs": [],
   "source": [
    "#Remove missing genres\n",
    "genres = movie_df['Genres'].apply(lambda x: x if type(x) == list else [])\n",
    "\n",
    "# Find number of unique genres\n",
    "unique_genres = set(itertools.chain.from_iterable(genres))\n",
    "print('Number of unique genres: ', len(unique_genres))\n",
    "\n",
    "# Find top 10 most common genres\n",
    "genre_counts = {}\n",
    "for genre in unique_genres:\n",
    "    genre_counts[genre] = sum(genres.apply(lambda x: genre in x))\n",
    "genre_counts = {k: v for k, v in sorted(\n",
    "    genre_counts.items(), key=lambda item: item[1], reverse=True)}\n",
    "genre_counts = {k: genre_counts[k] for k in list(genre_counts)[:10]}\n",
    "\n",
    "\n",
    "# Plot histogram with top 10 most common genres using seaborn\n",
    "plt.figure(figsize=(8, 3))\n",
    "sns.barplot(x=list(genre_counts.keys()), y=list(genre_counts.values()))\n",
    "plt.xticks(rotation=90)\n",
    "plt.title('Top 10 most common genres')\n",
    "sns.set_palette(\"flare\")\n",
    "sns.set_style('darkgrid')\n",
    "plt.ylabel('Number of movies')\n",
    "plt.show()\n",
    "\n"
   ]
  },
  {
   "cell_type": "markdown",
   "metadata": {},
   "source": [
    "Let us now focus on the romantic genres and discover the different flavors. The plot below shows that romantic films, romantic comedies and romantic dramas are most present. There are fewer romantic fantasy's, and just 1 romantic thriller - [Bloody isshq](https://en.wikipedia.org/wiki/Bloody_Isshq), which tells the tale of Natasha, a \"brash, deviant man-eater\". "
   ]
  },
  {
   "cell_type": "code",
   "execution_count": null,
   "metadata": {
    "collapsed": false
   },
   "outputs": [],
   "source": [
    "romance_genres = ['Romantic comedy', 'Romance Film',\n",
    "                  'Romantic drama', 'Romantic fantasy', 'Romantic thriller']\n",
    "\n",
    "\n",
    "def is_romantic(i): return lambda x: any(\n",
    "    y in romance_genres[i] for y in x) if type(x) == list else False\n",
    "\n",
    "\n",
    "def is_not_romantic(i): return lambda x: not any(\n",
    "    y in romance_genres[i] for y in x) if type(x) == list else False\n",
    "\n",
    "\n",
    "romance_movies = movie_df[movie_df['Genres'].apply(is_romantic(slice(0, 5)))]\n",
    "non_romance_movies = movie_df[movie_df['Genres'].apply(\n",
    "    is_not_romantic(slice(0, 5)))]\n",
    "\n",
    "#Organize by category\n",
    "romantic_comedy = romance_movies.loc[movie_df['Genres'].apply(is_romantic(0))]\n",
    "romantic_film = romance_movies.loc[movie_df['Genres'].apply(is_romantic(1))]\n",
    "romantic_drama = romance_movies.loc[movie_df['Genres'].apply(is_romantic(2))]\n",
    "romantic_fantasy = romance_movies.loc[movie_df['Genres'].apply(is_romantic(3))]\n",
    "romantic_thriller = romance_movies.loc[movie_df['Genres'].apply(\n",
    "    is_romantic(4))]\n",
    "\n",
    "num_movies = [['Romantic comedies', romantic_comedy.shape[0]], ['Romantic films', romantic_film.shape[0]], ['Romantic drama', romantic_drama.shape[0]], ['Romantic fantasy', romantic_fantasy.shape[0]], ['Romantic thriller', romantic_thriller.shape[0]]]\n",
    "table = [['Genre', 'Number of movies']] + num_movies\n",
    "display(pd.DataFrame(table[1:], columns=table[0]).set_index('Genre'))\n",
    "\n",
    "# Using seaborn, make a barplot with the number of movies per romantic genre with log axes\n",
    "plt.figure(figsize=(11, 4))\n",
    "sns.barplot(x=['Romantic comedy', 'Romantic film', 'Romantic drama', 'Romantic fantasy', 'Romantic thriller'], y=[\n",
    "            romantic_comedy.shape[0], romantic_film.shape[0], romantic_drama.shape[0], romantic_fantasy.shape[0], romantic_thriller.shape[0]])\n",
    "plt.yscale('log')\n",
    "plt.title('Number of movies per romantic genre')\n",
    "plt.ylabel('Number of movies')\n",
    "# Add color palette green\n",
    "sns.set_palette(\"flare\")\n",
    "# Add dark background\n",
    "sns.set_style('darkgrid')\n",
    "plt.show()\n"
   ]
  },
  {
   "cell_type": "markdown",
   "metadata": {},
   "source": [
    "**Frequent itemset mining introduction**\n",
    "\n",
    "Up to now, we have not considered combinations of genres. Let us now investigate which genres often cooccur together. To do so, we use frequent itemset mining. Let us first introduce several concepts, before diving into the analysis. We define the support of a genre as follows:\n",
    "\n",
    "$\\text{Support(genre X)}=\\frac{\\text{Number of movies with genre X}}{\\text{Total number of movies}}$\n",
    "\n",
    "The support thus tells us how prevalent a genre is in the dataset. We can also calculate the support for multiple genres together, such as \"comedy\" and \"action\", we then divide the number of movies with **both** action and comedy as a genre by the total number of movies. \n",
    "\n",
    "To analyze the cooccurence of genres, we use the lift measure:\n",
    "\n",
    "$\\text{lift(genre X and genre Y)} = \\frac{\\text{Support(genre X and genre Y)}}{\\text{Support(genre X)} \\cdot \\text{Support(genre Y)}}$\n",
    "\n",
    "Intuitively, if the lift is higher than 1, it means that 2 genres cooccur more frequently than one would expect based on their individual supports. This gives a natural threshold, if the lift is higher than 1, we have found an association between 2 genres.\n",
    "\n",
    "**Analysis of results**\n",
    "\n",
    "The heatmap below shows several association rules. The most prominent association is between action and action/adventure, which is not surprising. More interestingly, we see that drama is associated with many other genres. This explains the high presence of the drama genre that we saw before, as it is thus paired with many other genres. \n",
    "\n",
    "When we focus on the romantic movies, we see that romance film is associated with comedy and drama. This is in line with what we saw before, as romantic comedies and romantic dramas are the most present romantic genres in the data."
   ]
  },
  {
   "cell_type": "code",
   "execution_count": null,
   "metadata": {},
   "outputs": [],
   "source": [
    "from mlxtend.preprocessing import TransactionEncoder\n",
    "from mlxtend.frequent_patterns import apriori, association_rules\n",
    "\n",
    "# Encode using one-hot encoding\n",
    "tr = TransactionEncoder()\n",
    "tr_arr = tr.fit(genres).transform(genres)\n",
    "one_hot = pd.DataFrame(tr_arr, columns=tr.columns_)\n",
    "\n",
    "# Find frequent itemsets\n",
    "freq_itemsets = apriori(one_hot, min_support=0.04, use_colnames=True)\n",
    "\n",
    "# Find association rules\n",
    "associations = association_rules(freq_itemsets, metric=\"lift\", min_threshold=1)\n",
    "\n",
    "# Rank association rules by confidence\n",
    "associations = associations.sort_values(by='lift', ascending=False)\n",
    "associations['antecedents'] = associations['antecedents'].apply(\n",
    "    lambda x: list(x)[0])\n",
    "associations['consequents'] = associations['consequents'].apply(\n",
    "    lambda x: list(x)[0])\n",
    "# Plot heatmap of association rules with annotations and without colorbar, no xlabel and ylabel\n",
    "plt.figure(figsize=(5, 5))\n",
    "sns.heatmap(associations.pivot(index='antecedents', columns='consequents',\n",
    "            values='lift'), annot=True, cbar=False, cmap='Blues')\n",
    "plt.title('Association rules with lift measures')\n",
    "#remove xlabel and ylabel\n",
    "plt.xlabel('')\n",
    "plt.ylabel('')\n",
    "plt.show()\n"
   ]
  },
  {
   "cell_type": "markdown",
   "metadata": {},
   "source": [
    "### 2.2. Romantic movies runtime <a class=\"anchor\" id=\"section2-2\"></a>\n",
    "\n",
    "Let us then analyze the runtime of romantic and non-romantic movies. We note three findings:\n",
    "\n",
    "- Romantic comedies seem to have a lower variance in their runtime. This indicates that most romantic comedies have a runtime of approximately 100 minutes, with a relatively low spread. Intuitively, one can think of all romantic christmas comedies popping up on netflix in december, which are usually about this length.\n",
    "- Non-romantic movies have a slightly lower runtime on average. There is a second peak in the density around 0-25 minutes. This corresponds to short movies, which were most present in the early 20th century.\n",
    "- Among the longer movies, romantic dramas are most present. This genre thus has relatively many long movies."
   ]
  },
  {
   "cell_type": "code",
   "execution_count": null,
   "metadata": {},
   "outputs": [],
   "source": [
    "ax = sns.kdeplot(romantic_comedy['Runtime'])\n",
    "ax = sns.kdeplot(romantic_drama['Runtime'])\n",
    "ax = sns.kdeplot(romantic_film['Runtime'])\n",
    "ax = sns.kdeplot(romantic_fantasy['Runtime'])\n",
    "\n",
    "#remove runtime over 200 for non romantic movies\n",
    "non_romance_movies = non_romance_movies[non_romance_movies['Runtime'] < 200]\n",
    "\n",
    "ax = sns.kdeplot(non_romance_movies['Runtime'], color='blue')\n",
    "ax.set_xlim(0, 200)\n",
    "ax.legend(['Romantic comedy', 'Romantic drama', 'Romance Film',\n",
    "          'Romantic fantasy', 'Non romantic movies'])\n",
    "plt.title('Runtime distribution')\n",
    "sns.set_style('darkgrid')\n",
    "sns.set_palette('flare')\n",
    "plt.show()\n"
   ]
  },
  {
   "cell_type": "code",
   "execution_count": null,
   "metadata": {},
   "outputs": [],
   "source": [
    "#Find 5 movies with shortest runtime\n",
    "shortest_runtime = movie_df.sort_values(by='Runtime', ascending=True)\n",
    "shortest_runtime.head(5)\n",
    "display(shortest_runtime)"
   ]
  },
  {
   "cell_type": "markdown",
   "metadata": {},
   "source": [
    "### 2.3. Romantic movies box office revenue <a class=\"anchor\" id=\"section2-3\"></a>\n",
    "\n",
    "Next, we discuss the box office revenue of romantic and non-romantic movies. Specifically, there are two findings:\n",
    "- Romantic fantasy movies generate a higher revenue, on average. However, we note that there are only 72 romantic fantasy's in the dataset, which is a small sample. In this sample, there are several blockbusters, such as twilight (which is the prime example of the absence of a direct relation between revenue and quality).\n",
    "- Romantic comedies yield a slightly higher revenue than romantic dramas, romance films and non-romantic movies."
   ]
  },
  {
   "cell_type": "code",
   "execution_count": null,
   "metadata": {
    "collapsed": false
   },
   "outputs": [],
   "source": [
    "ax = sns.kdeplot(romantic_comedy['Box office revenue'], log_scale=True)\n",
    "ax = sns.kdeplot(romantic_drama['Box office revenue'], log_scale=True)\n",
    "ax = sns.kdeplot(romantic_film['Box office revenue'], log_scale=True)\n",
    "ax = sns.kdeplot(romantic_fantasy['Box office revenue'], log_scale=True)\n",
    "ax = sns.kdeplot(non_romance_movies['Box office revenue'], log_scale=True, color='slateblue')\n",
    "colors = [line.get_color() for line in ax.get_lines()]\n",
    "ax.legend(['Romantic comedy', 'Romantic drama', 'Romance Film', 'Romantic fantasy', 'Non romantic movies'])\n",
    "plt.title('Box office revenue distribution by genre')\n",
    "plt.xlabel('Revenue (USD)')\n",
    "plt.ylabel('Density')\n",
    "sns.set_style('darkgrid')\n",
    "sns.set_palette('flare')\n",
    "plt.show()\n"
   ]
  },
  {
   "cell_type": "markdown",
   "metadata": {},
   "source": [
    "### 2.4. Romantic movies countries <a class=\"anchor\" id=\"section2-4\"></a>"
   ]
  },
  {
   "cell_type": "markdown",
   "metadata": {},
   "source": [
    "Let us now consider the country of production of movies. The histogram below shows that generally a movie is made in one country. Romantic fantasies are more often produced in multiple countries, however, also for this genre 75% is produced in one country."
   ]
  },
  {
   "cell_type": "code",
   "execution_count": null,
   "metadata": {
    "collapsed": false
   },
   "outputs": [],
   "source": [
    "# Store number of countries for each movie\n",
    "get_countries = lambda x: len(x) if type(x) == list else np.nan\n",
    "romantic_comedy['number_countries'] = romantic_comedy['Countries'].apply(get_countries)\n",
    "romantic_fantasy['number_countries'] = romantic_fantasy['Countries'].apply(get_countries)\n",
    "romantic_film['number_countries'] = romantic_film['Countries'].apply(get_countries)\n",
    "romantic_drama['number_countries'] = romantic_drama['Countries'].apply(get_countries)\n",
    "non_romance_movies['number_countries'] = non_romance_movies['Countries'].apply(get_countries)\n",
    "\n",
    "#Plot percentage of movies with more than 1 country, for romantic genres and non-romantic movies\n",
    "plt.figure(figsize=(9, 3))\n",
    "sns.barplot(x=['Romantic comedy', 'Romantic film', 'Romantic drama', 'Romantic fantasy', 'Non romantic movies'], y=[\n",
    "                romantic_comedy[romantic_comedy['number_countries'] > 1].shape[0]/romantic_comedy.shape[0], romantic_film[romantic_film['number_countries'] > 1].shape[0]/romantic_film.shape[0], romantic_drama[romantic_drama['number_countries'] > 1].shape[0]/romantic_drama.shape[0], romantic_fantasy[romantic_fantasy['number_countries'] > 1].shape[0]/romantic_fantasy.shape[0], non_romance_movies[non_romance_movies['number_countries'] > 1].shape[0]/non_romance_movies.shape[0]], \n",
    "                palette=colors)\n",
    "plt.title('Percentage of movies with more than 1 country by genre')\n",
    "plt.ylabel('Percentage')\n",
    "sns.set_style('darkgrid')\n",
    "plt.show()"
   ]
  },
  {
   "cell_type": "markdown",
   "metadata": {},
   "source": [
    "Let us then dive into which countries are most present. For each genre, the USA is by far the most frequent country of production. We note a few differences in the production country between genres:\n",
    "- India is common for romantic dramas and romance movies, but is less prevalent for romantic comedies. For romantic fantasy's, India is not even in the top 5.\n",
    "- While Italy is in the top 5 for non-romantic movies and romantic dramas, it is not in the top 5 for other romance genres. \n",
    "- Germany is in the top 5 for romantic comedy's and romance films, but not for non-romantic films. "
   ]
  },
  {
   "cell_type": "code",
   "execution_count": null,
   "metadata": {},
   "outputs": [],
   "source": [
    "#Find the five most frequent countries for each romantic genre, and plot them for each genre\n",
    "romantic_comedy_countries = romantic_comedy['Countries'].explode().value_counts().head(5)\n",
    "romantic_film_countries = romantic_film['Countries'].explode().value_counts().head(5)\n",
    "romantic_drama_countries = romantic_drama['Countries'].explode().value_counts().head(5)\n",
    "romantic_fantasy_countries = romantic_fantasy['Countries'].explode().value_counts().head(5)\n",
    "non_romance_countries = non_romance_movies['Countries'].explode().value_counts().head(5)\n",
    "\n",
    "# Make a multi figure plot with 5 subplots, each giving top 5 countries for each romantic genre and for non-romantic movies using seaborn\n",
    "fig, axs = plt.subplots(1, 5, figsize=(20, 3))\n",
    "sns.barplot(x=romantic_comedy_countries.index, y=romantic_comedy_countries.values, ax=axs[0], palette='flare')\n",
    "sns.barplot(x=romantic_film_countries.index, y=romantic_film_countries.values, ax=axs[1], palette='flare')\n",
    "sns.barplot(x=romantic_drama_countries.index, y=romantic_drama_countries.values, ax=axs[2], palette='flare')\n",
    "sns.barplot(x=romantic_fantasy_countries.index, y=romantic_fantasy_countries.values, ax=axs[3], palette='flare')\n",
    "sns.barplot(x=non_romance_countries.index, y=non_romance_countries.values, ax=axs[4], palette='flare')\n",
    "axs[0].set_title('Romantic comedy')\n",
    "axs[1].set_title('Romantic film')\n",
    "axs[2].set_title('Romantic drama')\n",
    "axs[3].set_title('Romantic fantasy')\n",
    "axs[4].set_title('Non romantic movies')\n",
    "axs[0].set_ylabel('Number of movies')\n",
    "#Rotate x labels\n",
    "for ax in axs.flat:\n",
    "    for label in ax.get_xticklabels():\n",
    "        label.set_rotation(45)\n",
    "fig.suptitle('Top 5 countries for each genre', y=1.05)\n",
    "sns.set_style('darkgrid')\n",
    "for ax in axs.flat:\n",
    "    ax.set_xticklabels([label.get_text().replace('United States of America', 'USA').replace('United Kingdom', 'UK') for label in ax.get_xticklabels()])\n",
    "plt.show()"
   ]
  },
  {
   "cell_type": "markdown",
   "metadata": {},
   "source": [
    "### 2.5. Movie languages <a class=\"anchor\" id=\"section2-5\"></a>\n",
    "\n",
    "Let us then find the most common languages spoken in romantic movies and non-romantic movies. We see that in romantic movies, Hindi and Tamil are in the top 5 languages, whereas this is not the case for non-romantic movies. This is in line with the large role of india in the production of romance films and romantic dramas, which we saw in the analysis in 3.4. Furthermore, we see that japanese and italian are in the top 5 for non-romantic movies. However, these languages are absent for romantic movies."
   ]
  },
  {
   "cell_type": "code",
   "execution_count": null,
   "metadata": {
    "collapsed": false
   },
   "outputs": [],
   "source": [
    "#Get languages romantic movies overall\n",
    "romance_movies_lang = romance_movies[romance_movies['Languages'].notnull()]\n",
    "languages_romance = romance_movies_lang.Languages.sum()\n",
    "values, counts = np.unique(languages_romance, return_counts=True)\n",
    "\n",
    "#Plot 5 most common languages in non romantic movies\n",
    "non_romance_movies_lang = non_romance_movies[non_romance_movies['Languages'].notnull()]\n",
    "languages_non_romance = non_romance_movies_lang.Languages.sum()\n",
    "values_non_romance, counts_non_romance = np.unique(languages_non_romance, return_counts=True)\n",
    "\n",
    "fig, axs = plt.subplots(1, 2, figsize=(20, 3))\n",
    "sns.barplot(x=values[counts.argsort()[-5:][::-1]], y=counts[counts.argsort()[-5:][::-1]], ax=axs[0], palette='flare')\n",
    "sns.barplot(x=values_non_romance[counts_non_romance.argsort()[-5:][::-1]], y=counts_non_romance[counts_non_romance.argsort()[-5:][::-1]], ax=axs[1], palette='flare')\n",
    "axs[0].set_title('Romantic movies')\n",
    "axs[1].set_title('Non romantic movies')\n",
    "axs[0].set_ylabel('Number of movies')\n",
    "axs[0].set_yscale('log')\n",
    "axs[1].set_yscale('log')\n",
    "axs[0].set_yticks([1, 10, 100, 1000, 10000])\n",
    "axs[1].set_yticks([1, 10, 100, 1000, 10000, 100000])\n",
    "fig.suptitle('Top 5 languages for each genre', y=1.05)\n",
    "sns.set_style('darkgrid')\n",
    "plt.show()\n",
    "\n"
   ]
  },
  {
   "cell_type": "markdown",
   "metadata": {},
   "source": [
    "### 2.6. Evolution over time <a class=\"anchor\" id=\"section2-6\"></a>\n",
    "\n",
    "As a last part of the exploratory analysis of the movie metadata, we investigate the evolution of the box office revenue and the runtime over the years. \n",
    "\n",
    "#### 2.6.1 Box office revenue over time <a class=\"anchor\" id=\"section2-6-1\"></a>\n",
    "\n",
    "Generally, we see that for both romantic and non-romantic movies the box office revenue has increased over time. The large spikes for the romantic movies correspond to outliers. Two of these outliers are \"Snow white and the seven dwarfs (1937)\" and \"The sound of music (1965)\"."
   ]
  },
  {
   "cell_type": "code",
   "execution_count": null,
   "metadata": {},
   "outputs": [],
   "source": [
    "year_box_office = non_romance_movies[[\n",
    "    'Release date', 'Box office revenue']].dropna()\n",
    "year_box_office_romance = romance_movies[[\n",
    "    'Release date', 'Box office revenue']].dropna()\n",
    "year_box_office['Release date'] = pd.to_datetime(\n",
    "    year_box_office['Release date'])\n",
    "year_box_office_romance['Release date'] = pd.to_datetime(\n",
    "    year_box_office_romance['Release date'])\n",
    "\n",
    "# Get yearly box office revenue for romantic and non-romantic movies\n",
    "year_box_office = non_romance_movies[['Release date', 'Box office revenue']].dropna()\n",
    "year_box_office_romance = romance_movies[['Release date', 'Box office revenue']].dropna()\n",
    "year_box_office['Release date'] = pd.to_datetime(year_box_office['Release date'])\n",
    "year_box_office_romance['Release date'] = pd.to_datetime(year_box_office_romance['Release date'])\n",
    "\n",
    "total_mean = year_box_office.groupby('Release date').mean().iloc[1:]\n",
    "romance_mean = year_box_office_romance.groupby('Release date').mean().iloc[1:]\n",
    "#Compute standard error of the mean for non-romantic movies and romantic movies\n",
    "total_sem = year_box_office.groupby('Release date').sem().iloc[1:]\n",
    "romance_sem = year_box_office_romance.groupby('Release date').sem().iloc[1:]\n",
    "\n",
    "# Plot average monthly revenue for romance movies and non romance movies using seaborn\n",
    "fig, ax = plt.subplots(figsize=(15, 7))\n",
    "sns.lineplot(data=total_mean, x=total_mean.index, y='Box office revenue', color='blue', label='Non romance movies', ax=ax)\n",
    "sns.lineplot(data=romance_mean, x=romance_mean.index, y='Box office revenue', color='red', label='Romance movies', ax=ax)\n",
    "ax.fill_between(total_mean.index, total_mean['Box office revenue'] - total_sem['Box office revenue'], total_mean['Box office revenue'] + total_sem['Box office revenue'], color='blue', alpha=0.2)\n",
    "ax.fill_between(romance_mean.index, romance_mean['Box office revenue'] - romance_sem['Box office revenue'], romance_mean['Box office revenue'] + romance_sem['Box office revenue'], color='red', alpha=0.2)\n",
    "years = mdates.YearLocator(5)\n",
    "ax.xaxis.set_major_locator(years)\n",
    "ax.xaxis.set_major_formatter(mdates.DateFormatter('%Y'))\n",
    "ax.yaxis.set_major_formatter(matplotlib.ticker.StrMethodFormatter('${x:,.0f}'))\n",
    "ax.set_xlabel('Release date')\n",
    "ax.set_ylabel('Revenue (USD)')\n",
    "ax.set_title('Average monthly revenue for romance movies and non romance movies')\n",
    "ax.legend()\n",
    "ax.annotate('Note. shaded areas represent standard error of the mean', xy=(0.5, 0), xytext=(\n",
    "    0, -50), xycoords='axes fraction', textcoords='offset points', size=10, ha='center', va='top')\n",
    "plt.show()\n",
    "\n"
   ]
  },
  {
   "cell_type": "markdown",
   "metadata": {},
   "source": [
    "### 2.6.2. Evolution of runtime <a class=\"anchor\" id=\"section2-6-2\"></a>\n",
    "\n",
    "Last, we consider the runtime of romantic movies and non-romantic movies over time. The plot below mostly confirms the findings from before. We see that in the early 20th century, the average runtime sharply increases. This corresponds to the transition from short movies to longer movies. This increase slowly stagnates and the curve flattens. Overall, we see that romantic movies last longer on average. "
   ]
  },
  {
   "cell_type": "code",
   "execution_count": null,
   "metadata": {},
   "outputs": [],
   "source": [
    "import matplotlib\n",
    "\n",
    "# Get yearly runtime for romantic and non-romantic movies\n",
    "year_runtime = non_romance_movies[['Release date', 'Runtime']].dropna()\n",
    "year_runtime_romance = romance_movies[['Release date', 'Runtime']].dropna()\n",
    "year_runtime['Runtime'] = year_runtime['Runtime'].astype(float)\n",
    "year_runtime_romance['Runtime'] = year_runtime_romance['Runtime'].astype(float)\n",
    "\n",
    "total_runtime_mean = year_runtime.groupby('Release date').mean()\n",
    "romance_runtime_mean = year_runtime_romance.groupby('Release date').mean()\n",
    "total_runtime_sem = year_runtime.groupby('Release date').sem().replace(np.nan, 0)\n",
    "romance_runtime_sem = year_runtime_romance.groupby('Release date').sem().replace(np.nan, 0)\n",
    "\n",
    "# Convert release date of mean and std to datetime\n",
    "total_runtime_mean.index = pd.to_datetime(total_runtime_mean.index)\n",
    "romance_runtime_mean.index = pd.to_datetime(romance_runtime_mean.index)\n",
    "total_runtime_sem.index = pd.to_datetime(total_runtime_sem.index)\n",
    "romance_runtime_sem.index = pd.to_datetime(romance_runtime_sem.index)\n",
    "\n",
    "\n",
    "# Plot average monthly runtime for romance movies and non romance movies using seaborn\n",
    "fig, ax = plt.subplots(figsize=(15, 7))\n",
    "sns.lineplot(data=total_runtime_mean, x=total_runtime_mean.index, y='Runtime', color='blue', label='Non romance movies', ax=ax)\n",
    "sns.lineplot(data=romance_runtime_mean, x=romance_runtime_mean.index, y='Runtime', color='red', label='Romance movies', ax=ax)\n",
    "ax.fill_between(total_runtime_mean.index, total_runtime_mean['Runtime'] - total_runtime_sem['Runtime'], total_runtime_mean['Runtime'] + total_runtime_sem['Runtime'], color='blue', alpha=0.2)\n",
    "ax.fill_between(romance_runtime_mean.index, romance_runtime_mean['Runtime'] - romance_runtime_sem['Runtime'], romance_runtime_mean['Runtime'] + romance_runtime_sem['Runtime'], color='red', alpha=0.2)\n",
    "years = mdates.YearLocator(5)\n",
    "ax.xaxis.set_major_locator(years)\n",
    "ax.xaxis.set_major_formatter(mdates.DateFormatter('%Y'))\n",
    "ax.set_xlabel('Release date')\n",
    "ax.set_ylabel('Runtime (minutes)')\n",
    "ax.set_title('Average monthly runtime for romance movies and non romance movies')\n",
    "ax.legend()\n",
    "#Add footnote stating that the shaded areas represent standard error of the mean, position footnote underneath graph, small lettertype\n",
    "ax.annotate('Note. shaded areas represent standard error of the mean', xy=(0.5, 0), xytext=(\n",
    "    0, -50), xycoords='axes fraction', textcoords='offset points', size=10, ha='center', va='top')\n",
    "plt.show()\n"
   ]
  },
  {
   "cell_type": "markdown",
   "metadata": {},
   "source": [
    "## 3. Exploratory analysis on characters <a class=\"anchor\" id=\"section3\"></a>\n",
    "\n",
    "Let us now investigate the character metadata.\n",
    "\n",
    "### 3.1 Missing values and outliers <a class=\"anchor\" id=\"section3-1\"></a>\n",
    "\n"
   ]
  },
  {
   "cell_type": "code",
   "execution_count": null,
   "metadata": {},
   "outputs": [],
   "source": [
    "# Find number of missing values for each column\n",
    "missing_values = movie_df.isnull().sum()\n",
    "missing = []\n",
    "\n",
    "#Print name of column, followed by number of missing values with percentage of missing values in brackets\n",
    "for col in movie_df.columns:\n",
    "    missing.append([col, missing_values[col], round(missing_values[col]/len(movie_df)*100, 2)])\n",
    "\n",
    "table = [['Category', 'Number of missing values', 'Proportion of missing values (%)']] + missing\n",
    "display(pd.DataFrame(table[1:], columns=table[0]).set_index('Category'))"
   ]
  },
  {
   "cell_type": "code",
   "execution_count": null,
   "metadata": {},
   "outputs": [],
   "source": [
    "# Find number of missing values for each column\n",
    "missing_values = char_df.isnull().sum()\n",
    "missing_char = []\n",
    "\n",
    "#Print name of column, followed by number of missing values with percentage of missing values in brackets\n",
    "for col in char_df.columns:\n",
    "    missing_char.append([col, missing_values[col], round(missing_values[col]/len(char_df)*100, 2)])\n",
    "\n",
    "table = [['Category', 'Number of missing values', 'Proportion of missing values (%)']] + missing_char\n",
    "display(pd.DataFrame(table[1:], columns=table[0]).set_index('Category'))\n",
    "\n",
    "\n"
   ]
  },
  {
   "cell_type": "code",
   "execution_count": null,
   "metadata": {},
   "outputs": [],
   "source": [
    "# Divide height by 100 if the height is larger than 2.4 meters\n",
    "char_df.loc[char_df['Height'] > 2.4, 'Height'] = char_df['Height']/100\n",
    "\n",
    "# Remove rows with actors with an age over 100 and print number of rows that were removed\n",
    "print('Number of rows removed for ages over 100 years: ', len(char_df.loc[char_df['Actor age at release'] > 100]))\n",
    "char_df = char_df[char_df['Actor age at release'] < 100]\n",
    "\n",
    "# Remove rows with actors with an age under 0 and print number of rows that were removed\n",
    "print('Number of rows removed for ages under 0 years: ', len(char_df.loc[char_df['Actor age at release'] < 0]))\n",
    "char_df = char_df[char_df['Actor age at release'] > 0]\n",
    "\n",
    "# Remove rows with actors with a height under 1 meter and print number of rows that were removed\n",
    "print('Number of rows removed for heights under 1 meters: ', len(char_df.loc[char_df['Height'] < 1.2]))\n",
    "char_df = char_df[char_df['Height'] > 1]\n",
    "\n",
    "def sanitycheck(df):\n",
    "    # Check if there are any values above 2.5 meters or below 1 meter\n",
    "    if (df['Height'].max() > 2.5) or (df['Height'].min() < 1):\n",
    "        print('Sanity check failed: Height')\n",
    "    # Check if there are any values above 100 years or below 0 years\n",
    "    if (df['Actor age at release'].max() > 100) or (df['Actor age at release'].min() < 0):\n",
    "        print('Sanity check failed: Age')\n",
    "    else:\n",
    "        print('Sanity check passed')\n",
    "\n",
    "sanitycheck(char_df)"
   ]
  },
  {
   "cell_type": "markdown",
   "metadata": {},
   "source": [
    "### 3.2 Merging movie metadata and character metadata <a class=\"anchor\" id=\"section3-2\"></a>\n",
    "\n",
    "We now merge the character metadata and the movie metadata. We merge on both the wikipedia ID and freebase ID, the results below show us that no data is lost from the character metadata. We do see that the release date of the character metadata and movie metadata often do not match. "
   ]
  },
  {
   "cell_type": "code",
   "execution_count": null,
   "metadata": {},
   "outputs": [],
   "source": [
    "#Change release date in character dataframe to year\n",
    "char_df['Release date'] = char_df['Release date'].apply(getYear)      \n",
    "\n",
    "# Merge movie metadata and character metadata by wikipedia ID, freebase ID and release date\n",
    "movie_char_df = pd.merge(movie_df, char_df, how='inner', left_on=['Wikipedia ID', 'Freebase ID', 'Release date'], right_on=['Wikipedia ID', 'Freebase ID', 'Release date'])\n",
    "\n",
    "# print number of rows that were lost in the merge\n",
    "print('Number of rows in merged movie and character dataframe: ', len(movie_char_df))\n",
    "print('Number of rows in movie dataframe: ', len(movie_df))\n",
    "print('Number of rows in character dataframe: ', len(char_df))\n",
    "\n",
    "# Filter the romantic and non-romantic movies from the merged dataframe\n",
    "romance_movies_merged = movie_char_df[movie_char_df['Genres'].apply(is_romantic(slice(0, 5)))]\n",
    "non_romance_movies_merged = movie_char_df[movie_char_df['Genres'].apply(\n",
    "    is_not_romantic(slice(0, 5)))]\n",
    "\n",
    "#count number of unique wikipedia ID in the character dataframe\n",
    "print('Number of unique wikipedia ID in the character dataframe: ', len(char_df['Wikipedia ID'].unique()))"
   ]
  },
  {
   "cell_type": "markdown",
   "metadata": {},
   "source": [
    "### 3.3 Gender analysis <a class=\"anchor\" id=\"section3-3\"></a>\n",
    "\n",
    "We now investigate the presence of males and females in both non-romantic and romantic movies. We start by analysing the overall percentage of males and females in romantic and non romantic movies. The pie charts below show that there are more females in romantic movies, which is not surprising.\n"
   ]
  },
  {
   "cell_type": "code",
   "execution_count": null,
   "metadata": {},
   "outputs": [],
   "source": [
    "# Calculate percentages of gender categories in romantic and non-romantic movies\n",
    "counts_romance = romance_movies_merged['Gender'].value_counts()\n",
    "counts_non_romance = non_romance_movies_merged['Gender'].value_counts()\n",
    "percentage_male_romance = round(counts_romance['M'] * 100/counts_romance.values.sum(), 2)\n",
    "percentage_female_romance = 100 - percentage_male_romance\n",
    "percentage_male_non_romance = round(counts_non_romance['M'] * 100/counts_non_romance.values.sum(), 2)\n",
    "percentage_female_non_romance = 100 - percentage_male_non_romance\n",
    "\n",
    "indices = ['Male', 'Female', 'Male', 'Female']\n",
    "values = [percentage_male_non_romance, percentage_female_non_romance, percentage_male_romance, percentage_female_romance]\n",
    "\n",
    "#Make a pie chart of the percentage of female in romance movies\n",
    "fig, ax = plt.subplots(1, 2, figsize=(10, 5))\n",
    "palette_color = sns.color_palette('flare')\n",
    "ax[0].pie(values[0:2], labels=indices[0:2], colors=[\"lightgreen\", \"plum\"], autopct='%1.1f%%', startangle=90)\n",
    "ax[1].pie(values[2:5], labels=indices[2:5], colors=[\n",
    "          \"lightgreen\", \"plum\"], autopct='%1.1f%%', startangle=90)\n",
    "fig.suptitle(\n",
    "    'Gender proportion among romance movies and non romance movies')\n",
    "ax[0].set_title('Romantic movies')\n",
    "ax[1].set_title('Non romantic movies')\n",
    "\n"
   ]
  },
  {
   "cell_type": "markdown",
   "metadata": {},
   "source": [
    "Next, we consider the change in the percentage of females in movies over time. The plots below show that in the first half of the 20th century, the percentage of females in movies decreased. On the other hand, the percentage of females increased in the second half of the 20th century. This effect is most visible for non-romantic movies. "
   ]
  },
  {
   "cell_type": "code",
   "execution_count": null,
   "metadata": {},
   "outputs": [],
   "source": [
    "# Integer year of release\n",
    "romance_movies_merged['Release date'] = romance_movies_merged['Release date'].astype(int)\n",
    "non_romance_movies_merged['Release date'] = non_romance_movies_merged['Release date'].astype(int)\n",
    "\n",
    "#Make binary variable for gender, where female is 1\n",
    "romance_movies_merged['Binary_gender'] = romance_movies_merged['Gender'].apply(lambda x: 1 if x == 'F' else 0)\n",
    "non_romance_movies_merged['Binary_gender'] = non_romance_movies_merged['Gender'].apply(lambda x: 1 if x == 'F' else 0)\n",
    "\n",
    "# Group romance movies by year and calculate percentage of females for each year\n",
    "romance_movies_merged_grouped = romance_movies_merged[['Release date', 'Binary_gender']].groupby('Release date').sum()\n",
    "romance_movies_merged_grouped_count = romance_movies_merged[[\n",
    "    'Release date', 'Binary_gender']].groupby('Release date').count()\n",
    "percentages_romance = romance_movies_merged_grouped/romance_movies_merged_grouped_count\n",
    "\n",
    "non_romance_movies_merged_grouped = non_romance_movies_merged[['Release date', 'Binary_gender']].groupby('Release date').sum()\n",
    "non_romance_movies_merged_grouped_count = non_romance_movies_merged[[\n",
    "    'Release date', 'Binary_gender']].groupby('Release date').count()\n",
    "percentages_non_romance_female = (100 * non_romance_movies_merged_grouped/non_romance_movies_merged_grouped_count).astype(float)\n",
    "percentages_romance_female = (100 * romance_movies_merged_grouped/romance_movies_merged_grouped_count).astype(float)\n",
    "percentages_non_romance_male = 1 - percentages_non_romance_female\n",
    "percentages_romance_male = 1- percentages_romance_female\n",
    "x1 = percentages_non_romance_female.index.astype(float)\n",
    "x2 = percentages_romance_female.index.astype(float)\n",
    "\n",
    "#Make 2 stackplots next to eachother, of the percentage males and females in romantic and non romantic movies\n",
    "fig, ax = plt.subplots(1, 2, figsize=(10, 5))\n",
    "ax[0].stackplot(x1, percentages_non_romance_female['Binary_gender'].values, color = 'plum')\n",
    "ax[1].stackplot(x2, percentages_romance_female['Binary_gender'].values, color = 'plum')\n",
    "fig.suptitle('Percentage of females in romantic and non romantic movies over time')\n",
    "ax[0].set_title('Non romantic movies')\n",
    "ax[1].set_title('Romantic movies')\n",
    "#Limit x-axis due to low number of movies on the tails\n",
    "ax[0].set_xlim(1930, 2010)\n",
    "ax[1].set_xlim(1930, 2010)\n",
    "ax[0].set_xlabel('Year')\n",
    "ax[1].set_xlabel('Year')\n",
    "ax[0].set_ylabel('Percentage (%)')\n",
    "ax[1].set_ylabel('Percentage (%)')\n",
    "ax[0].legend\n",
    "ax[1].legend\n",
    "plt.show()"
   ]
  },
  {
   "cell_type": "markdown",
   "metadata": {},
   "source": [
    "### 3.4 Age of actor analysis <a class=\"anchor\" id=\"section3-4\"></a>"
   ]
  },
  {
   "cell_type": "code",
   "execution_count": null,
   "metadata": {},
   "outputs": [],
   "source": [
    "# Make 2 boxplots for the age of actors in romantic and non-romantic movies\n",
    "fig, ax = plt.subplots(figsize=(10, 5))\n",
    "ax.boxplot([romance_movies_merged['Actor age at release'], non_romance_movies_merged['Actor age at release']], labels=[\n",
    "              'Romance movies', 'Non romance movies'])\n",
    "ax.set_title('Age of actors in romance movies and non romance movies')\n",
    "ax.set_ylabel('Age (years)')\n",
    "plt.show()\n"
   ]
  },
  {
   "cell_type": "markdown",
   "metadata": {},
   "source": [
    "## 4. TV tropes <a class=\"anchor\" id=\"section4\"></a>\n",
    "As a last part of the analysis, we evaluate the most common tv tropes clusters in romantic movies. This mostly serves as a rough indication, as only 500 movies are classified. However, this still gives an interesting image. The plot below shows that \"crazy jealous guy\" is the most prominent character cluster, which is not a big surprise."
   ]
  },
  {
   "cell_type": "code",
   "execution_count": null,
   "metadata": {},
   "outputs": [],
   "source": [
    "cluster_char = cluster_df.merge(char_df, on='Freebase character/map ID')\n",
    "cluster_char_movie = cluster_char.merge(movie_df, on='Freebase ID')\n",
    "romance_cluster = cluster_char_movie[cluster_char_movie['Genres'].apply(lambda x: is_romantic(slice(0, 5))(x))]\n",
    "\n",
    "#Get most common clusters in romance movies\n",
    "romance_cluster.groupby(romance_cluster['Cluster']).size().sort_values(ascending=False)\n",
    "\n",
    "#Make a seaborn plot with the 10 most common clusters in romance movies\n",
    "fig, ax = plt.subplots(figsize=(10, 5))\n",
    "sns.countplot(x='Cluster', data=romance_cluster, order=romance_cluster.groupby(romance_cluster['Cluster']).size().sort_values(ascending=False).head(10).index, ax=ax)\n",
    "ax.set_title('Most common clusters in romance movies')\n",
    "ax.set_ylabel('Number of movies')\n",
    "xlabels = ['Crazy jealous guy', 'Big man on campus',\n",
    "           'Brainless beauty', 'Ditz', 'Slacker', 'Jerk jock', 'Loser protagonist', 'Romantic runner-up', 'Chanteuse', 'Casanova' ]\n",
    "ax.set_xticklabels(xlabels)\n",
    "#Tilt x tick labels\n",
    "plt.setp(ax.get_xticklabels(), rotation=45, horizontalalignment='right')\n",
    "ax.set_xlabel('')\n",
    "sns.set_style('darkgrid')\n",
    "sns.set_palette('flare')\n",
    "plt.show()\n"
   ]
  }
 ],
 "metadata": {
  "colab": {
   "provenance": []
  },
  "kernelspec": {
   "display_name": "ML",
   "language": "python",
   "name": "python3"
  },
  "language_info": {
   "codemirror_mode": {
    "name": "ipython",
    "version": 3
   },
   "file_extension": ".py",
   "mimetype": "text/x-python",
   "name": "python",
   "nbconvert_exporter": "python",
   "pygments_lexer": "ipython3",
   "version": "3.10.4 | packaged by conda-forge | (main, Mar 30 2022, 08:38:02) [MSC v.1916 64 bit (AMD64)]"
  },
  "vscode": {
   "interpreter": {
    "hash": "645a45bafa7a70bf663118869c5a8c62ee426a479322e8202ebe39ad8b921733"
   }
  }
 },
 "nbformat": 4,
 "nbformat_minor": 1
}
