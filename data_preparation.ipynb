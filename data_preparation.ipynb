{
 "cells": [
  {
   "cell_type": "markdown",
   "metadata": {},
   "source": [
    "#### Data preparation\n",
    "\n",
    "We extract plot summaries that we will pass through our pipeline and store them as `.txt` files to be able to run them through the new coreNLP pipeline. "
   ]
  },
  {
   "cell_type": "code",
   "execution_count": 103,
   "metadata": {},
   "outputs": [],
   "source": [
    "from load_data import *\n",
    "from coreNLP_analysis import *\n",
    "from extraction import *\n",
    "\n",
    "\n",
    "movie_df = load_movie_df()\n",
    "plot_df = load_plot_df()"
   ]
  },
  {
   "cell_type": "markdown",
   "metadata": {},
   "source": [
    "Remove the romance plot summaries which were already processed through the pipeline."
   ]
  },
  {
   "cell_type": "code",
   "execution_count": 108,
   "metadata": {},
   "outputs": [],
   "source": [
    "romance_genres = ['Romantic comedy', 'Romance Film', 'Romantic drama', 'Romantic fantasy', 'Romantic thriller']\n",
    "rom_com_plots = get_plots(romance_genres, movie_df, plot_df)\n",
    "split_df = plot_df[~plot_df['Wikipedia ID'].isin(rom_com_plots['Wikipedia ID'])]"
   ]
  },
  {
   "cell_type": "code",
   "execution_count": 109,
   "metadata": {},
   "outputs": [
    {
     "name": "stdout",
     "output_type": "stream",
     "text": [
      "Number of non-romance movie plots:  35049\n",
      "Number of romance movie plots:  7254\n"
     ]
    }
   ],
   "source": [
    "print('Number of non-romance movie plots: ', len(split_df['Wikipedia ID'].unique()))\n",
    "print('Number of romance movie plots: ', len(rom_com_plots['Wikipedia ID'].unique()))"
   ]
  },
  {
   "cell_type": "code",
   "execution_count": 110,
   "metadata": {},
   "outputs": [
    {
     "name": "stdout",
     "output_type": "stream",
     "text": [
      "Number of non-romance output IDs: 29198\n",
      "Number of romance output IDS:  6662\n"
     ]
    }
   ],
   "source": [
    "# Load descriptions for romance and non-romance movies\n",
    "descriptions = pd.read_csv('Data/CoreNLP/descriptions.csv', sep='\\t', index_col=0)\n",
    "romance_descriptions = pd.read_csv('Data/CoreNLP/romance_descriptions.csv', sep='\\t', index_col=0)\n",
    "\n",
    "print('Number of non-romance output IDs:', len(descriptions['movie_id'].unique()))\n",
    "print('Number of romance output IDS: ', len(romance_descriptions['movie_id'].unique()))"
   ]
  },
  {
   "cell_type": "code",
   "execution_count": 111,
   "metadata": {},
   "outputs": [],
   "source": [
    "# Get number of romance and non-romance movie descriptions\n",
    "romance_outputs = romance_descriptions['movie_id'].unique().astype(int)\n",
    "non_romance_outputs = descriptions['movie_id'].unique().astype(int)\n",
    "\n",
    "# Get number of romance and non-romance movie plots\n",
    "romance_plots = rom_com_plots['Wikipedia ID'].unique()\n",
    "non_romance_plots = split_df['Wikipedia ID'].unique()\n",
    "\n",
    "# Append list of movie ids in romance and non-romance descriptions\n",
    "plots = np.append(romance_plots, non_romance_plots)\n",
    "outputs = np.append(romance_outputs, non_romance_outputs)\n"
   ]
  },
  {
   "cell_type": "code",
   "execution_count": 114,
   "metadata": {},
   "outputs": [
    {
     "name": "stdout",
     "output_type": "stream",
     "text": [
      "Number of romance movie plots missing from romance descriptions:  592\n",
      "Number of non-romance movie plots missing from non-romance descriptions:  5851\n"
     ]
    }
   ],
   "source": [
    "# Get all movie ids in romance_plots but not in romance_outputs\n",
    "missing_romance = np.setdiff1d(romance_plots, romance_outputs)\n",
    "print('Number of romance movie plots missing from romance descriptions: ', len(missing_romance))\n",
    "\n",
    "# Get all movie ids in non_romance_plots but not in non_romance_outputs\n",
    "missing_non_romance = np.setdiff1d(non_romance_plots, non_romance_outputs)\n",
    "print('Number of non-romance movie plots missing from non-romance descriptions: ', len(missing_non_romance))"
   ]
  },
  {
   "cell_type": "markdown",
   "metadata": {},
   "source": [
    "Split the remaining plot summaries into 4 parts. Change the value whoami to your name (Alex, Antoine, Hugo). "
   ]
  },
  {
   "cell_type": "code",
   "execution_count": null,
   "metadata": {},
   "outputs": [],
   "source": [
    "alex = split_df.iloc[:int(len(split_df)/4)]\n",
    "antoine = split_df.iloc[int(len(split_df)/4):int(len(split_df)/2)]\n",
    "hugo = split_df.iloc[int(len(split_df)/2):int(3*len(split_df)/4)]\n",
    "marg = split_df.iloc[int(3*len(split_df)/4):]\n",
    "\n",
    "# Change whoami to your name\n",
    "whoami = antoine\n",
    "\n",
    "# Store each plot summary as .txt file\n",
    "for index, row in whoami.iterrows():\n",
    "    # If directory doesn't exist, create it\n",
    "    if not os.path.exists('Plots/'):\n",
    "        os.makedirs('Plots/')\n",
    "    with open(\"Plots/\" + \"{}.txt\".format(row['Wikipedia ID']), 'w', encoding='utf8') as f:\n",
    "        if type(row['Summary']) == str:\n",
    "            f.write(row['Summary'])\n",
    "            f.close()"
   ]
  }
 ],
 "metadata": {
  "kernelspec": {
   "display_name": "Python 3.9.6 64-bit",
   "language": "python",
   "name": "python3"
  },
  "language_info": {
   "codemirror_mode": {
    "name": "ipython",
    "version": 3
   },
   "file_extension": ".py",
   "mimetype": "text/x-python",
   "name": "python",
   "nbconvert_exporter": "python",
   "pygments_lexer": "ipython3",
   "version": "3.9.6"
  },
  "orig_nbformat": 4,
  "vscode": {
   "interpreter": {
    "hash": "31f2aee4e71d21fbe5cf8b01ff0e069b9275f58929596ceb00d14d90e3e16cd6"
   }
  }
 },
 "nbformat": 4,
 "nbformat_minor": 2
}
