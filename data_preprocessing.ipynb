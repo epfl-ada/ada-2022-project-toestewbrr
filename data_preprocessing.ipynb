{
 "cells": [
  {
   "cell_type": "markdown",
   "metadata": {
    "collapsed": true,
    "id": "AYC13i4R39dN"
   },
   "source": [
    "# Applied Data Analysis Project\n",
    "**Team**: ToeStewBrr - Alexander Sternfeld, Marguerite Thery, Antoine Bonnet, Hugo Bordereaux\n",
    "\n",
    "**Dataset**: CMU Movie Summary Corpus\n"
   ]
  },
  {
   "cell_type": "code",
   "execution_count": null,
   "metadata": {
    "id": "MlSSpJAG39dP"
   },
   "outputs": [],
   "source": [
    "import requests\n",
    "import tarfile\n",
    "import urllib\n",
    "import os\n",
    "import pandas as pd\n",
    "import seaborn as sns\n",
    "import numpy as np\n",
    "import matplotlib as plt\n",
    "import re"
   ]
  },
  {
   "cell_type": "markdown",
   "metadata": {
    "id": "_TadIrDF39dR"
   },
   "source": [
    "## 1. Loading data\n",
    "\n",
    "We first extract all files from the [MoviesSummaries dataset](http://www.cs.cmu.edu/~ark/personas/). "
   ]
  },
  {
   "cell_type": "code",
   "execution_count": null,
   "metadata": {},
   "outputs": [],
   "source": [
    "if not os.path.exists('Data/MovieSummaries'):\n",
    "    filename = 'http://www.cs.cmu.edu/~ark/personas/data/MovieSummaries.tar.gz'\n",
    "    my_tar = tarfile.open(fileobj=urllib.request.urlopen(filename), mode=\"r:gz\") \n",
    "    my_tar.extractall('./Data') # specify which folder to extract to\n",
    "    my_tar.close()"
   ]
  },
  {
   "cell_type": "markdown",
   "metadata": {
    "id": "eoIsNdG539dR"
   },
   "source": [
    "## 2. Pre-processing data\n",
    "\n",
    "### 1. Plot summaries\n",
    "\n",
    "`plot_summaries.txt [29 M]`: Plot summaries of 42,306 movies extracted from the November 2, 2012 dump of English-language Wikipedia.  Each line contains the Wikipedia movie ID (which indexes into movie.metadata.tsv) followed by the summary."
   ]
  },
  {
   "cell_type": "code",
   "execution_count": null,
   "metadata": {
    "id": "z6AUVYUc39dS",
    "outputId": "f909218b-7eaa-40d6-faee-e6937677b4c9"
   },
   "outputs": [],
   "source": [
    "plot_path = 'Data/MovieSummaries/plot_summaries.txt'\n",
    "plot_cols = ['Wikipedia ID', 'Summary']\n",
    "plot_df = pd.read_csv(plot_path, sep='\\t', header=None, names=plot_cols, index_col=0)\n",
    "plot_df"
   ]
  },
  {
   "cell_type": "markdown",
   "metadata": {
    "id": "d8vh3IEW39dS"
   },
   "source": [
    "### 2. Movie metadata\n",
    "\n",
    "`movie.metadata.tsv.gz [3.4 M]`: Metadata for 81,741 movies, extracted from the Noverber 4, 2012 dump of Freebase.  Tab-separated; columns:\n",
    "\n",
    "1. Wikipedia movie ID\n",
    "2. Freebase movie ID\n",
    "3. Movie name\n",
    "4. Movie release date\n",
    "5. Movie box office revenue\n",
    "6. Movie runtime\n",
    "7. Movie languages (Freebase ID:name tuples)\n",
    "8. Movie countries (Freebase ID:name tuples)\n",
    "9. Movie genres (Freebase ID:name tuples)\n"
   ]
  },
  {
   "cell_type": "code",
   "execution_count": null,
   "metadata": {},
   "outputs": [],
   "source": [
    "strip_encoding = lambda x: np.nan if x == '{}' else \\\n",
    "    [w.replace(' Language', '').replace(' language', '') for w in re.findall(r'\"(.*?)\"', x)[1::2]]"
   ]
  },
  {
   "cell_type": "code",
   "execution_count": null,
   "metadata": {
    "colab": {
     "base_uri": "https://localhost:8080/",
     "height": 898
    },
    "id": "p5NKaQHm39dT",
    "outputId": "3b973e13-6efd-4c48-95a7-0346d5ec753c"
   },
   "outputs": [],
   "source": [
    "movie_path = 'Data/MovieSummaries/movie.metadata.tsv'\n",
    "movie_cols = ['Wikipedia ID', 'Freebase ID', 'Name', 'Release date', \n",
    "              'Box office revenue', 'Runtime', 'Languages', 'Countries', 'Genres']\n",
    "movie_df = pd.read_csv(movie_path, sep='\\t', header=None, names=movie_cols, index_col=0, dtype = {'Freebase ID': str})\n",
    "movie_df['Languages'] = movie_df['Languages'].apply(strip_encoding)\n",
    "movie_df['Countries'] = movie_df['Countries'].apply(strip_encoding)\n",
    "movie_df['Genres'] = movie_df['Genres'].apply(strip_encoding)\n",
    "movie_df"
   ]
  },
  {
   "cell_type": "markdown",
   "metadata": {
    "id": "GMGsQrxV39dT"
   },
   "source": [
    "### 3. Character metadata\n",
    "\n",
    "`character.metadata.tsv.gz [14 M]`: Metadata for 450,669 characters aligned to the movies above, extracted from the November 4, 2012 dump of Freebase.  Tab-separated; columns:\n",
    "\n",
    "1. Wikipedia movie ID\n",
    "2. Freebase movie ID\n",
    "3. Movie release date\n",
    "4. Character name\n",
    "5. Actor date of birth\n",
    "6. Actor gender\n",
    "7. Actor height (in meters)\n",
    "8. Actor ethnicity (Freebase ID)\n",
    "9. Actor name\n",
    "10. Actor age at movie release\n",
    "11. Freebase character/actor map ID\n",
    "12. Freebase character ID\n",
    "13. Freebase actor ID\n"
   ]
  },
  {
   "cell_type": "code",
   "execution_count": null,
   "metadata": {
    "colab": {
     "base_uri": "https://localhost:8080/",
     "height": 762
    },
    "id": "7xdjzblS39dT",
    "outputId": "9c609dff-a8d6-495a-f3c5-7e12ffb2639d"
   },
   "outputs": [],
   "source": [
    "char_path = 'Data/MovieSummaries/character.metadata.tsv'\n",
    "char_cols = ['Wikipedia ID', 'Freebase ID', 'Release date', 'Character name', 'Date of birth', \n",
    "             'Gender', 'Height', 'Ethnicity', 'Actor name', 'Actor age at release', \n",
    "             'Freebase character/map ID', 'Freebase character ID', 'Freebase actor ID']\n",
    "char_df = pd.read_csv(char_path, sep='\\t', header=None, names=char_cols, index_col=0)\n",
    "char_df"
   ]
  },
  {
   "cell_type": "markdown",
   "metadata": {
    "id": "ifnIh1uE39dU"
   },
   "source": [
    "### 4. CoreNLP Plot Summaries\n",
    "\n",
    "`corenlp_plot_summaries.tar.gz [628 M, separate download]`: The plot summaries from above, run through the Stanford CoreNLP pipeline (tagging, parsing, NER and coref). Each filename begins with the Wikipedia movie ID (which indexes into movie.metadata.tsv).\n"
   ]
  },
  {
   "cell_type": "code",
   "execution_count": null,
   "metadata": {},
   "outputs": [],
   "source": [
    "if not os.path.exists('Data/CoreNLP'):\n",
    "    coreNLPfilename = 'http://www.cs.cmu.edu/~ark/personas/data/corenlp_plot_summaries.tar'\n",
    "    my_tar = tarfile.open(fileobj=urllib.request.urlopen(coreNLPfilename), mode=\"r|\") \n",
    "    my_tar.extractall(path='./Data/CoreNLP') # specify which folder to extract to\n",
    "    my_tar.close()"
   ]
  },
  {
   "cell_type": "code",
   "execution_count": null,
   "metadata": {
    "colab": {
     "base_uri": "https://localhost:8080/",
     "height": 222
    },
    "id": "0FrHh7wN39dU",
    "outputId": "4258b30a-cb08-45ae-86c3-744e9633ffc4"
   },
   "outputs": [],
   "source": [
    "#NER tag = person can give us the characters mention in the plot summary. \n",
    "\n",
    "import gzip\n",
    "import xml.etree.ElementTree as ET\n",
    "directory = './corenlp_plot_summaries'\n",
    "#TODO: Need to extract each file and convert them to xml \n",
    "#For loop to open every file in the directory\n",
    "for filename in os.listdir(directory):\n",
    "  f = os.path.join(directory, filename) \n",
    "  if os.path.isfile(f):\n",
    "    #open and store file as xml \n",
    "    \n"
   ]
  },
  {
   "cell_type": "code",
   "execution_count": null,
   "metadata": {
    "colab": {
     "base_uri": "https://localhost:8080/"
    },
    "id": "gfYMmpwSGxMD",
    "outputId": "c45a3a93-e2ae-4785-f362-814836b0be1a"
   },
   "outputs": [],
   "source": [
    "#Use file I already extracted on my computer to run some tests\n",
    "tree = ET.parse('3217.xml')\n",
    "root = tree.getroot()\n",
    "\n",
    "print(len(root.findall('.//*governor'))) #use parse or basic-dependencies to have more info \n",
    "#print(root.findall('.//*governor').text())\n",
    "for l in root.findall('.//*NER'): \n",
    "  if len(l.text) > 1:\n",
    "    print(l.text)\n"
   ]
  },
  {
   "cell_type": "markdown",
   "metadata": {
    "id": "3BHCfeenl6-3"
   },
   "source": [
    "### 5. TV Tropes Clusters\n",
    "\n",
    "We reformat the file `tvtropes.clusters.txt` so it is easier to use."
   ]
  },
  {
   "cell_type": "code",
   "execution_count": null,
   "metadata": {
    "colab": {
     "base_uri": "https://localhost:8080/",
     "height": 537
    },
    "id": "25-cuhaOhxw9",
    "outputId": "40ae44d8-796f-48e2-8031-d686eea18f07"
   },
   "outputs": [],
   "source": [
    "path = 'Data/MovieSummaries/'\n",
    "cluster_path = path+'tvtropes.clusters.format.txt'\n",
    "cluster_cols = ['Cluster', 'Character name', 'Movie', 'Freebase character/map ID', 'Actor']\n",
    "cluster_df = pd.read_csv(cluster_path, sep=',', header=None, names=cluster_cols, dtype = {'Freebase ID': str})\n",
    "cluster_df"
   ]
  },
  {
   "cell_type": "markdown",
   "metadata": {
    "id": "OFbHAkx-mHwA"
   },
   "source": [
    "### 6. Join cluster and movies\n",
    "\n",
    " We now join the TV tropes clusters with movie.metadata so we are able to access movie genre and filter on romance. "
   ]
  },
  {
   "cell_type": "code",
   "execution_count": null,
   "metadata": {
    "colab": {
     "base_uri": "https://localhost:8080/"
    },
    "id": "1J_1KXB40qbR",
    "outputId": "02b73165-d4d5-4d24-e13f-1b8c8e5b7560"
   },
   "outputs": [],
   "source": [
    "cluster_char = cluster_df.merge(char_df, on='Freebase character/map ID')\n",
    "cluster_char_movie = cluster_char.merge(movie_df, on='Freebase ID')\n",
    "romance_cluster = cluster_char_movie[cluster_char_movie['Genres'].apply(lambda x: 'Roman' in x)]\n",
    "romance_cluster.groupby(romance_cluster['Cluster']).size().sort_values(ascending=False)"
   ]
  },
  {
   "cell_type": "code",
   "execution_count": null,
   "metadata": {},
   "outputs": [],
   "source": []
  }
 ],
 "metadata": {
  "colab": {
   "provenance": []
  },
  "kernelspec": {
   "display_name": "Python 3.9.6 64-bit",
   "language": "python",
   "name": "python3"
  },
  "language_info": {
   "codemirror_mode": {
    "name": "ipython",
    "version": 3
   },
   "file_extension": ".py",
   "mimetype": "text/x-python",
   "name": "python",
   "nbconvert_exporter": "python",
   "pygments_lexer": "ipython3",
   "version": "3.9.6"
  },
  "vscode": {
   "interpreter": {
    "hash": "31f2aee4e71d21fbe5cf8b01ff0e069b9275f58929596ceb00d14d90e3e16cd6"
   }
  }
 },
 "nbformat": 4,
 "nbformat_minor": 0
}
