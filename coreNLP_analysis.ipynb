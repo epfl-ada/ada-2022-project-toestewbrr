{
 "cells": [
  {
   "cell_type": "markdown",
   "metadata": {},
   "source": [
    "# Applied Data Analysis Project\n",
    "**Team**: ToeStewBrr - Alexander Sternfeld, Marguerite Thery, Antoine Bonnet, Hugo Bordereaux\n",
    "\n",
    "**Dataset**: CMU Movie Summary Corpus\n"
   ]
  },
  {
   "cell_type": "markdown",
   "metadata": {},
   "source": [
    "## CoreNLP Analysis\n",
    "\n",
    "[**CoreNLP**](https://nlp.stanford.edu/software/) is an incredible natural language processing toolkit created at Stanford University. CoreNLP is applied through a **pipeline** of sequential analysis steps called annotators. The full list of available annotators is available [here](https://stanfordnlp.github.io/CoreNLP/annotators.html). \n",
    "\n",
    "As described by its creators: \n",
    "\n",
    "*\"CoreNLP is your one stop shop for natural language processing in Java! CoreNLP enables users to derive linguistic annotations for text, including token and sentence boundaries, parts of speech, named entities, numeric and time values, dependency and constituency parses, coreference, sentiment, quote attributions, and relations. CoreNLP currently supports 8 languages: Arabic, Chinese, English, French, German, Hungarian, Italian, and Spanish.\"* \n",
    "\n",
    "You can create your own pipeline to extract the desired information. You can try it out for yourself in this [online shell](https://corenlp.run).\n",
    "\n",
    "### Loading data\n",
    "We first load data files and download the pre-processed dataframes. "
   ]
  },
  {
   "cell_type": "code",
   "execution_count": 2,
   "metadata": {},
   "outputs": [],
   "source": [
    "from zipfile import ZipFile\n",
    "import seaborn as sns\n",
    "import matplotlib.pyplot as plt\n",
    "import spacy\n",
    "import nltk\n",
    "from nltk.corpus import stopwords\n",
    "from nltk.tokenize import word_tokenize\n",
    "import pandas as pd\n",
    "import numpy as np\n",
    "\n",
    "from load_data import *\n",
    "from coreNLP_analysis import *\n",
    "from extraction import *\n",
    "\n",
    "download_data(coreNLP=False)\n",
    "plot_df = load_plot_df()\n",
    "movie_df = load_movie_df()\n",
    "char_df = load_char_df()\n",
    "names_df = load_names_df()\n",
    "cluster_df = load_cluster_df()"
   ]
  },
  {
   "cell_type": "markdown",
   "metadata": {},
   "source": [
    "### 1. Exploring pre-processed CoreNLP data\n",
    "\n",
    "The authors of the Movie CMU dataset used CoreNLP to parse each plot summary to extract various linguistic insights. In this section, we explore how much information we can gather from these pre-processed files. \n",
    "\n",
    "We will use *Harry Potter*'s character throughout this section.\n",
    "\n",
    "#### 1.1. Character data\n",
    "\n",
    "For any character, we first extract related information from the provided name clusters and character metadata."
   ]
  },
  {
   "cell_type": "code",
   "execution_count": null,
   "metadata": {},
   "outputs": [],
   "source": [
    "# Given character, extract all pre-processed dataframe data\n",
    "char_name = 'Harry Potter'\n",
    "movie_ids = list(char_df[char_df['Character name'] == char_name]['Wikipedia ID'])\n",
    "\n",
    "print('Movies with character', char_name, ':')\n",
    "print('\\tMovie IDs:', movie_ids)\n",
    "\n",
    "movie_id = movie_ids[3]\n",
    "movie_name = movie_df.loc[movie_df['Wikipedia ID'] == movie_id]['Name'].iloc[0]\n",
    "\n",
    "print('Selecting as example: \\n\\tMovie ID:', movie_id, '\\n\\tMovie title:', movie_name)\n"
   ]
  },
  {
   "cell_type": "markdown",
   "metadata": {},
   "source": [
    "#### 1.2. Extracting sentences\n",
    "\n",
    "We now extract information from the CoreNLP plot summary analysis. The authors of the dataset stored the analysis output of each movie into a `.xml` file. Each file has a tree structure detailing each word of each sentence as well as the parsed sentence in tree form. \n",
    "\n",
    "We now extract all parsed sentences from the `.xml` files. \n",
    "\n",
    "A **parsed sentence** is a syntactic analysis tree, where each word is a leaf tagged by its lexical function (e.g. *VBZ* for verbs or *DT* for determinants). Semantic interactions between different words are also indicated within the structure of the tree. "
   ]
  },
  {
   "cell_type": "code",
   "execution_count": null,
   "metadata": {},
   "outputs": [],
   "source": [
    "# Extract the tree of xml file and all parsed sentences\n",
    "tree = get_tree(movie_id)\n",
    "sentences = get_parsed_sentences(tree)\n",
    "\n",
    "# Picking the fifth sentence as example\n",
    "parsed_str = sentences[5]\n",
    "print(parsed_str)\n",
    "print_tree(parsed_str)"
   ]
  },
  {
   "cell_type": "markdown",
   "metadata": {},
   "source": [
    "#### 1.3. Extracting characters\n",
    "\n",
    "We also want to extract all character names directly from the xml file. Note that we aggregate consecutive words tagged as NNP (noun, proper, singular) as the same character name (this assumes that plot summaries never contain two distinct names side by side without delimiting punctuation). This is a reasonable assumption since list of names are almost always separated by commas. "
   ]
  },
  {
   "cell_type": "code",
   "execution_count": null,
   "metadata": {},
   "outputs": [],
   "source": [
    "characters = get_characters(tree)\n",
    "print(characters[:20])"
   ]
  },
  {
   "cell_type": "markdown",
   "metadata": {},
   "source": [
    "Notice that some characters are sometimes mentioned by their full name, and sometimes by a partial name (e.g. Harry Potter is most often mentioned as simply Harry). To get a more precise idea of how many times each character is mentioned, we wish to denote each character by their full name, i.e. the longest version of their name that appears in the plot summary. \n",
    "\n",
    "*NOTE*: The dataset has the character metadata of only a third of the movies, so we need to extract full names from the plot summary itself and not the provided dataframes. \n",
    "\n",
    "To optimize full name lookup, for each plot summary we construct a dictionary which stores as key every partial name mentioned, and as corresponding values the full name of each character.  "
   ]
  },
  {
   "cell_type": "code",
   "execution_count": null,
   "metadata": {},
   "outputs": [],
   "source": [
    "char_name = 'Albus'\n",
    "full_name = get_full_name(char_name, characters)\n",
    "print('Example: the full name of \"{}\" is \"{}\".'.format(char_name,full_name))\n",
    "print('Full name dictionary:', full_name_dict(characters))"
   ]
  },
  {
   "cell_type": "markdown",
   "metadata": {},
   "source": [
    "We can now extract the most mentioned characters in any plot summary, in descending order of frequency. We can then see that Harry Potter is indeed the main character of the movie, as he is mentioned 26 times, more than any other character in the summary.  "
   ]
  },
  {
   "cell_type": "code",
   "execution_count": null,
   "metadata": {},
   "outputs": [],
   "source": [
    "char_mentions = most_mentioned(movie_id)\n",
    "print(char_mentions)"
   ]
  },
  {
   "cell_type": "markdown",
   "metadata": {},
   "source": [
    " #### 1.4. Extracting interactions\n",
    "\n",
    "We are also interested in character interactions. We can use the number of common mentions of two characters in the same sentence as a proxy for the number of interactions. For any movie, we find the number of common mentions (i.e. interactions) for each pair of characters. "
   ]
  },
  {
   "cell_type": "code",
   "execution_count": null,
   "metadata": {},
   "outputs": [],
   "source": [
    "char_pairs = character_pairs(movie_id, plot_df)\n",
    "print(char_pairs[:10])"
   ]
  },
  {
   "cell_type": "code",
   "execution_count": null,
   "metadata": {},
   "outputs": [],
   "source": [
    "main_interaction = character_pairs(movie_id, plot_df)[0][0]\n",
    "print('Main interaction in the movie:', main_interaction)"
   ]
  },
  {
   "cell_type": "markdown",
   "metadata": {},
   "source": [
    "#### 1.5. Extracting characters and interactions of all movies\n",
    "\n",
    "We will now use the above code to obtain the main character and main interaction for every plot summary. \n",
    "\n",
    "*NOTE*: This code takes a while to run, so you can load the analysis from a pre-processed file instead.  "
   ]
  },
  {
   "cell_type": "code",
   "execution_count": null,
   "metadata": {},
   "outputs": [],
   "source": [
    "# NOTE: If we've already run this code, we can load the dataframe from a file\n",
    "plot_char_filename = 'Data/MovieSummaries/plot_characters.csv'\n",
    "pairs_df = pd.read_csv(plot_char_filename, sep='\\t', index_col=0)\n",
    "pairs_df"
   ]
  },
  {
   "cell_type": "code",
   "execution_count": null,
   "metadata": {},
   "outputs": [],
   "source": [
    "# Otherwise: get main character and number of mentions for each movie and store it into a file (takes a while to run)\n",
    "if not os.path.exists(plot_char_filename):\n",
    "    pairs_df = plot_df.copy(deep=True)\n",
    "    pairs_df['Main character'] = pairs_df['Wikipedia ID'].apply(most_mentioned)\n",
    "    pairs_df['Number of mentions'] = pairs_df['Main character'].apply(lambda x: np.nan if x is None else x[0][1])\n",
    "    pairs_df['Main character'] = pairs_df['Main character'].apply(lambda x: np.nan if x is None else x[0][0])\n",
    "\n",
    "    # Get main pairs of characters for each movie and number of interactions \n",
    "    pairs_df['Main interaction'] = pairs_df['Wikipedia ID'].apply(lambda x: character_pairs(x, plot_df))\n",
    "    pairs_df['Number of interactions'] = pairs_df['Main interaction'].apply(lambda x: np.nan if x is None else x[0][1])\n",
    "    pairs_df['Main interaction'] = pairs_df['Main interaction'].apply(lambda x: np.nan if x is None else x[0][0])\n",
    "\n",
    "    # Store data into csv file\n",
    "    pairs_df.to_csv(plot_char_filename, sep='\\t')\n",
    "    pairs_df"
   ]
  },
  {
   "cell_type": "markdown",
   "metadata": {},
   "source": [
    "In conclusion, the coreNLP files provided with the datasets are useful to extract the characters mentioned. \n",
    "\n",
    " However, our goal is to extract love relationships as well as the persona of characters in love. Using common mentions as a proxy for love relationships is a vulgar approximation and so we must run our own NLP analysis on the plot summaries to extract useful information. "
   ]
  },
  {
   "cell_type": "markdown",
   "metadata": {},
   "source": [
    "### 2. Custom CoreNLP Analysis\n",
    "\n",
    "We now use a **custom CoreNLP pipeline** to analyze the plot summaries. For now, due to the weakness of our available computing power, we only analyze romantic comedy movies. \n",
    "\n",
    "\n",
    "#### 2.1. Data preparation\n",
    "\n",
    "We extract the romantic comedy plot summaries that we will pass through our pipeline and store them as `.txt` files to be able to run them through the new coreNLP pipeline. "
   ]
  },
  {
   "cell_type": "code",
   "execution_count": null,
   "metadata": {},
   "outputs": [],
   "source": [
    "# For later use: romance_genres = ['Romantic comedy', 'Romance Film', 'Romantic drama', 'Romantic fantasy', 'Romantic thriller']\n",
    "\n",
    "# Get a dataframe with romantic movies and their corresponding plots\n",
    "romance_genres = ['Romantic comedy'] \n",
    "rom_com_plots = get_plots(romance_genres, movie_df, plot_df)\n",
    "#display(rom_com_plots)\n",
    "\n",
    "# Store each plot summary as .txt file\n",
    "for index, row in rom_com_plots.iterrows():\n",
    "    # If directory doesn't exist, create it\n",
    "    if not os.path.exists('Data/MovieSummaries/RomancePlots'):\n",
    "        os.makedirs('Data/MovieSummaries/RomancePlots')\n",
    "    with open(\"Data/MovieSummaries/RomancePlots/{}.txt\".format(row['Wikipedia ID']), 'w', encoding='utf8') as f:\n",
    "        if type(row['Summary']) == str:\n",
    "            f.write(row['Summary'])\n",
    "            f.close()"
   ]
  },
  {
   "cell_type": "markdown",
   "metadata": {},
   "source": [
    "#### 2.1. Custom CoreNLP pipeline\n",
    "\n",
    "Our custom pipeline consists of the following annotators: \n",
    "\n",
    "1. [Tokenization (tokenize)](https://stanfordnlp.github.io/CoreNLP/tokenize.html): Turns the whole text into tokens. \n",
    "\n",
    "2. [Parts Of Speech (POS)](https://stanfordnlp.github.io/CoreNLP/pos.html): Tags each token with part of speech labels (e.g. determinants, verbs and nouns). \n",
    "\n",
    "3. [Lemmatization (lemma)](https://stanfordnlp.github.io/CoreNLP/lemma.html): Reduces each word to its lemma (e.g. *was* becomes *be*). \n",
    "\n",
    "4. [Named Entity Recognition (NER)](https://stanfordnlp.github.io/CoreNLP/ner.html): Identifies named entities from the text, including characters, locations and organizations. \n",
    "\n",
    "5. [Constituency parsing (parse)](https://stanfordnlp.github.io/CoreNLP/parse.html): Performs a syntactic analysis of each sentence in the form of a tree. \n",
    "\n",
    "6. [Coreference resolution (coref)](https://stanfordnlp.github.io/CoreNLP/coref.html): Aggregates mentions of the same entities in a text (e.g. when 'Harry' and 'he' refer to the same person). \n",
    "\n",
    "7. [Dependency parsing (depparse)](https://stanfordnlp.github.io/CoreNLP/depparse.html): Syntactic dependency parser. \n",
    "\n",
    "8. [Natural Logic (natlog)](https://stanfordnlp.github.io/CoreNLP/natlog.html): Identifies quantifier scope and token polarity. Required as preliminary for OpenIE. \n",
    "\n",
    "9. [Open Information Extraction (OpenIE)](https://stanfordnlp.github.io/CoreNLP/openie.html): Identifies relation between words as triples *(subject, relation, object of relation)*. We use this to extract relationships between characters, as well as character traits. \n",
    "\n",
    "10. [Knowledge Base Population (KBP)](https://stanfordnlp.github.io/CoreNLP/kbp.html): Identifies meaningful relation triples. \n",
    "\n",
    "\n",
    "#### 2.2. Running our pipeline\n",
    "\n",
    "We now run our own CoreNLP analysis on the plot summaries. This allows us to extract love relationships from the plot summaries much more accurately.\n",
    "\n",
    "**Goal**: Run our custom CoreNLP pipeline. \n",
    "\n",
    "**Recommendation**: Be careful about memory storage (takes a lot of memory to run!)\n",
    "\n",
    "**Prerequisite**: [java](https://www.java.com). \n",
    "\n",
    "**Installation steps**:\n",
    "1. Download the CoreNLP toolkit [here](https://stanfordnlp.github.io/CoreNLP/download.html).\n",
    "\n",
    "2. Data preparation: Extract plot summaries for romantic comedies into `.txt` files. Create a filelist containing the name of all the files which need to be processed using the following command: \n",
    "\n",
    "        find RomancePlots/*.txt > filelist.txt\n",
    "\n",
    "3. Change directory (`cd`) into the downloaded `stanford-corenlp` directory. \n",
    "        \n",
    "4. Run the custom CoreNLP pipeline via your terminal using the following command:\n",
    "\n",
    "        java -mx4g -cp \"*\" edu.stanford.nlp.pipeline.StanfordCoreNLP -annotators tokenize,pos,lemma,ner,parse,coref,depparse,natlog,openie,kbp -coref.md.type RULE -filelist filelist.txt -outputDirectory RomancePlotsOutputs/ -outputFormat xml"
   ]
  },
  {
   "cell_type": "markdown",
   "metadata": {},
   "source": [
    "The analysis outputs are now stored as `.xml` files in the `RomancePlotsOutputs` directory. We now unzip them. RomancePlotsOutputs has 1491 readable files. "
   ]
  },
  {
   "cell_type": "code",
   "execution_count": null,
   "metadata": {},
   "outputs": [],
   "source": [
    "# Extract all the romance plots xml files\n",
    "with ZipFile('CoreNLP/RomanceOutputs.zip', 'r') as zipObj:\n",
    "   zipObj.extractall('')\n"
   ]
  },
  {
   "cell_type": "markdown",
   "metadata": {},
   "source": [
    "### 3. Extracting data\n",
    "\n",
    "Now that we have run the coreNLP pipeline and that the analysis of each movie has been a stored into a .xml output file, we can extract the information from these files. \n",
    "\n",
    "We will first extract the attributes and actions related to entities in the plot summaries. We will extract verbs and attributes independently. \n",
    "Agent verb: character does the action\n",
    "Patient verb: character is the object of the action\n",
    "Attributes: character attributes\n",
    "\n",
    "**Dependency parsing extraction**\n",
    "| Relation | Description |  Type  |  Example |\n",
    "|---|---|---|---|\n",
    "| obl:agent | Agent | Agent verb | 'They were rescued by Dumbledore' -> obl:agent(rescued, Dumbledore) |\n",
    "| nsubj  | Nominal subject | Agent verb | 'Harry confronts Snape' -> nsubj(confronts, Harry) |\n",
    "| nsubj:pass | Passive nominal subject | Patient verb | 'Goyle casts a curse and is burned to death' -> nsubj:pass(burned, Goyle)|\n",
    "| nsubj:xsubj | Indirect nominal subject | Patient verb | 'Goyle casts a curse and is unable to control it' -> nsubj:xsubj(control, Goyle)|\n",
    "| obj |  Direct object | Patient verb | 'To protect Harry' -> obj(protect, Harry) |\n",
    "| appos | Appositional modifier | Attribute | 'Harry's mother, Lily' -> appos(mother, Lily) |\n",
    "| amod | Adjectival modifier | Attribute | 'After burrying Dobby' -> amod(Dobby, burrying) |\n",
    "| nmod:poss | Possessive nominal modifier | Attribute | 'Snape's memories' -> nmod:poss(memories, Snape) |\n",
    "| nmod:of | 'Of' nominal modifier | Attribute |'With the help of Griphook' -> nmod:of(help, Griphook) |\n",
    "\n",
    "We will also extract KBP outputs, which stores data including the main role, spouse, age and religion for each character if specified. \n",
    "\n",
    "**KBP Extraction**\n",
    "| Attributes | Relation name | \n",
    "|---|---|\n",
    "| Main role | per:title |\n",
    "| Marital relationship | per:spouse  |  \n",
    "| Age  | per:age | \n",
    "| Religion  | per:religion | \n",
    "\n",
    "[KBP documentation](https://stanfordnlp.github.io/CoreNLP/kbp.html)"
   ]
  },
  {
   "cell_type": "markdown",
   "metadata": {},
   "source": [
    "As an example, we extract the description of each character in the Harry Potter movie, which is composed of all agent verbs, patient verbs and attributes present in the plot summary. We also extract the love relationships in the movie, if present. "
   ]
  },
  {
   "cell_type": "code",
   "execution_count": null,
   "metadata": {},
   "outputs": [],
   "source": [
    "example_filename = f'Data/CoreNLP/PlotsOutputs/667372.xml'\n",
    "\n",
    "tree = ET.parse(example_filename)\n",
    "descriptions_df, relations_df = get_descriptions_relations(tree)\n",
    "display(descriptions_df)\n",
    "display(relations_df)"
   ]
  },
  {
   "cell_type": "markdown",
   "metadata": {},
   "source": [
    "### Analysis titles"
   ]
  },
  {
   "cell_type": "markdown",
   "metadata": {},
   "source": [
    "We first embed the titles, to then be able to cluster them"
   ]
  },
  {
   "cell_type": "code",
   "execution_count": null,
   "metadata": {},
   "outputs": [],
   "source": [
    "#Cluster the titles using kmeans\n",
    "from sklearn.cluster import KMeans\n",
    "from sklearn.metrics import silhouette_score\n",
    "\n",
    "# Create a list of silhouette scores for different k values\n",
    "silhouette_scores = []\n",
    "for k in range(2, 150):\n",
    "    kmeans = KMeans(n_clusters=k, random_state=0).fit(char_embeddings['title_embeddings'].tolist())\n",
    "    silhouette_scores.append(silhouette_score(char_embeddings['title_embeddings'].tolist(), kmeans.labels_))\n",
    "\n",
    "# Plot the silhouette scores\n",
    "plt.plot(range(2, 150), silhouette_scores)\n",
    "plt.xlabel('Number of clusters')\n",
    "plt.ylabel('Silhouette score')\n",
    "plt.show()"
   ]
  },
  {
   "cell_type": "code",
   "execution_count": null,
   "metadata": {},
   "outputs": [],
   "source": [
    "# kmeans with , only assign title to a cluster if the silhouette score is above 0.1\n",
    "kmeans = KMeans(n_clusters=60, random_state=0).fit(\n",
    "    char_embeddings['title_embeddings'].tolist())\n",
    "char_embeddings['Cluster'] = kmeans.labels_\n",
    "title_embeddings = char_embeddings[char_embeddings['Cluster'].apply(\n",
    "    lambda x: silhouette_score(char_embeddings['title_embeddings'].tolist(), kmeans.labels_) > 0.05)]"
   ]
  },
  {
   "cell_type": "code",
   "execution_count": null,
   "metadata": {},
   "outputs": [],
   "source": [
    "# import counter\n",
    "from collections import Counter\n",
    "# Get a dataframe, where each row is a cluster and the columns are the top 10 words in the cluster\n",
    "def get_cluster_words(df, n_words=10):\n",
    "    # Get the titles for each cluster\n",
    "    cluster_titles = df.groupby('Cluster')['title'].apply(lambda x: ' '.join(x))\n",
    "    # Get the top n words for each cluster\n",
    "    cluster_words = cluster_titles.apply(lambda x: pd.Series(\n",
    "        [item[0] for item in Counter(x.split()).most_common(n_words)]))\n",
    "    # Add the cluster number as a column\n",
    "    cluster_words['Cluster'] = cluster_words.index\n",
    "    return cluster_words\n",
    "\n",
    "# Get the top 10 words for each cluster\n",
    "cluster_words = get_cluster_words(title_embeddings)\n",
    "cluster_words.head(10)"
   ]
  },
  {
   "cell_type": "markdown",
   "metadata": {},
   "source": [
    "#### Analysis common titles"
   ]
  },
  {
   "cell_type": "markdown",
   "metadata": {},
   "source": [
    "#### Common titles men"
   ]
  },
  {
   "cell_type": "code",
   "execution_count": null,
   "metadata": {},
   "outputs": [],
   "source": [
    "# get from char_with_title the rows with gender male\n",
    "char_with_title_male = char_with_title[char_with_title['Gender'] == 'M']\n",
    "char_with_title_female = char_with_title[char_with_title['Gender'] == 'F']\n",
    "char_with_title_male_rom = char_with_title_rom[char_with_title_rom['Gender'] == 'M']\n",
    "char_with_title_female_rom = char_with_title_rom[char_with_title_rom['Gender'] == 'F']\n",
    "len_male = len(char_with_title_male)\n",
    "len_male_rom = len(char_with_title_male_rom)\n",
    "len_female = len(char_with_title_female)\n",
    "len_female_rom = len(char_with_title_female_rom)\n",
    "len_unknown = len(char_with_title) - len_male - len_female\n",
    "len_unknown_rom = len(char_with_title_rom) - len_male_rom - len_female_rom\n",
    "\n",
    "print('Known genders: \\n_______________________________________________________________')\n",
    "print('There are {} male characters with titles in non-romance movies.'.format(len_male))\n",
    "print('There are {} female characters with titles in non-romance movies.'.format(len_female))\n",
    "print('There are {} male characters with titles in romance movies.'.format(len_male_rom))\n",
    "print('There are {} female characters with titles in romance movies.'.format(len_female_rom))\n",
    "print('')\n",
    "print('Unknown genders: \\n_______________________________________________________________')\n",
    "print('There are {} characters with unknown gender in non-romance movies.'.format(len_unknown))\n",
    "print('There are {} characters with unknown gender in romantic movies.'.format(len_unknown_rom))"
   ]
  },
  {
   "cell_type": "markdown",
   "metadata": {},
   "source": [
    "### Analysis relationships"
   ]
  },
  {
   "cell_type": "code",
   "execution_count": null,
   "metadata": {},
   "outputs": [],
   "source": [
    "# for each relationship, add the description of both the subject and the object\n",
    "def add_descriptions(relations, descriptions):\n",
    "    # add the description of the subject\n",
    "    relations = relations.merge(descriptions, left_on=['movie_id', 'subject'], right_on=['movie_id', 'character'], how='left')\n",
    "    # add the description of the object\n",
    "    relations = relations.merge(descriptions, left_on=['movie_id', 'object'], right_on=[\n",
    "                  'movie_id', 'character'], how='left')\n",
    "    return relations\n",
    "\n",
    "# add the descriptions to the relationships\n",
    "relations_char = add_descriptions(relations, full_char)\n",
    "relations_char = relations_char.rename(columns={'subject': 'x', 'object': 'y'})\n",
    "\n",
    "# Do the same for romance movies\n",
    "relations_char_rom = add_descriptions(romance_relations, full_char_rom)\n",
    "relations_char_rom = relations_char_rom.rename(columns={'subject': 'x', 'object': 'y'})\n"
   ]
  },
  {
   "cell_type": "code",
   "execution_count": null,
   "metadata": {},
   "outputs": [],
   "source": [
    "# filter the relationships where title_x and title_y are both not null and not empty (\"\")\n",
    "title_indices = relations_char[~relations_char['title_x'].isnull() & (relations_char['title_x'] != '') &\n",
    "                                 ~relations_char['title_y'].isnull() & (relations_char['title_y'] != '')].index\n",
    "relations_titles = relations_char.loc[title_indices][['movie_id', 'x', 'y', 'title_x', 'title_y']]\n",
    "\n",
    "title_indices_rom = relations_char_rom[~relations_char_rom['title_x'].isnull() & (relations_char_rom['title_x'] != '') &\n",
    "                                    ~relations_char_rom['title_y'].isnull() & (relations_char_rom['title_y'] != '')].index\n",
    "relations_titles_rom = relations_char_rom.loc[title_indices_rom][['movie_id', 'x', 'y', 'title_x', 'title_y']]\n",
    "\n",
    "print('There are {} relationships with titles for both persons in the couple in non-romance movies.'.format(len(relations_titles)))\n",
    "print('There are {} relationships with titles for both persons in the couple in romance movies.'.format(len(relations_titles_rom)))"
   ]
  },
  {
   "cell_type": "code",
   "execution_count": null,
   "metadata": {},
   "outputs": [],
   "source": [
    "# find rows title x and title y are the same\n",
    "same_title = relations_titles[relations_titles['title_x'] == relations_titles['title_y']]\n",
    "same_title"
   ]
  },
  {
   "cell_type": "code",
   "execution_count": null,
   "metadata": {},
   "outputs": [],
   "source": [
    "# Get the top 10 pairs of title_x and title_y appearing together\n",
    "relations_titles.groupby(['title_x', 'title_y']).size().sort_values(ascending=False).head(10)\n"
   ]
  },
  {
   "cell_type": "markdown",
   "metadata": {},
   "source": [
    "### Analyzing attributes"
   ]
  },
  {
   "cell_type": "markdown",
   "metadata": {},
   "source": [
    "#### Attributes for characters in relationships\n",
    "\n",
    "Let us first look at the most common attributes for characters in relationships\n"
   ]
  },
  {
   "cell_type": "code",
   "execution_count": null,
   "metadata": {},
   "outputs": [],
   "source": [
    "attributes = full_char['attributes']\n",
    "attributes_rom = full_char_rom['attributes']\n",
    "\n",
    "# Get a dictionary with the attributes as keys and the number of times they appear as values\n",
    "def get_attribute_counts(attributes):\n",
    "    attribute_counts = {}\n",
    "    for attribute_list in attributes:\n",
    "        # check if the attribute list is not NaN\n",
    "        if not pd.isnull(attribute_list):\n",
    "            # # remove first and last character (the brackets)\n",
    "            attribute_list = attribute_list[1:-1]\n",
    "            # remove all apostrophes\n",
    "            attribute_list = attribute_list.replace(\"'\", \"\")\n",
    "            # remove all spaces\n",
    "            attribute_list = attribute_list.replace(\" \", \"\")\n",
    "            # # convert string to list\n",
    "            attribute_list = attribute_list.split(',')\n",
    "            # iterate over the attributes in the list\n",
    "            for attribute in attribute_list:\n",
    "                if attribute in attribute_counts:\n",
    "                    attribute_counts[attribute] += 1\n",
    "                else:\n",
    "                    attribute_counts[attribute] = 1\n",
    "    return attribute_counts\n",
    "\n",
    "# Get the attribute counts for non-romance movies\n",
    "attribute_counts = get_attribute_counts(attributes)\n",
    "# Get the attribute counts for romance movies\n",
    "attribute_counts_rom = get_attribute_counts(attributes_rom)\n",
    "\n"
   ]
  },
  {
   "cell_type": "code",
   "execution_count": null,
   "metadata": {},
   "outputs": [],
   "source": [
    "# Find the attributes that appear most often \n",
    "def get_most_common_attributes(attribute_counts, n_attributes):\n",
    "    # Sort the attribute counts from highest to lowest\n",
    "    sorted_attributes = sorted(attribute_counts.items(), key=lambda x: x[1], reverse=True)\n",
    "    # Get the top n_attributes\n",
    "    most_common_attributes = sorted_attributes[:n_attributes]\n",
    "    return most_common_attributes\n",
    "\n",
    "# Get the most common attributes for non-romance movies\n",
    "most_common_attributes = get_most_common_attributes(attribute_counts, 10)\n",
    "# Get the most common attributes for romance movies\n",
    "most_common_attributes_rom = get_most_common_attributes(attribute_counts_rom, 10)\n",
    "\n",
    "# Plot the 10 most common attributes for non-romance movies in a seaborn barplot, do the same for romance movies, plot side by side\n",
    "fig, (ax1, ax2) = plt.subplots(1, 2, figsize=(10, 5))\n",
    "sns.barplot(x=[attribute[0] for attribute in most_common_attributes], y=[attribute[1] for attribute in most_common_attributes], ax=ax1)\n",
    "sns.barplot(x=[attribute[0] for attribute in most_common_attributes_rom], y=[attribute[1] for attribute in most_common_attributes_rom], ax=ax2)\n",
    "# shared title\n",
    "fig.suptitle('10 most common attributes in non-romance and romance movies')\n",
    "# titles for the subplots\n",
    "ax1.set_title('Non-romance movies')\n",
    "ax2.set_title('Romance movies')\n",
    "# log scale for y axis\n",
    "ax1.set_yscale('log')\n",
    "ax2.set_yscale('log')\n",
    "# pastel palette\n",
    "sns.set_palette(\"pastel\")\n",
    "# rotate x labels\n",
    "plt.setp(ax1.get_xticklabels(), rotation=90)\n",
    "plt.setp(ax2.get_xticklabels(), rotation=90)\n",
    "# y labels\n",
    "ax1.set_ylabel('Number of appearances')\n",
    "\n",
    "plt.show()"
   ]
  },
  {
   "cell_type": "code",
   "execution_count": null,
   "metadata": {},
   "outputs": [],
   "source": [
    "from nltk.stem.wordnet import WordNetLemmatizer\n",
    "lemmatizer = WordNetLemmatizer()\n",
    "\n",
    "# for all attributes, lemmatize the words\n",
    "def lemmatize_attributes(attributes):\n",
    "    lemmatized_attributes = []\n",
    "    for attribute in attributes:\n",
    "        lemmatized_attributes.append(lemmatizer.lemmatize(attribute))\n",
    "    return lemmatized_attributes\n",
    "\n",
    "def lemmatize_verbs(verbs):\n",
    "    lemmatized_verbs = []\n",
    "    for verb in verbs:\n",
    "        lemmatized_verbs.append(lemmatizer.lemmatize(verb, 'v'))\n",
    "    return lemmatized_verbs\n",
    "\n"
   ]
  },
  {
   "cell_type": "code",
   "execution_count": null,
   "metadata": {},
   "outputs": [],
   "source": [
    "# convert column attributes to list\n",
    "full_char['attributes'] = full_char['attributes'].apply(lambda x: x if pd.isnull(x) else x[1:-1].replace(\"'\", \"\").replace(\" \", \"\").split(','))\n",
    "# convert column agent_verbs to list\n",
    "full_char['agent_verbs'] = full_char['agent_verbs'].apply(lambda x: x if pd.isnull(x) else x[1:-1].replace(\"'\", \"\").replace(\" \", \"\").split(','))\n",
    "# convert column patient_verbs to list\n",
    "full_char['patient_verbs'] = full_char['patient_verbs'].apply(lambda x: x if pd.isnull(x) else x[1:-1].replace(\"'\", \"\").replace(\" \", \"\").split(','))\n",
    "\n",
    "# same for romance movies\n",
    "full_char_rom['attributes'] = full_char_rom['attributes'].apply(lambda x: x if pd.isnull(x) else x[1:-1].replace(\"'\", \"\").replace(\" \", \"\").split(','))\n",
    "full_char_rom['agent_verbs'] = full_char_rom['agent_verbs'].apply(lambda x: x if pd.isnull(x) else x[1:-1].replace(\"'\", \"\").replace(\" \", \"\").split(','))\n",
    "full_char_rom['patient_verbs'] = full_char_rom['patient_verbs'].apply(lambda x: x if pd.isnull(x) else x[1:-1].replace(\"'\", \"\").replace(\" \", \"\").split(','))\n",
    "\n"
   ]
  },
  {
   "cell_type": "code",
   "execution_count": null,
   "metadata": {},
   "outputs": [],
   "source": [
    "# lemmatize agent verbs and patient verbs if type is list\n",
    "full_char['agent_verbs'] = full_char['agent_verbs'].apply(lambda x: lemmatize_verbs(x) if type(x) == list else x)\n",
    "full_char['patient_verbs'] = full_char['patient_verbs'].apply(lambda x: lemmatize_verbs(x) if type(x) == list else x)\n",
    "full_char['attributes'] = full_char['attributes'].apply(lambda x: lemmatize_attributes(x) if type(x) == list else x)\n",
    "\n",
    "# same for romance\n",
    "full_char_rom['attributes'] = full_char_rom['attributes'].apply(lambda x: x if type(\n",
    "    x) == list else x)\n",
    "full_char_rom['agent_verbs'] = full_char_rom['agent_verbs'].apply(lambda x: x if type(\n",
    "    x) == list else x)\n",
    "full_char_rom['patient_verbs'] = full_char_rom['patient_verbs'].apply(lambda x: x if type(\n",
    "    x) == list else x)\n",
    "\n"
   ]
  },
  {
   "cell_type": "code",
   "execution_count": null,
   "metadata": {},
   "outputs": [],
   "source": [
    "# Find 15 most frequent agent_verbs, patient_verbs and attributes\n",
    "agent_verbs = full_char['agent_verbs']\n",
    "patient_verbs = full_char['patient_verbs']\n",
    "attributes = full_char['attributes']\n",
    "agent_verbs_rom = full_char_rom['agent_verbs']\n",
    "patient_verbs_rom = full_char_rom['patient_verbs']\n",
    "attributes_rom = full_char_rom['attributes']\n",
    "\n",
    "# Get a dictionary with the agent verbs as keys and the number of times they appear as values\n",
    "def get_agent_verb_counts(agent_verbs):\n",
    "    agent_verb_counts = {}\n",
    "    for agent_verb_list in agent_verbs:\n",
    "        # check if the agent verb list is not NaN\n",
    "        if type(agent_verb_list) == list:\n",
    "            # iterate over the agent verbs in the list\n",
    "            for agent_verb in agent_verb_list:\n",
    "                if agent_verb in agent_verb_counts:\n",
    "                    agent_verb_counts[agent_verb] += 1\n",
    "                else:\n",
    "                    agent_verb_counts[agent_verb] = 1\n",
    "    return agent_verb_counts\n",
    "\n",
    "# Get the agent verb counts for non-romance movies\n",
    "agent_verb_counts = get_agent_verb_counts(agent_verbs)\n",
    "# Get the agent verb counts for romance movies\n",
    "agent_verb_counts_rom = get_agent_verb_counts(agent_verbs_rom)\n",
    "\n",
    "# print the top 10\n",
    "print('The top 10 agent verbs in non-romance movies are:')\n",
    "print(get_most_common_attributes(agent_verb_counts, 10))\n",
    "print('The top 10 agent verbs in romance movies are:')\n",
    "print(get_most_common_attributes(agent_verb_counts_rom, 10))\n",
    "\n",
    "# Get a dictionary with the patient verbs as keys and the number of times they appear as values\n",
    "def get_patient_verb_counts(patient_verbs):\n",
    "    patient_verb_counts = {}\n",
    "    for patient_verb_list in patient_verbs:\n",
    "        # check if the patient verb list is not NaN\n",
    "        if type(patient_verb_list) == list:\n",
    "            # iterate over the patient verbs in the list\n",
    "            for patient_verb in patient_verb_list:\n",
    "                if patient_verb in patient_verb_counts:\n",
    "                    patient_verb_counts[patient_verb] += 1\n",
    "                else:\n",
    "                    patient_verb_counts[patient_verb] = 1\n",
    "    return patient_verb_counts\n",
    "\n",
    "# Get the patient verb counts for non-romance movies\n",
    "patient_verb_counts = get_patient_verb_counts(patient_verbs)\n",
    "# Get the patient verb counts for romance movies\n",
    "patient_verb_counts_rom = get_patient_verb_counts(patient_verbs_rom)\n",
    "\n",
    "# print the top 10\n",
    "print('The top 10 patient verbs in non-romance movies are:')\n",
    "print(get_most_common_attributes(patient_verb_counts, 10))\n",
    "print('The top 10 patient verbs in romance movies are:')\n",
    "print(get_most_common_attributes(patient_verb_counts_rom, 10))\n",
    "\n",
    "# Get a dictionary with the attributes as keys and the number of times they appear as values\n",
    "def get_attribute_counts(attributes):\n",
    "    attribute_counts = {}\n",
    "    for attribute_list in attributes:\n",
    "        # check if the attribute list is not NaN\n",
    "        if type(attribute_list) == list:\n",
    "            # iterate over the attributes in the list\n",
    "            for attribute in attribute_list:\n",
    "                if attribute in attribute_counts:\n",
    "                    attribute_counts[attribute] += 1\n",
    "                else:\n",
    "                    attribute_counts[attribute] = 1\n",
    "    return attribute_counts\n",
    "\n",
    "# Get the attribute counts for non-romance movies\n",
    "attribute_counts = get_attribute_counts(attributes)\n",
    "# Get the attribute counts for romance movies\n",
    "attribute_counts_rom = get_attribute_counts(attributes_rom)\n",
    "\n",
    "# print the top 10\n",
    "print('The top 10 attributes in non-romance movies are:')\n",
    "print(get_most_common_attributes(attribute_counts, 10))\n",
    "print('The top 10 attributes in romance movies are:')\n",
    "print(get_most_common_attributes(attribute_counts_rom, 10))\n",
    "\n"
   ]
  },
  {
   "cell_type": "markdown",
   "metadata": {},
   "source": [
    "### OLD CODE FROM HERE ON OUT\n",
    "\n"
   ]
  },
  {
   "cell_type": "code",
   "execution_count": null,
   "metadata": {},
   "outputs": [],
   "source": [
    "# Visualize the clusters in a 3d diagram\n",
    "from sklearn.manifold import TSNE\n",
    "\n",
    "# Reduce the dimensionality of the embeddings to 3, store each coordinate in a column\n",
    "tsne = TSNE(n_components=3, random_state=0)\n",
    "title_embeddings['X'] = tsne.fit_transform(title_embeddings['Embedding'].tolist())[:,0]\n",
    "title_embeddings['Y'] = tsne.fit_transform(title_embeddings['Embedding'].tolist())[:,1]\n",
    "title_embeddings['Z'] = tsne.fit_transform(title_embeddings['Embedding'].tolist())[:,2]\n",
    "\n",
    "# Plot the clusters in a 3d diagram\n",
    "fig = plt.figure(figsize=(10, 10))\n",
    "ax = fig.add_subplot(111, projection='3d')\n",
    "ax.scatter(title_embeddings['X'], title_embeddings['Y'], title_embeddings['Z'], c=title_embeddings['Cluster'])\n",
    "plt.show()\n"
   ]
  },
  {
   "cell_type": "code",
   "execution_count": null,
   "metadata": {},
   "outputs": [],
   "source": [
    "# Print 5 titles from each cluster\n",
    "for i in range(24):\n",
    "    print('Cluster {}:'.format(i))\n",
    "    print(title_embeddings[title_embeddings['Cluster'] == i]['Title'].sample(5).values)\n",
    "    print()\n"
   ]
  },
  {
   "cell_type": "code",
   "execution_count": null,
   "metadata": {},
   "outputs": [],
   "source": [
    "# Plot the 10 most common character roles \n",
    "fig, ax = plt.subplots(figsize=(10, 5))\n",
    "\n",
    "sns.countplot(x='Relation', data=title_df, order=title_df.groupby(['Relation']).count().sort_values(by = 'Wikipedia ID', ascending=False).head(10).index, ax=ax)\n",
    "\n",
    "ax.set_title('Most common character role in romance movies')\n",
    "ax.set_ylabel('Number of characters')\n",
    "xlabels = ['{}'.format(x) for x in title_df.groupby(['Relation']).count().sort_values(by = 'Wikipedia ID', ascending=False).head(10).index]\n",
    "ax.set_xticklabels(xlabels)\n",
    "ax.set_xlabel('')\n",
    "sns.set_style('darkgrid')\n",
    "sns.set_palette('flare')\n",
    "plt.show()"
   ]
  }
 ],
 "metadata": {
  "kernelspec": {
   "display_name": "Python 3.10.4 ('ML')",
   "language": "python",
   "name": "python3"
  },
  "language_info": {
   "codemirror_mode": {
    "name": "ipython",
    "version": 3
   },
   "file_extension": ".py",
   "mimetype": "text/x-python",
   "name": "python",
   "nbconvert_exporter": "python",
   "pygments_lexer": "ipython3",
   "version": "3.10.4"
  },
  "orig_nbformat": 4,
  "vscode": {
   "interpreter": {
    "hash": "645a45bafa7a70bf663118869c5a8c62ee426a479322e8202ebe39ad8b921733"
   }
  }
 },
 "nbformat": 4,
 "nbformat_minor": 2
}
