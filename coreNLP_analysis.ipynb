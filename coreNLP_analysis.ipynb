{
 "cells": [
  {
   "cell_type": "markdown",
   "metadata": {},
   "source": [
    "# Applied Data Analysis Project\n",
    "**Team**: ToeStewBrr - Alexander Sternfeld, Marguerite Thery, Antoine Bonnet, Hugo Bordereaux\n",
    "\n",
    "**Dataset**: CMU Movie Summary Corpus\n"
   ]
  },
  {
   "cell_type": "markdown",
   "metadata": {},
   "source": [
    "## CoreNLP Analysis\n",
    "\n",
    "[**CoreNLP**](https://nlp.stanford.edu/software/) is an incredible natural language processing toolkit created at Stanford University. CoreNLP is applied through a **pipeline** of sequential analysis steps called annotators. The full list of available annotators is available [here](https://stanfordnlp.github.io/CoreNLP/annotators.html). \n",
    "\n",
    "As described by its creators: \n",
    "\n",
    "*\"CoreNLP is your one stop shop for natural language processing in Java! CoreNLP enables users to derive linguistic annotations for text, including token and sentence boundaries, parts of speech, named entities, numeric and time values, dependency and constituency parses, coreference, sentiment, quote attributions, and relations. CoreNLP currently supports 8 languages: Arabic, Chinese, English, French, German, Hungarian, Italian, and Spanish.\"* \n",
    "\n",
    "You can create your own pipeline to extract the desired information. You can try it out for yourself in this [online shell](https://corenlp.run).\n",
    "\n",
    "### Loading data\n",
    "We first load data files and download the pre-processed dataframes. "
   ]
  },
  {
   "cell_type": "code",
   "execution_count": 1,
   "metadata": {},
   "outputs": [],
   "source": [
    "from zipfile import ZipFile\n",
    "import seaborn as sns\n",
    "import matplotlib.pyplot as plt\n",
    "\n",
    "from load_data import *\n",
    "from coreNLP_analysis import *\n",
    "\n",
    "download_data(coreNLP=True)\n",
    "plot_df = load_plot_df()\n",
    "movie_df = load_movie_df()\n",
    "char_df = load_char_df()\n",
    "names_df = load_names_df()\n",
    "cluster_df = load_cluster_df()"
   ]
  },
  {
   "cell_type": "markdown",
   "metadata": {},
   "source": [
    "### 1. Exploring pre-processed CoreNLP data\n",
    "\n",
    "The authors of the Movie CMU dataset used CoreNLP to parse each plot summary to extract various linguistic insights. In this section, we explore how much information we can gather from these pre-processed files. \n",
    "\n",
    "We will use *Harry Potter*'s character throughout this section.\n",
    "\n",
    "#### 1.1. Character data\n",
    "\n",
    "For any character, we first extract related information from the provided name clusters and character metadata."
   ]
  },
  {
   "cell_type": "code",
   "execution_count": 2,
   "metadata": {},
   "outputs": [
    {
     "name": "stdout",
     "output_type": "stream",
     "text": [
      "Movies with character Harry Potter :\n",
      "\tMovie IDs: [858575, 667372, 670407, 31941988, 9834441, 667368, 667371, 667361, 667361]\n",
      "\tCharacter IDs: ['/m/0jz6jt', '/m/02tbbh6', '/m/0jz6mq', '/m/0jz6hs', '/m/02tbf6n', '/m/0jz6b0', '/m/0jz6dz', '/m/09lybcb']\n",
      "\tTrope: None\n",
      "Selecting as example: \n",
      "\tMovie ID: 31941988 \n",
      "\tMovie title: Harry Potter and the Deathly Hallows – Part 2\n"
     ]
    }
   ],
   "source": [
    "# Given character, extract all pre-processed dataframe data\n",
    "char_name = 'Harry Potter'\n",
    "movie_ids = list(char_df[char_df['Character name'] == char_name]['Wikipedia ID'])\n",
    "char_ids = names_df.loc[char_name].values[0]\n",
    "trope = cluster_df.loc[cluster_df['Character name'] == char_name]\n",
    "\n",
    "# If no trope is found, set it to None\n",
    "if trope.empty:\n",
    "    trope = None\n",
    "\n",
    "print('Movies with character', char_name, ':')\n",
    "print('\\tMovie IDs:', movie_ids)\n",
    "print('\\tCharacter IDs:', char_ids)\n",
    "print('\\tTrope:', trope)\n",
    "\n",
    "movie_id = movie_ids[3] \n",
    "movie_name = movie_df.loc[movie_df['Wikipedia ID'] == movie_id]['Name'].iloc[0]\n",
    "print('Selecting as example: \\n\\tMovie ID:', movie_id, '\\n\\tMovie title:', movie_name)\n"
   ]
  },
  {
   "cell_type": "markdown",
   "metadata": {},
   "source": [
    "#### 1.2. Extracting sentences\n",
    "\n",
    "We now extract information from the CoreNLP plot summary analysis. The authors of the dataset stored the analysis output of each movie into a `.xml` file. Each file has a tree structure detailing each word of each sentence as well as the parsed sentence in tree form. \n",
    "\n",
    "We now extract all parsed sentences from the `.xml` files. \n",
    "\n",
    "A **parsed sentence** is a syntactic analysis tree, where each word is a leaf tagged by its lexical function (e.g. *VBZ* for verbs or *DT* for determinants). Semantic interactions between different words are also indicated within the structure of the tree. "
   ]
  },
  {
   "cell_type": "code",
   "execution_count": 3,
   "metadata": {},
   "outputs": [
    {
     "name": "stdout",
     "output_type": "stream",
     "text": [
      "(ROOT (S (PP (IN In) (NP (NP (NNP Bellatrix) (POS 's)) (NN vault))) (, ,) (NP (NNP Harry)) (VP (VBZ discovers) (SBAR (S (NP (DT the) (NNP Horcrux)) (VP (VBZ is) (NP (NP (NNP Helga) (NNP Hufflepuff) (POS 's)) (NN cup)))))) (. .))) \n",
      "                                                ROOT                                                 \n",
      "                                                 |                                                    \n",
      "                                                 S                                                   \n",
      "                _________________________________|_________________________________________________   \n",
      "               |             |    |                               VP                               | \n",
      "               |             |    |        _______________________|____                            |  \n",
      "               |             |    |       |                           SBAR                         | \n",
      "               |             |    |       |                            |                           |  \n",
      "               |             |    |       |                            S                           | \n",
      "               |             |    |       |            ________________|_______                    |  \n",
      "               PP            |    |       |           |                        VP                  | \n",
      "  _____________|___          |    |       |           |            ____________|_______            |  \n",
      " |                 NP        |    |       |           |           |                    NP          | \n",
      " |              ___|____     |    |       |           |           |             _______|_______    |  \n",
      " |             NP       |    |    NP      |           NP          |            NP              |   | \n",
      " |       ______|___     |    |    |       |       ____|_____      |     _______|___________    |   |  \n",
      " IN    NNP        POS   NN   ,   NNP     VBZ     DT        NNP   VBZ  NNP     NNP         POS  NN  . \n",
      " |      |          |    |    |    |       |      |          |     |    |       |           |   |   |  \n",
      " In Bellatrix      's vault  ,  Harry discovers the      Horcrux  is Helga Hufflepuff      's cup  . \n",
      "\n"
     ]
    }
   ],
   "source": [
    "# Extract the tree of xml file and all parsed sentences\n",
    "tree = get_tree(movie_id)\n",
    "sentences = get_parsed_sentences(tree)\n",
    "\n",
    "# Picking the fifth sentence as example\n",
    "parsed_str = sentences[5]\n",
    "print(parsed_str)\n",
    "print_tree(parsed_str)"
   ]
  },
  {
   "cell_type": "markdown",
   "metadata": {},
   "source": [
    "#### 1.3. Extracting characters\n",
    "\n",
    "We also want to extract all character names directly from the xml file. Note that we aggregate consecutive words tagged as NNP (noun, proper, singular) as the same character name (this assumes that plot summaries never contain two distinct names side by side without delimiting punctuation). This is a reasonable assumption since list of names are almost always separated by commas. "
   ]
  },
  {
   "cell_type": "code",
   "execution_count": 4,
   "metadata": {},
   "outputs": [
    {
     "name": "stdout",
     "output_type": "stream",
     "text": [
      "['Voldemort', 'Albus Dumbledore', 'Severus Snape', 'Dobby', 'Harry Potter', 'Ron', 'Hermione', 'Griphook', 'Harry', 'Ollivander', 'Ollivander', 'Draco Malfoy', 'Malfoy', 'Harry', 'Harry', 'Helga Hufflepuff', 'Griphook', 'Harry', 'Voldemort', 'Griphook']\n"
     ]
    }
   ],
   "source": [
    "characters = get_characters(tree)\n",
    "print(characters[:20])"
   ]
  },
  {
   "cell_type": "markdown",
   "metadata": {},
   "source": [
    "Notice that some characters are sometimes mentioned by their full name, and sometimes by a partial name (e.g. Harry Potter is most often mentioned as simply Harry). To get a more precise idea of how many times each character is mentioned, we wish to denote each character by their full name, i.e. the longest version of their name that appears in the plot summary. \n",
    "\n",
    "*NOTE*: The dataset has the character metadata of only a third of the movies, so we need to extract full names from the plot summary itself and not the provided dataframes. \n",
    "\n",
    "To optimize full name lookup, for each plot summary we construct a dictionary which stores as key every partial name mentioned, and as corresponding values the full name of each character.  "
   ]
  },
  {
   "cell_type": "code",
   "execution_count": 5,
   "metadata": {},
   "outputs": [
    {
     "name": "stdout",
     "output_type": "stream",
     "text": [
      "Example: the full name of \"Albus\" is \"Albus Dumbledore\".\n",
      "Full name dictionary: {'Voldemort': 'Voldemort', 'Albus Dumbledore': 'Albus Dumbledore', 'Severus Snape': 'Severus Snape', 'Dobby': 'Dobby', 'Harry Potter': 'Harry Potter', 'Ron': 'Ron', 'Hermione': 'Hermione Weasley', 'Griphook': 'Griphook', 'Harry': 'Harry Potter', 'Ollivander': 'Ollivander', 'Draco Malfoy': 'Draco Malfoy', 'Malfoy': 'Draco Malfoy', 'Helga Hufflepuff': 'Helga Hufflepuff', 'Rowena Ravenclaw': 'Rowena Ravenclaw', 'Hogsmeade': 'Hogsmeade', 'Aberforth Dumbledore': 'Aberforth Dumbledore', 'Ariana': 'Ariana', 'Neville Longbottom': 'Neville Longbottom', 'Snape': 'Severus Snape', 'Minerva McGonagall': 'Minerva McGonagall', 'Luna Lovegood': 'Luna Lovegood', 'Helena Ravenclaw': 'Helena Ravenclaw', 'Gregory Goyle': 'Gregory Goyle', 'Blaise Zabini': 'Blaise Zabini', 'Nagini': 'Nagini', 'Fred': 'Fred', 'Lily': 'Lily', 'James': 'James', 'Dumbledore': 'Albus Dumbledore', 'Neville': 'Neville Longbottom', 'Molly Weasley': 'Molly Weasley', 'Ginny Potter': 'Ginny Potter', 'Hermione Weasley': 'Hermione Weasley'}\n"
     ]
    }
   ],
   "source": [
    "char_name = 'Albus'\n",
    "full_name = get_full_name(char_name, characters)\n",
    "print('Example: the full name of \"{}\" is \"{}\".'.format(char_name,full_name))\n",
    "print('Full name dictionary:', full_name_dict(characters))"
   ]
  },
  {
   "cell_type": "markdown",
   "metadata": {},
   "source": [
    "We can now extract the most mentioned characters in any plot summary, in descending order of frequency. We can then see that Harry Potter is indeed the main character of the movie, as he is mentioned 26 times, more than any other character in the summary.  "
   ]
  },
  {
   "cell_type": "code",
   "execution_count": 6,
   "metadata": {},
   "outputs": [
    {
     "name": "stdout",
     "output_type": "stream",
     "text": [
      "[('Harry Potter', 26), ('Voldemort', 21), ('Severus Snape', 11), ('Ron', 6), ('Hermione Weasley', 6), ('Albus Dumbledore', 5), ('Griphook', 3), ('Draco Malfoy', 3), ('Neville Longbottom', 3), ('Nagini', 3), ('Ollivander', 2), ('Lily', 2), ('Dobby', 1), ('Helga Hufflepuff', 1), ('Rowena Ravenclaw', 1), ('Hogsmeade', 1), ('Aberforth Dumbledore', 1), ('Ariana', 1), ('Minerva McGonagall', 1), ('Luna Lovegood', 1), ('Helena Ravenclaw', 1), ('Gregory Goyle', 1), ('Blaise Zabini', 1), ('Fred', 1), ('James', 1), ('Molly Weasley', 1), ('Ginny Potter', 1)]\n"
     ]
    }
   ],
   "source": [
    "char_mentions = most_mentioned(movie_id)\n",
    "print(char_mentions)"
   ]
  },
  {
   "cell_type": "markdown",
   "metadata": {},
   "source": [
    " #### 1.4. Extracting interactions\n",
    "\n",
    "We are also interested in character interactions. We can use the number of common mentions of two characters in the same sentence as a proxy for the number of interactions. For any movie, we find the number of common mentions (i.e. interactions) for each pair of characters. "
   ]
  },
  {
   "cell_type": "code",
   "execution_count": 7,
   "metadata": {},
   "outputs": [
    {
     "name": "stdout",
     "output_type": "stream",
     "text": [
      "[(('Hermione Weasley', 'Ron'), 4), (('Harry Potter', 'Voldemort'), 4), (('Albus Dumbledore', 'Voldemort'), 3), (('Albus Dumbledore', 'Severus Snape'), 2), (('Harry Potter', 'Hermione Weasley'), 2), (('Harry Potter', 'Ron'), 2), (('Nagini', 'Voldemort'), 2), (('Harry Potter', 'Lily'), 2), (('Albus Dumbledore', 'Harry Potter'), 2), (('Severus Snape', 'Voldemort'), 1)]\n"
     ]
    }
   ],
   "source": [
    "char_pairs = character_pairs(movie_id, plot_df)\n",
    "print(char_pairs[:10])"
   ]
  },
  {
   "cell_type": "code",
   "execution_count": 8,
   "metadata": {},
   "outputs": [
    {
     "name": "stdout",
     "output_type": "stream",
     "text": [
      "Main interaction in the movie: ('Hermione Weasley', 'Ron')\n"
     ]
    }
   ],
   "source": [
    "main_interaction = character_pairs(movie_id, plot_df)[0][0]\n",
    "print('Main interaction in the movie:', main_interaction)"
   ]
  },
  {
   "cell_type": "markdown",
   "metadata": {},
   "source": [
    "#### 1.5. Extracting characters and interactions of all movies\n",
    "\n",
    "We will now use the above code to obtain the main character and main interaction for every plot summary. \n",
    "\n",
    "*NOTE*: This code takes a while to run, so you can load the analysis from a pre-processed file instead.  "
   ]
  },
  {
   "cell_type": "code",
   "execution_count": 9,
   "metadata": {},
   "outputs": [
    {
     "data": {
      "text/html": [
       "<div>\n",
       "<style scoped>\n",
       "    .dataframe tbody tr th:only-of-type {\n",
       "        vertical-align: middle;\n",
       "    }\n",
       "\n",
       "    .dataframe tbody tr th {\n",
       "        vertical-align: top;\n",
       "    }\n",
       "\n",
       "    .dataframe thead th {\n",
       "        text-align: right;\n",
       "    }\n",
       "</style>\n",
       "<table border=\"1\" class=\"dataframe\">\n",
       "  <thead>\n",
       "    <tr style=\"text-align: right;\">\n",
       "      <th></th>\n",
       "      <th>Wikipedia ID</th>\n",
       "      <th>Summary</th>\n",
       "      <th>Main character</th>\n",
       "      <th>Number of mentions</th>\n",
       "      <th>Main interaction</th>\n",
       "      <th>Number of interactions</th>\n",
       "    </tr>\n",
       "  </thead>\n",
       "  <tbody>\n",
       "    <tr>\n",
       "      <th>0</th>\n",
       "      <td>23890098</td>\n",
       "      <td>Shlykov, a hard-working taxi driver and Lyosha...</td>\n",
       "      <td>Shlykov</td>\n",
       "      <td>1.0</td>\n",
       "      <td>('Lyosha', 'Shlykov')</td>\n",
       "      <td>1.0</td>\n",
       "    </tr>\n",
       "    <tr>\n",
       "      <th>1</th>\n",
       "      <td>31186339</td>\n",
       "      <td>The nation of Panem consists of a wealthy Capi...</td>\n",
       "      <td>Katniss</td>\n",
       "      <td>18.0</td>\n",
       "      <td>('Katniss', 'Peeta Mellark')</td>\n",
       "      <td>2.0</td>\n",
       "    </tr>\n",
       "    <tr>\n",
       "      <th>2</th>\n",
       "      <td>20663735</td>\n",
       "      <td>Poovalli Induchoodan  is sentenced for six yea...</td>\n",
       "      <td>Maranchery Karunakara Menon</td>\n",
       "      <td>9.0</td>\n",
       "      <td>('Manapally Madhavan Nambiar', 'judge Menon')</td>\n",
       "      <td>1.0</td>\n",
       "    </tr>\n",
       "    <tr>\n",
       "      <th>3</th>\n",
       "      <td>2231378</td>\n",
       "      <td>The Lemon Drop Kid , a New York City swindler,...</td>\n",
       "      <td>Charley</td>\n",
       "      <td>18.0</td>\n",
       "      <td>NaN</td>\n",
       "      <td>NaN</td>\n",
       "    </tr>\n",
       "    <tr>\n",
       "      <th>4</th>\n",
       "      <td>595909</td>\n",
       "      <td>Seventh-day Adventist Church pastor Michael Ch...</td>\n",
       "      <td>Lindy</td>\n",
       "      <td>7.0</td>\n",
       "      <td>('Azaria', 'Lindy')</td>\n",
       "      <td>1.0</td>\n",
       "    </tr>\n",
       "    <tr>\n",
       "      <th>...</th>\n",
       "      <td>...</td>\n",
       "      <td>...</td>\n",
       "      <td>...</td>\n",
       "      <td>...</td>\n",
       "      <td>...</td>\n",
       "      <td>...</td>\n",
       "    </tr>\n",
       "    <tr>\n",
       "      <th>42298</th>\n",
       "      <td>34808485</td>\n",
       "      <td>The story is about Reema , a young Muslim scho...</td>\n",
       "      <td>Reema</td>\n",
       "      <td>1.0</td>\n",
       "      <td>('Muslim', 'Reema')</td>\n",
       "      <td>1.0</td>\n",
       "    </tr>\n",
       "    <tr>\n",
       "      <th>42299</th>\n",
       "      <td>1096473</td>\n",
       "      <td>In 1928 Hollywood, director Leo Andreyev  look...</td>\n",
       "      <td>Leo Andreyev</td>\n",
       "      <td>7.0</td>\n",
       "      <td>NaN</td>\n",
       "      <td>NaN</td>\n",
       "    </tr>\n",
       "    <tr>\n",
       "      <th>42300</th>\n",
       "      <td>35102018</td>\n",
       "      <td>American Luthier focuses on Randy Parsons’ tra...</td>\n",
       "      <td>Randy Parsons</td>\n",
       "      <td>4.0</td>\n",
       "      <td>NaN</td>\n",
       "      <td>NaN</td>\n",
       "    </tr>\n",
       "    <tr>\n",
       "      <th>42301</th>\n",
       "      <td>8628195</td>\n",
       "      <td>Abdur Rehman Khan , a middle-aged dry fruit se...</td>\n",
       "      <td>Abdur Rehman Khan</td>\n",
       "      <td>9.0</td>\n",
       "      <td>('Abdur Rehman Khan', 'Amina')</td>\n",
       "      <td>1.0</td>\n",
       "    </tr>\n",
       "    <tr>\n",
       "      <th>42302</th>\n",
       "      <td>6040782</td>\n",
       "      <td>1940 - Operation Dynamo has just taken place. ...</td>\n",
       "      <td>George Mainwaring</td>\n",
       "      <td>9.0</td>\n",
       "      <td>NaN</td>\n",
       "      <td>NaN</td>\n",
       "    </tr>\n",
       "  </tbody>\n",
       "</table>\n",
       "<p>42303 rows × 6 columns</p>\n",
       "</div>"
      ],
      "text/plain": [
       "       Wikipedia ID                                            Summary  \\\n",
       "0          23890098  Shlykov, a hard-working taxi driver and Lyosha...   \n",
       "1          31186339  The nation of Panem consists of a wealthy Capi...   \n",
       "2          20663735  Poovalli Induchoodan  is sentenced for six yea...   \n",
       "3           2231378  The Lemon Drop Kid , a New York City swindler,...   \n",
       "4            595909  Seventh-day Adventist Church pastor Michael Ch...   \n",
       "...             ...                                                ...   \n",
       "42298      34808485  The story is about Reema , a young Muslim scho...   \n",
       "42299       1096473  In 1928 Hollywood, director Leo Andreyev  look...   \n",
       "42300      35102018  American Luthier focuses on Randy Parsons’ tra...   \n",
       "42301       8628195  Abdur Rehman Khan , a middle-aged dry fruit se...   \n",
       "42302       6040782  1940 - Operation Dynamo has just taken place. ...   \n",
       "\n",
       "                    Main character  Number of mentions  \\\n",
       "0                          Shlykov                 1.0   \n",
       "1                          Katniss                18.0   \n",
       "2      Maranchery Karunakara Menon                 9.0   \n",
       "3                          Charley                18.0   \n",
       "4                            Lindy                 7.0   \n",
       "...                            ...                 ...   \n",
       "42298                        Reema                 1.0   \n",
       "42299                 Leo Andreyev                 7.0   \n",
       "42300                Randy Parsons                 4.0   \n",
       "42301            Abdur Rehman Khan                 9.0   \n",
       "42302            George Mainwaring                 9.0   \n",
       "\n",
       "                                    Main interaction  Number of interactions  \n",
       "0                              ('Lyosha', 'Shlykov')                     1.0  \n",
       "1                       ('Katniss', 'Peeta Mellark')                     2.0  \n",
       "2      ('Manapally Madhavan Nambiar', 'judge Menon')                     1.0  \n",
       "3                                                NaN                     NaN  \n",
       "4                                ('Azaria', 'Lindy')                     1.0  \n",
       "...                                              ...                     ...  \n",
       "42298                            ('Muslim', 'Reema')                     1.0  \n",
       "42299                                            NaN                     NaN  \n",
       "42300                                            NaN                     NaN  \n",
       "42301                 ('Abdur Rehman Khan', 'Amina')                     1.0  \n",
       "42302                                            NaN                     NaN  \n",
       "\n",
       "[42303 rows x 6 columns]"
      ]
     },
     "execution_count": 9,
     "metadata": {},
     "output_type": "execute_result"
    }
   ],
   "source": [
    "# NOTE: If we've already run this code, we can load the dataframe from a file\n",
    "pairs_df = pd.read_csv('Data/MovieSummaries/plot_characters.csv', sep='\\t', index_col=0)\n",
    "pairs_df"
   ]
  },
  {
   "cell_type": "code",
   "execution_count": null,
   "metadata": {},
   "outputs": [],
   "source": [
    "# Otherwise: get main character and number of mentions for each movie and store it into a file (takes a while to run) \n",
    "pairs_df = plot_df.copy(deep=True)\n",
    "pairs_df['Main character'] = pairs_df['Wikipedia ID'].apply(most_mentioned)\n",
    "pairs_df['Number of mentions'] = pairs_df['Main character'].apply(lambda x: np.nan if x is None else x[0][1])\n",
    "pairs_df['Main character'] = pairs_df['Main character'].apply(lambda x: np.nan if x is None else x[0][0])\n",
    "\n",
    "# Get main pairs of characters for each movie and number of interactions \n",
    "pairs_df['Main interaction'] = pairs_df['Wikipedia ID'].apply(lambda x: character_pairs(x, plot_df))\n",
    "pairs_df['Number of interactions'] = pairs_df['Main interaction'].apply(lambda x: np.nan if x is None else x[0][1])\n",
    "pairs_df['Main interaction'] = pairs_df['Main interaction'].apply(lambda x: np.nan if x is None else x[0][0])\n",
    "\n",
    "# Store data into csv file\n",
    "pairs_df.to_csv('Data/MovieSummaries/plot_characters.csv', sep='\\t')\n",
    "pairs_df"
   ]
  },
  {
   "cell_type": "markdown",
   "metadata": {},
   "source": [
    "In conclusion, the coreNLP files provided with the datasets are useful to extract the characters mentioned. \n",
    "\n",
    " However, our goal is to extract love relationships as well as the persona of characters in love. Using common mentions as a proxy for love relationships is a vulgar approximation and so we must run our own NLP analysis on the plot summaries to extract useful information. "
   ]
  },
  {
   "cell_type": "markdown",
   "metadata": {},
   "source": [
    "### 2. Custom CoreNLP Analysis\n",
    "\n",
    "We now use a **custom CoreNLP pipeline** to analyze the plot summaries. For now, due to the weakness of our available computing power, we only analyze romantic comedy movies. \n",
    "\n",
    "\n",
    "#### 2.1. Data preparation\n",
    "\n",
    "We extract the romantic comedy plot summaries that we will pass through our pipeline and store them as `.txt` files to be able to run them through the new coreNLP pipeline. "
   ]
  },
  {
   "cell_type": "code",
   "execution_count": 10,
   "metadata": {},
   "outputs": [],
   "source": [
    "# For later use: romance_genres = ['Romantic comedy', 'Romance Film', 'Romantic drama', 'Romantic fantasy', 'Romantic thriller']\n",
    "\n",
    "# Get a dataframe with romantic movies and their corresponding plots\n",
    "romance_genres = ['Romantic comedy'] \n",
    "rom_com_plots = get_plots(romance_genres, movie_df, plot_df)\n",
    "#display(rom_com_plots)\n",
    "\n",
    "# Store each plot summary as .txt file\n",
    "for index, row in rom_com_plots.iterrows():\n",
    "    # If directory doesn't exist, create it\n",
    "    if not os.path.exists('Data/MovieSummaries/RomancePlots'):\n",
    "        os.makedirs('Data/MovieSummaries/RomancePlots')\n",
    "    with open(\"Data/MovieSummaries/RomancePlots/{}.txt\".format(row['Wikipedia ID']), 'w') as f:\n",
    "        if type(row['Summary']) == str:\n",
    "            f.write(row['Summary'])\n",
    "            f.close()"
   ]
  },
  {
   "cell_type": "markdown",
   "metadata": {},
   "source": [
    "#### 2.2. Custom CoreNLP pipeline\n",
    "\n",
    "Our custom pipeline consists of the following annotators: \n",
    "\n",
    "1. [Tokenization (tokenize)](https://stanfordnlp.github.io/CoreNLP/tokenize.html): Turns the whole text into tokens. \n",
    "\n",
    "2. [Parts Of Speech (POS)](https://stanfordnlp.github.io/CoreNLP/pos.html): Tags each token with part of speech labels (e.g. determinants, verbs and nouns). \n",
    "\n",
    "3. [Lemmatization (lemma)](https://stanfordnlp.github.io/CoreNLP/lemma.html): Reduces each word to its lemma (e.g. *was* becomes *be*). \n",
    "\n",
    "4. [Named Entity Recognition (NER)](https://stanfordnlp.github.io/CoreNLP/ner.html): Identifies named entities from the text, including characters, locations and organizations. \n",
    "\n",
    "5. [Constituency parsing (parse)](https://stanfordnlp.github.io/CoreNLP/parse.html): Performs a syntactic analysis of each sentence in the form of a tree. \n",
    "\n",
    "6. [Coreference resolution (coref)](https://stanfordnlp.github.io/CoreNLP/coref.html): Aggregates mentions of the same entities in a text (e.g. when 'Harry' and 'he' refer to the same person). \n",
    "\n",
    "7. [Dependency parsing (depparse)](https://stanfordnlp.github.io/CoreNLP/depparse.html): Syntactic dependency parser. \n",
    "\n",
    "8. [Natural Logic (natlog)](https://stanfordnlp.github.io/CoreNLP/natlog.html): Identifies quantifier scope and token polarity. Required as preliminary for OpenIE. \n",
    "\n",
    "9. [Open Information Extraction (OpenIE)](https://stanfordnlp.github.io/CoreNLP/openie.html): Identifies relation between words as triples *(subject, relation, object of relation)*. We use this to extract relationships between characters, as well as character traits. \n",
    "\n",
    "10. [Knowledge Base Population (KBP)](https://stanfordnlp.github.io/CoreNLP/kbp.html): Identifies meaningful relation triples. \n",
    "\n",
    "\n",
    "#### 2.3. Running our pipeline\n",
    "\n",
    "We now run our own CoreNLP analysis on the plot summaries. This allows us to extract love relationships from the plot summaries much more accurately.\n",
    "\n",
    "**Goal**: Run our custom CoreNLP pipeline. \n",
    "\n",
    "**Recommendation**: Be careful about memory storage (takes a lot of memory to run!)\n",
    "\n",
    "**Prerequisite**: [java](https://www.java.com). \n",
    "\n",
    "**Installation steps**:\n",
    "1. Download the CoreNLP toolkit [here](https://stanfordnlp.github.io/CoreNLP/download.html).\n",
    "\n",
    "2. Data preparation: Extract plot summaries for romantic comedies into `.txt` files. Create a filelist containing the name of all the files which need to be processed using the following command in your terminal: \n",
    "\n",
    "<center>find RomancePlots/*.txt > filelist.txt</center>\n",
    "\n",
    "3. Change directory (`cd`) into the downloaded `stanford-corenlp` directory. \n",
    "        \n",
    "4. Run the custom CoreNLP pipeline via your terminal using the following command:\n",
    "\n",
    "<center>java -mx4g -cp \"*\" edu.stanford.nlp.pipeline.StanfordCoreNLP -annotators tokenize,pos,lemma,ner,parse,coref,depparse,natlog,openie,kbp -coref.md.type RULE -filelist filelist.txt -outputDirectory RomancePlotsOutputs/ -outputFormat xml</center>"
   ]
  },
  {
   "cell_type": "markdown",
   "metadata": {},
   "source": [
    "The analysis outputs are now stored as `.xml` files in the `RomancePlotsOutputs` directory. We now unzip them. RomancePlotsOutputs has 1491 readable files. "
   ]
  },
  {
   "cell_type": "code",
   "execution_count": 11,
   "metadata": {},
   "outputs": [],
   "source": [
    "# Extract all the romance plots xml files\n",
    "with ZipFile('Romance_Data/RomancePlotsOutputs.zip', 'r') as zipObj:\n",
    "   zipObj.extractall('')"
   ]
  },
  {
   "cell_type": "markdown",
   "metadata": {},
   "source": [
    "#### 2.4 Extracting insights "
   ]
  },
  {
   "cell_type": "markdown",
   "metadata": {},
   "source": [
    "Now that we have run our custom pipeline, we can use the output of the KBP Annotator to extract characters' roles and relationships."
   ]
  },
  {
   "cell_type": "code",
   "execution_count": 12,
   "metadata": {},
   "outputs": [
    {
     "data": {
      "text/html": [
       "<div>\n",
       "<style scoped>\n",
       "    .dataframe tbody tr th:only-of-type {\n",
       "        vertical-align: middle;\n",
       "    }\n",
       "\n",
       "    .dataframe tbody tr th {\n",
       "        vertical-align: top;\n",
       "    }\n",
       "\n",
       "    .dataframe thead th {\n",
       "        text-align: right;\n",
       "    }\n",
       "</style>\n",
       "<table border=\"1\" class=\"dataframe\">\n",
       "  <thead>\n",
       "    <tr style=\"text-align: right;\">\n",
       "      <th></th>\n",
       "      <th>Wikipedia ID</th>\n",
       "      <th>Subject</th>\n",
       "      <th>Relation</th>\n",
       "    </tr>\n",
       "  </thead>\n",
       "  <tbody>\n",
       "    <tr>\n",
       "      <th>0</th>\n",
       "      <td>1002717</td>\n",
       "      <td>Delia Darrow</td>\n",
       "      <td>assistant</td>\n",
       "    </tr>\n",
       "    <tr>\n",
       "      <th>1</th>\n",
       "      <td>1002717</td>\n",
       "      <td>Fergie</td>\n",
       "      <td>Inspector</td>\n",
       "    </tr>\n",
       "    <tr>\n",
       "      <th>2</th>\n",
       "      <td>1002717</td>\n",
       "      <td>Gerda Caswell</td>\n",
       "      <td>assistant</td>\n",
       "    </tr>\n",
       "    <tr>\n",
       "      <th>3</th>\n",
       "      <td>1002717</td>\n",
       "      <td>Gloria Mundy</td>\n",
       "      <td>librarian, manager</td>\n",
       "    </tr>\n",
       "    <tr>\n",
       "      <th>4</th>\n",
       "      <td>1002717</td>\n",
       "      <td>Rachel Roberts</td>\n",
       "      <td>assistant</td>\n",
       "    </tr>\n",
       "    <tr>\n",
       "      <th>...</th>\n",
       "      <td>...</td>\n",
       "      <td>...</td>\n",
       "      <td>...</td>\n",
       "    </tr>\n",
       "    <tr>\n",
       "      <th>1904</th>\n",
       "      <td>4339865</td>\n",
       "      <td>Max de Mirecourt</td>\n",
       "      <td>writer</td>\n",
       "    </tr>\n",
       "    <tr>\n",
       "      <th>1905</th>\n",
       "      <td>4339865</td>\n",
       "      <td>Tam Tam</td>\n",
       "      <td>Princess</td>\n",
       "    </tr>\n",
       "    <tr>\n",
       "      <th>1906</th>\n",
       "      <td>4340003</td>\n",
       "      <td>Danny Miller</td>\n",
       "      <td>producer</td>\n",
       "    </tr>\n",
       "    <tr>\n",
       "      <th>1907</th>\n",
       "      <td>4340003</td>\n",
       "      <td>Max Corkle</td>\n",
       "      <td>messenger</td>\n",
       "    </tr>\n",
       "    <tr>\n",
       "      <th>1908</th>\n",
       "      <td>436955</td>\n",
       "      <td>Ruthie</td>\n",
       "      <td>manager</td>\n",
       "    </tr>\n",
       "  </tbody>\n",
       "</table>\n",
       "<p>1909 rows × 3 columns</p>\n",
       "</div>"
      ],
      "text/plain": [
       "     Wikipedia ID           Subject            Relation\n",
       "0         1002717      Delia Darrow           assistant\n",
       "1         1002717            Fergie           Inspector\n",
       "2         1002717     Gerda Caswell           assistant\n",
       "3         1002717      Gloria Mundy  librarian, manager\n",
       "4         1002717    Rachel Roberts           assistant\n",
       "...           ...               ...                 ...\n",
       "1904      4339865  Max de Mirecourt              writer\n",
       "1905      4339865           Tam Tam            Princess\n",
       "1906      4340003      Danny Miller            producer\n",
       "1907      4340003        Max Corkle           messenger\n",
       "1908       436955            Ruthie             manager\n",
       "\n",
       "[1909 rows x 3 columns]"
      ]
     },
     "metadata": {},
     "output_type": "display_data"
    },
    {
     "name": "stdout",
     "output_type": "stream",
     "text": [
      "Number of unique movies from which characters' roles have been extracted: 955\n"
     ]
    }
   ],
   "source": [
    "title_df = get_relation_df(DIR = 'RomancePlotsOutputs/', relation_type = 'per:title')\n",
    "# Have list of attributes for each character\n",
    "title_df = title_df.groupby(['Wikipedia ID','Subject'])['Relation'].apply(', '.join).reset_index()  \n",
    "display(title_df)\n",
    "print(\"Number of unique movies from which characters' roles have been extracted:\", len(title_df['Wikipedia ID'].unique()))"
   ]
  },
  {
   "cell_type": "markdown",
   "metadata": {},
   "source": [
    "We have extracted 1909 characters' roles across 955 of the 1491 different romantic comedies. We explore the most common character roles.  "
   ]
  },
  {
   "cell_type": "code",
   "execution_count": 13,
   "metadata": {},
   "outputs": [
    {
     "data": {
      "image/png": "[encoded data removed]",
      "text/plain": [
       "<Figure size 1000x500 with 1 Axes>"
      ]
     },
     "metadata": {},
     "output_type": "display_data"
    }
   ],
   "source": [
    "# Plot the 10 most common character roles \n",
    "fig, ax = plt.subplots(figsize=(10, 5))\n",
    "\n",
    "sns.countplot(x='Relation', data=title_df, order=title_df.groupby(['Relation']).count().sort_values(by = 'Wikipedia ID', ascending=False).head(10).index, ax=ax)\n",
    "\n",
    "ax.set_title('Most common character role in romance movies')\n",
    "ax.set_ylabel('Number of characters')\n",
    "xlabels = ['{}'.format(x) for x in title_df.groupby(['Relation']).count().sort_values(by = 'Wikipedia ID', ascending=False).head(10).index]\n",
    "ax.set_xticklabels(xlabels)\n",
    "ax.set_xlabel('')\n",
    "sns.set_style('darkgrid')\n",
    "sns.set_palette('flare')\n",
    "plt.show()"
   ]
  },
  {
   "cell_type": "markdown",
   "metadata": {},
   "source": [
    "We see that students is the most common role, followed by artistic roles (writer, actress, actor, reporter) and power roles (boss, owner, manager). "
   ]
  },
  {
   "cell_type": "markdown",
   "metadata": {},
   "source": [
    "We extract the love relationships from the KPB Annotator using 'per:spouse' filter. "
   ]
  },
  {
   "cell_type": "code",
   "execution_count": 14,
   "metadata": {},
   "outputs": [
    {
     "data": {
      "text/html": [
       "<div>\n",
       "<style scoped>\n",
       "    .dataframe tbody tr th:only-of-type {\n",
       "        vertical-align: middle;\n",
       "    }\n",
       "\n",
       "    .dataframe tbody tr th {\n",
       "        vertical-align: top;\n",
       "    }\n",
       "\n",
       "    .dataframe thead th {\n",
       "        text-align: right;\n",
       "    }\n",
       "</style>\n",
       "<table border=\"1\" class=\"dataframe\">\n",
       "  <thead>\n",
       "    <tr style=\"text-align: right;\">\n",
       "      <th></th>\n",
       "      <th>Wikipedia ID</th>\n",
       "      <th>Subject</th>\n",
       "      <th>Relation</th>\n",
       "    </tr>\n",
       "  </thead>\n",
       "  <tbody>\n",
       "    <tr>\n",
       "      <th>0</th>\n",
       "      <td>231486</td>\n",
       "      <td>Jake Perry</td>\n",
       "      <td>Melanie Smooter</td>\n",
       "    </tr>\n",
       "    <tr>\n",
       "      <th>1</th>\n",
       "      <td>231486</td>\n",
       "      <td>Melanie Smooter</td>\n",
       "      <td>Jake Perry</td>\n",
       "    </tr>\n",
       "    <tr>\n",
       "      <th>2</th>\n",
       "      <td>231486</td>\n",
       "      <td>Andrew</td>\n",
       "      <td>Melanie Smooter</td>\n",
       "    </tr>\n",
       "    <tr>\n",
       "      <th>3</th>\n",
       "      <td>231486</td>\n",
       "      <td>Melanie Smooter</td>\n",
       "      <td>Andrew</td>\n",
       "    </tr>\n",
       "    <tr>\n",
       "      <th>4</th>\n",
       "      <td>3875767</td>\n",
       "      <td>Penelope Wilhern</td>\n",
       "      <td>Vanderman</td>\n",
       "    </tr>\n",
       "    <tr>\n",
       "      <th>...</th>\n",
       "      <td>...</td>\n",
       "      <td>...</td>\n",
       "      <td>...</td>\n",
       "    </tr>\n",
       "    <tr>\n",
       "      <th>681</th>\n",
       "      <td>1367110</td>\n",
       "      <td>Susan</td>\n",
       "      <td>Johnny</td>\n",
       "    </tr>\n",
       "    <tr>\n",
       "      <th>682</th>\n",
       "      <td>1367110</td>\n",
       "      <td>Johnny</td>\n",
       "      <td>Susan</td>\n",
       "    </tr>\n",
       "    <tr>\n",
       "      <th>683</th>\n",
       "      <td>1367110</td>\n",
       "      <td>Mike</td>\n",
       "      <td>Joan</td>\n",
       "    </tr>\n",
       "    <tr>\n",
       "      <th>684</th>\n",
       "      <td>25954897</td>\n",
       "      <td>Madan</td>\n",
       "      <td>Mallika</td>\n",
       "    </tr>\n",
       "    <tr>\n",
       "      <th>685</th>\n",
       "      <td>25954897</td>\n",
       "      <td>Mallika</td>\n",
       "      <td>Madan</td>\n",
       "    </tr>\n",
       "  </tbody>\n",
       "</table>\n",
       "<p>686 rows × 3 columns</p>\n",
       "</div>"
      ],
      "text/plain": [
       "    Wikipedia ID           Subject         Relation\n",
       "0         231486        Jake Perry  Melanie Smooter\n",
       "1         231486   Melanie Smooter       Jake Perry\n",
       "2         231486            Andrew  Melanie Smooter\n",
       "3         231486   Melanie Smooter           Andrew\n",
       "4        3875767  Penelope Wilhern        Vanderman\n",
       "..           ...               ...              ...\n",
       "681      1367110             Susan           Johnny\n",
       "682      1367110            Johnny            Susan\n",
       "683      1367110              Mike             Joan\n",
       "684     25954897             Madan          Mallika\n",
       "685     25954897           Mallika            Madan\n",
       "\n",
       "[686 rows x 3 columns]"
      ]
     },
     "metadata": {},
     "output_type": "display_data"
    },
    {
     "name": "stdout",
     "output_type": "stream",
     "text": [
      "Number of unique movies from which romantic relationships have been identified: 254\n"
     ]
    }
   ],
   "source": [
    "love_df = get_relation_df(DIR = 'RomancePlotsOutputs/', relation_type = 'per:spouse', confidence_threshold = 0.9)\n",
    "display(love_df)\n",
    "print(\"Number of unique movies from which romantic relationships have been identified:\", len(love_df['Wikipedia ID'].unique()))"
   ]
  },
  {
   "cell_type": "markdown",
   "metadata": {},
   "source": [
    "Out of the 1085 relationships identified by KBP annotator from 319 romantic comedies, we noticed some love relationships are mutual (Harry/Sally, Sally/Harry), while other are only unidirectional (Sally/Harry)."
   ]
  },
  {
   "cell_type": "markdown",
   "metadata": {},
   "source": [
    "We also notice some relations are self-loving (Toula/Toula). "
   ]
  },
  {
   "cell_type": "code",
   "execution_count": 15,
   "metadata": {},
   "outputs": [
    {
     "name": "stdout",
     "output_type": "stream",
     "text": [
      "Number of self-loving relationships: (38, 3)\n"
     ]
    }
   ],
   "source": [
    "print(\"Number of self-loving relationships:\", love_df[love_df['Relation'] == love_df['Subject']].shape)"
   ]
  },
  {
   "cell_type": "markdown",
   "metadata": {},
   "source": [
    "We remove self-loving relationships from our dataframe because we consider them as mistakes or at least not pertinent for our analysis."
   ]
  },
  {
   "cell_type": "code",
   "execution_count": 16,
   "metadata": {},
   "outputs": [],
   "source": [
    "love_df = love_df[love_df['Relation'] != love_df['Subject']]"
   ]
  },
  {
   "cell_type": "markdown",
   "metadata": {},
   "source": [
    "We also notice some pronouns are identified as subjects which mislead the number of relationships in a movie. We want to obtain a dataframe where the subjects and objects of the relationship are characters in the movie."
   ]
  },
  {
   "cell_type": "markdown",
   "metadata": {},
   "source": [
    "We create a dataframe containing the list of all the characters appearing in a movie."
   ]
  },
  {
   "cell_type": "code",
   "execution_count": 17,
   "metadata": {},
   "outputs": [],
   "source": [
    "movie_characters = []\n",
    "for id in love_df['Wikipedia ID'].unique():\n",
    "    tree = get_tree_romance(id)\n",
    "    characters = get_characters(tree)\n",
    "    movie_characters.append((id, characters))"
   ]
  },
  {
   "cell_type": "code",
   "execution_count": 18,
   "metadata": {},
   "outputs": [
    {
     "data": {
      "text/html": [
       "<div>\n",
       "<style scoped>\n",
       "    .dataframe tbody tr th:only-of-type {\n",
       "        vertical-align: middle;\n",
       "    }\n",
       "\n",
       "    .dataframe tbody tr th {\n",
       "        vertical-align: top;\n",
       "    }\n",
       "\n",
       "    .dataframe thead th {\n",
       "        text-align: right;\n",
       "    }\n",
       "</style>\n",
       "<table border=\"1\" class=\"dataframe\">\n",
       "  <thead>\n",
       "    <tr style=\"text-align: right;\">\n",
       "      <th></th>\n",
       "      <th>Wikipedia ID</th>\n",
       "      <th>Characters</th>\n",
       "    </tr>\n",
       "  </thead>\n",
       "  <tbody>\n",
       "    <tr>\n",
       "      <th>0</th>\n",
       "      <td>231486</td>\n",
       "      <td>[Melanie Smooter, Jake Perry, Jake, Melanie, C...</td>\n",
       "    </tr>\n",
       "    <tr>\n",
       "      <th>1</th>\n",
       "      <td>3875767</td>\n",
       "      <td>[Penelope Wilhern, Wilhern, Penelope, Penelope...</td>\n",
       "    </tr>\n",
       "    <tr>\n",
       "      <th>2</th>\n",
       "      <td>1571083</td>\n",
       "      <td>[Ann, David Smith, Robert Montgomery, Ann, Dav...</td>\n",
       "    </tr>\n",
       "    <tr>\n",
       "      <th>3</th>\n",
       "      <td>1511944</td>\n",
       "      <td>[Sophie, Julien, Sophie, Julien, Julien, Sophi...</td>\n",
       "    </tr>\n",
       "    <tr>\n",
       "      <th>4</th>\n",
       "      <td>277148</td>\n",
       "      <td>[Julianne Potter, Michael O'Neil, Michael, Kim...</td>\n",
       "    </tr>\n",
       "    <tr>\n",
       "      <th>...</th>\n",
       "      <td>...</td>\n",
       "      <td>...</td>\n",
       "    </tr>\n",
       "    <tr>\n",
       "      <th>237</th>\n",
       "      <td>2748481</td>\n",
       "      <td>[Kay, Barbara Latimer, Susan, Kay, Barbara, Su...</td>\n",
       "    </tr>\n",
       "    <tr>\n",
       "      <th>238</th>\n",
       "      <td>15907225</td>\n",
       "      <td>[Louise, Ian, Sara, Ian, Louise, Ian, Ian, Sar...</td>\n",
       "    </tr>\n",
       "    <tr>\n",
       "      <th>239</th>\n",
       "      <td>3151934</td>\n",
       "      <td>[Kay Hilliard, Steven, Crystal Allen, Kay, Kay...</td>\n",
       "    </tr>\n",
       "    <tr>\n",
       "      <th>240</th>\n",
       "      <td>1367110</td>\n",
       "      <td>[Mike, Susan, Mike, Susan, Hal, Susan, Susan, ...</td>\n",
       "    </tr>\n",
       "    <tr>\n",
       "      <th>241</th>\n",
       "      <td>25954897</td>\n",
       "      <td>[Deepa, Madanagopal, Madan, Madan, Madan, Mada...</td>\n",
       "    </tr>\n",
       "  </tbody>\n",
       "</table>\n",
       "<p>242 rows × 2 columns</p>\n",
       "</div>"
      ],
      "text/plain": [
       "    Wikipedia ID                                         Characters\n",
       "0         231486  [Melanie Smooter, Jake Perry, Jake, Melanie, C...\n",
       "1        3875767  [Penelope Wilhern, Wilhern, Penelope, Penelope...\n",
       "2        1571083  [Ann, David Smith, Robert Montgomery, Ann, Dav...\n",
       "3        1511944  [Sophie, Julien, Sophie, Julien, Julien, Sophi...\n",
       "4         277148  [Julianne Potter, Michael O'Neil, Michael, Kim...\n",
       "..           ...                                                ...\n",
       "237      2748481  [Kay, Barbara Latimer, Susan, Kay, Barbara, Su...\n",
       "238     15907225  [Louise, Ian, Sara, Ian, Louise, Ian, Ian, Sar...\n",
       "239      3151934  [Kay Hilliard, Steven, Crystal Allen, Kay, Kay...\n",
       "240      1367110  [Mike, Susan, Mike, Susan, Hal, Susan, Susan, ...\n",
       "241     25954897  [Deepa, Madanagopal, Madan, Madan, Madan, Mada...\n",
       "\n",
       "[242 rows x 2 columns]"
      ]
     },
     "execution_count": 18,
     "metadata": {},
     "output_type": "execute_result"
    }
   ],
   "source": [
    "movie_characters_df = pd.DataFrame(movie_characters, columns=['Wikipedia ID', 'Characters'])    \n",
    "movie_characters_df"
   ]
  },
  {
   "cell_type": "markdown",
   "metadata": {},
   "source": [
    "We merge this dataframe to our love_df to be able to access the characters' list of a movie from the love_df. "
   ]
  },
  {
   "cell_type": "code",
   "execution_count": 19,
   "metadata": {},
   "outputs": [
    {
     "data": {
      "text/html": [
       "<div>\n",
       "<style scoped>\n",
       "    .dataframe tbody tr th:only-of-type {\n",
       "        vertical-align: middle;\n",
       "    }\n",
       "\n",
       "    .dataframe tbody tr th {\n",
       "        vertical-align: top;\n",
       "    }\n",
       "\n",
       "    .dataframe thead th {\n",
       "        text-align: right;\n",
       "    }\n",
       "</style>\n",
       "<table border=\"1\" class=\"dataframe\">\n",
       "  <thead>\n",
       "    <tr style=\"text-align: right;\">\n",
       "      <th></th>\n",
       "      <th>Wikipedia ID</th>\n",
       "      <th>Subject</th>\n",
       "      <th>Relation</th>\n",
       "      <th>Characters</th>\n",
       "    </tr>\n",
       "  </thead>\n",
       "  <tbody>\n",
       "    <tr>\n",
       "      <th>0</th>\n",
       "      <td>231486</td>\n",
       "      <td>Jake Perry</td>\n",
       "      <td>Melanie Smooter</td>\n",
       "      <td>[Melanie Smooter, Jake Perry, Jake, Melanie, C...</td>\n",
       "    </tr>\n",
       "    <tr>\n",
       "      <th>1</th>\n",
       "      <td>231486</td>\n",
       "      <td>Melanie Smooter</td>\n",
       "      <td>Jake Perry</td>\n",
       "      <td>[Melanie Smooter, Jake Perry, Jake, Melanie, C...</td>\n",
       "    </tr>\n",
       "    <tr>\n",
       "      <th>2</th>\n",
       "      <td>231486</td>\n",
       "      <td>Andrew</td>\n",
       "      <td>Melanie Smooter</td>\n",
       "      <td>[Melanie Smooter, Jake Perry, Jake, Melanie, C...</td>\n",
       "    </tr>\n",
       "    <tr>\n",
       "      <th>3</th>\n",
       "      <td>231486</td>\n",
       "      <td>Melanie Smooter</td>\n",
       "      <td>Andrew</td>\n",
       "      <td>[Melanie Smooter, Jake Perry, Jake, Melanie, C...</td>\n",
       "    </tr>\n",
       "    <tr>\n",
       "      <th>4</th>\n",
       "      <td>3875767</td>\n",
       "      <td>Penelope Wilhern</td>\n",
       "      <td>Vanderman</td>\n",
       "      <td>[Penelope Wilhern, Wilhern, Penelope, Penelope...</td>\n",
       "    </tr>\n",
       "    <tr>\n",
       "      <th>...</th>\n",
       "      <td>...</td>\n",
       "      <td>...</td>\n",
       "      <td>...</td>\n",
       "      <td>...</td>\n",
       "    </tr>\n",
       "    <tr>\n",
       "      <th>643</th>\n",
       "      <td>1367110</td>\n",
       "      <td>Susan</td>\n",
       "      <td>Johnny</td>\n",
       "      <td>[Mike, Susan, Mike, Susan, Hal, Susan, Susan, ...</td>\n",
       "    </tr>\n",
       "    <tr>\n",
       "      <th>644</th>\n",
       "      <td>1367110</td>\n",
       "      <td>Johnny</td>\n",
       "      <td>Susan</td>\n",
       "      <td>[Mike, Susan, Mike, Susan, Hal, Susan, Susan, ...</td>\n",
       "    </tr>\n",
       "    <tr>\n",
       "      <th>645</th>\n",
       "      <td>1367110</td>\n",
       "      <td>Mike</td>\n",
       "      <td>Joan</td>\n",
       "      <td>[Mike, Susan, Mike, Susan, Hal, Susan, Susan, ...</td>\n",
       "    </tr>\n",
       "    <tr>\n",
       "      <th>646</th>\n",
       "      <td>25954897</td>\n",
       "      <td>Madan</td>\n",
       "      <td>Mallika</td>\n",
       "      <td>[Deepa, Madanagopal, Madan, Madan, Madan, Mada...</td>\n",
       "    </tr>\n",
       "    <tr>\n",
       "      <th>647</th>\n",
       "      <td>25954897</td>\n",
       "      <td>Mallika</td>\n",
       "      <td>Madan</td>\n",
       "      <td>[Deepa, Madanagopal, Madan, Madan, Madan, Mada...</td>\n",
       "    </tr>\n",
       "  </tbody>\n",
       "</table>\n",
       "<p>648 rows × 4 columns</p>\n",
       "</div>"
      ],
      "text/plain": [
       "    Wikipedia ID           Subject         Relation  \\\n",
       "0         231486        Jake Perry  Melanie Smooter   \n",
       "1         231486   Melanie Smooter       Jake Perry   \n",
       "2         231486            Andrew  Melanie Smooter   \n",
       "3         231486   Melanie Smooter           Andrew   \n",
       "4        3875767  Penelope Wilhern        Vanderman   \n",
       "..           ...               ...              ...   \n",
       "643      1367110             Susan           Johnny   \n",
       "644      1367110            Johnny            Susan   \n",
       "645      1367110              Mike             Joan   \n",
       "646     25954897             Madan          Mallika   \n",
       "647     25954897           Mallika            Madan   \n",
       "\n",
       "                                            Characters  \n",
       "0    [Melanie Smooter, Jake Perry, Jake, Melanie, C...  \n",
       "1    [Melanie Smooter, Jake Perry, Jake, Melanie, C...  \n",
       "2    [Melanie Smooter, Jake Perry, Jake, Melanie, C...  \n",
       "3    [Melanie Smooter, Jake Perry, Jake, Melanie, C...  \n",
       "4    [Penelope Wilhern, Wilhern, Penelope, Penelope...  \n",
       "..                                                 ...  \n",
       "643  [Mike, Susan, Mike, Susan, Hal, Susan, Susan, ...  \n",
       "644  [Mike, Susan, Mike, Susan, Hal, Susan, Susan, ...  \n",
       "645  [Mike, Susan, Mike, Susan, Hal, Susan, Susan, ...  \n",
       "646  [Deepa, Madanagopal, Madan, Madan, Madan, Mada...  \n",
       "647  [Deepa, Madanagopal, Madan, Madan, Madan, Mada...  \n",
       "\n",
       "[648 rows x 4 columns]"
      ]
     },
     "execution_count": 19,
     "metadata": {},
     "output_type": "execute_result"
    }
   ],
   "source": [
    "love_cast_df = love_df.merge(movie_characters_df, on='Wikipedia ID')\n",
    "love_cast_df"
   ]
  },
  {
   "cell_type": "markdown",
   "metadata": {},
   "source": [
    "We can now check if the subject and object are part of the characters' list of the movie and filter out relations which does not involve movie's characters."
   ]
  },
  {
   "cell_type": "code",
   "execution_count": 20,
   "metadata": {},
   "outputs": [
    {
     "data": {
      "text/html": [
       "<div>\n",
       "<style scoped>\n",
       "    .dataframe tbody tr th:only-of-type {\n",
       "        vertical-align: middle;\n",
       "    }\n",
       "\n",
       "    .dataframe tbody tr th {\n",
       "        vertical-align: top;\n",
       "    }\n",
       "\n",
       "    .dataframe thead th {\n",
       "        text-align: right;\n",
       "    }\n",
       "</style>\n",
       "<table border=\"1\" class=\"dataframe\">\n",
       "  <thead>\n",
       "    <tr style=\"text-align: right;\">\n",
       "      <th></th>\n",
       "      <th>Wikipedia ID</th>\n",
       "      <th>Subject</th>\n",
       "      <th>Relation</th>\n",
       "      <th>Characters</th>\n",
       "      <th>Subject in characters</th>\n",
       "      <th>Relation in characters</th>\n",
       "    </tr>\n",
       "  </thead>\n",
       "  <tbody>\n",
       "    <tr>\n",
       "      <th>0</th>\n",
       "      <td>231486</td>\n",
       "      <td>Jake Perry</td>\n",
       "      <td>Melanie Smooter</td>\n",
       "      <td>[Melanie Smooter, Jake Perry, Jake, Melanie, C...</td>\n",
       "      <td>True</td>\n",
       "      <td>True</td>\n",
       "    </tr>\n",
       "    <tr>\n",
       "      <th>1</th>\n",
       "      <td>231486</td>\n",
       "      <td>Melanie Smooter</td>\n",
       "      <td>Jake Perry</td>\n",
       "      <td>[Melanie Smooter, Jake Perry, Jake, Melanie, C...</td>\n",
       "      <td>True</td>\n",
       "      <td>True</td>\n",
       "    </tr>\n",
       "    <tr>\n",
       "      <th>2</th>\n",
       "      <td>231486</td>\n",
       "      <td>Andrew</td>\n",
       "      <td>Melanie Smooter</td>\n",
       "      <td>[Melanie Smooter, Jake Perry, Jake, Melanie, C...</td>\n",
       "      <td>True</td>\n",
       "      <td>True</td>\n",
       "    </tr>\n",
       "    <tr>\n",
       "      <th>3</th>\n",
       "      <td>231486</td>\n",
       "      <td>Melanie Smooter</td>\n",
       "      <td>Andrew</td>\n",
       "      <td>[Melanie Smooter, Jake Perry, Jake, Melanie, C...</td>\n",
       "      <td>True</td>\n",
       "      <td>True</td>\n",
       "    </tr>\n",
       "    <tr>\n",
       "      <th>4</th>\n",
       "      <td>3875767</td>\n",
       "      <td>Penelope Wilhern</td>\n",
       "      <td>Vanderman</td>\n",
       "      <td>[Penelope Wilhern, Wilhern, Penelope, Penelope...</td>\n",
       "      <td>True</td>\n",
       "      <td>True</td>\n",
       "    </tr>\n",
       "    <tr>\n",
       "      <th>...</th>\n",
       "      <td>...</td>\n",
       "      <td>...</td>\n",
       "      <td>...</td>\n",
       "      <td>...</td>\n",
       "      <td>...</td>\n",
       "      <td>...</td>\n",
       "    </tr>\n",
       "    <tr>\n",
       "      <th>643</th>\n",
       "      <td>1367110</td>\n",
       "      <td>Susan</td>\n",
       "      <td>Johnny</td>\n",
       "      <td>[Mike, Susan, Mike, Susan, Hal, Susan, Susan, ...</td>\n",
       "      <td>True</td>\n",
       "      <td>True</td>\n",
       "    </tr>\n",
       "    <tr>\n",
       "      <th>644</th>\n",
       "      <td>1367110</td>\n",
       "      <td>Johnny</td>\n",
       "      <td>Susan</td>\n",
       "      <td>[Mike, Susan, Mike, Susan, Hal, Susan, Susan, ...</td>\n",
       "      <td>True</td>\n",
       "      <td>True</td>\n",
       "    </tr>\n",
       "    <tr>\n",
       "      <th>645</th>\n",
       "      <td>1367110</td>\n",
       "      <td>Mike</td>\n",
       "      <td>Joan</td>\n",
       "      <td>[Mike, Susan, Mike, Susan, Hal, Susan, Susan, ...</td>\n",
       "      <td>True</td>\n",
       "      <td>True</td>\n",
       "    </tr>\n",
       "    <tr>\n",
       "      <th>646</th>\n",
       "      <td>25954897</td>\n",
       "      <td>Madan</td>\n",
       "      <td>Mallika</td>\n",
       "      <td>[Deepa, Madanagopal, Madan, Madan, Madan, Mada...</td>\n",
       "      <td>True</td>\n",
       "      <td>True</td>\n",
       "    </tr>\n",
       "    <tr>\n",
       "      <th>647</th>\n",
       "      <td>25954897</td>\n",
       "      <td>Mallika</td>\n",
       "      <td>Madan</td>\n",
       "      <td>[Deepa, Madanagopal, Madan, Madan, Madan, Mada...</td>\n",
       "      <td>True</td>\n",
       "      <td>True</td>\n",
       "    </tr>\n",
       "  </tbody>\n",
       "</table>\n",
       "<p>574 rows × 6 columns</p>\n",
       "</div>"
      ],
      "text/plain": [
       "    Wikipedia ID           Subject         Relation  \\\n",
       "0         231486        Jake Perry  Melanie Smooter   \n",
       "1         231486   Melanie Smooter       Jake Perry   \n",
       "2         231486            Andrew  Melanie Smooter   \n",
       "3         231486   Melanie Smooter           Andrew   \n",
       "4        3875767  Penelope Wilhern        Vanderman   \n",
       "..           ...               ...              ...   \n",
       "643      1367110             Susan           Johnny   \n",
       "644      1367110            Johnny            Susan   \n",
       "645      1367110              Mike             Joan   \n",
       "646     25954897             Madan          Mallika   \n",
       "647     25954897           Mallika            Madan   \n",
       "\n",
       "                                            Characters  Subject in characters  \\\n",
       "0    [Melanie Smooter, Jake Perry, Jake, Melanie, C...                   True   \n",
       "1    [Melanie Smooter, Jake Perry, Jake, Melanie, C...                   True   \n",
       "2    [Melanie Smooter, Jake Perry, Jake, Melanie, C...                   True   \n",
       "3    [Melanie Smooter, Jake Perry, Jake, Melanie, C...                   True   \n",
       "4    [Penelope Wilhern, Wilhern, Penelope, Penelope...                   True   \n",
       "..                                                 ...                    ...   \n",
       "643  [Mike, Susan, Mike, Susan, Hal, Susan, Susan, ...                   True   \n",
       "644  [Mike, Susan, Mike, Susan, Hal, Susan, Susan, ...                   True   \n",
       "645  [Mike, Susan, Mike, Susan, Hal, Susan, Susan, ...                   True   \n",
       "646  [Deepa, Madanagopal, Madan, Madan, Madan, Mada...                   True   \n",
       "647  [Deepa, Madanagopal, Madan, Madan, Madan, Mada...                   True   \n",
       "\n",
       "     Relation in characters  \n",
       "0                      True  \n",
       "1                      True  \n",
       "2                      True  \n",
       "3                      True  \n",
       "4                      True  \n",
       "..                      ...  \n",
       "643                    True  \n",
       "644                    True  \n",
       "645                    True  \n",
       "646                    True  \n",
       "647                    True  \n",
       "\n",
       "[574 rows x 6 columns]"
      ]
     },
     "execution_count": 20,
     "metadata": {},
     "output_type": "execute_result"
    }
   ],
   "source": [
    "# Filter out relations that are not between movie's characters\n",
    "love_cast_df = love_cast_df.copy(deep=True)\n",
    "love_cast_df['Subject in characters'] = love_cast_df.apply(lambda x: x['Subject'] in x['Characters'], axis=1)\n",
    "love_cast_df['Relation in characters'] = love_cast_df.apply(lambda x: x['Relation'] in x['Characters'], axis=1)\n",
    "love_cast_df = love_cast_df[love_cast_df['Subject in characters'] & love_cast_df['Relation in characters']]\n",
    "love_cast_df"
   ]
  },
  {
   "cell_type": "markdown",
   "metadata": {},
   "source": [
    "We want to analyze the distribution of the number of relations per movie. We expect to see a lot of movie with 2 love relationships. Indeed, since we look at romantic comedies, we assume there are two characters in love in the movie and that their love is reciprocal (Hally loves Sally and Sally loves Harry). "
   ]
  },
  {
   "cell_type": "code",
   "execution_count": 21,
   "metadata": {},
   "outputs": [
    {
     "data": {
      "image/png": "[encoded data removed]",
      "text/plain": [
       "<Figure size 1000x500 with 1 Axes>"
      ]
     },
     "metadata": {},
     "output_type": "display_data"
    }
   ],
   "source": [
    "# Plot the distribution of the number of relations per movie\n",
    "love_cast_df['Number of relations'] = love_cast_df.groupby(['Wikipedia ID'])['Relation'].transform('count')\n",
    "# Obtain a dataframe with the number of relations per movie\n",
    "relations_per_movie = love_cast_df[['Wikipedia ID', 'Number of relations']].drop_duplicates()\n",
    "\n",
    "fig, ax = plt.subplots(figsize=(10, 5))\n",
    "sns.countplot(x='Number of relations', data=relations_per_movie, ax=ax)\n",
    "ax.set_title('Number of love relations per movie')\n",
    "ax.set_ylabel('Number of movies')\n",
    "ax.set_xlabel('Number of directed love relations in the movie')\n",
    "sns.set_style('darkgrid')\n",
    "sns.set_palette('flare')\n",
    "plt.show()\n"
   ]
  },
  {
   "cell_type": "markdown",
   "metadata": {},
   "source": [
    "As expected, we observe a high number of movies with 2 relationships. The number of movie with one relationship is quite high as well. We can interpret it as non-reciprocal love relations. "
   ]
  },
  {
   "cell_type": "markdown",
   "metadata": {},
   "source": [
    "We observe the cause of deaths of characters in romantic comedies. "
   ]
  },
  {
   "cell_type": "code",
   "execution_count": 22,
   "metadata": {},
   "outputs": [
    {
     "data": {
      "text/html": [
       "<div>\n",
       "<style scoped>\n",
       "    .dataframe tbody tr th:only-of-type {\n",
       "        vertical-align: middle;\n",
       "    }\n",
       "\n",
       "    .dataframe tbody tr th {\n",
       "        vertical-align: top;\n",
       "    }\n",
       "\n",
       "    .dataframe thead th {\n",
       "        text-align: right;\n",
       "    }\n",
       "</style>\n",
       "<table border=\"1\" class=\"dataframe\">\n",
       "  <thead>\n",
       "    <tr style=\"text-align: right;\">\n",
       "      <th></th>\n",
       "      <th>Wikipedia ID</th>\n",
       "      <th>Subject</th>\n",
       "    </tr>\n",
       "    <tr>\n",
       "      <th>Relation</th>\n",
       "      <th></th>\n",
       "      <th></th>\n",
       "    </tr>\n",
       "  </thead>\n",
       "  <tbody>\n",
       "    <tr>\n",
       "      <th>car accident</th>\n",
       "      <td>10</td>\n",
       "      <td>10</td>\n",
       "    </tr>\n",
       "    <tr>\n",
       "      <th>heart attack</th>\n",
       "      <td>9</td>\n",
       "      <td>9</td>\n",
       "    </tr>\n",
       "    <tr>\n",
       "      <th>accident</th>\n",
       "      <td>8</td>\n",
       "      <td>8</td>\n",
       "    </tr>\n",
       "    <tr>\n",
       "      <th>cancer</th>\n",
       "      <td>8</td>\n",
       "      <td>8</td>\n",
       "    </tr>\n",
       "    <tr>\n",
       "      <th>AIDS</th>\n",
       "      <td>4</td>\n",
       "      <td>4</td>\n",
       "    </tr>\n",
       "    <tr>\n",
       "      <th>poison</th>\n",
       "      <td>4</td>\n",
       "      <td>4</td>\n",
       "    </tr>\n",
       "    <tr>\n",
       "      <th>poisoning</th>\n",
       "      <td>2</td>\n",
       "      <td>2</td>\n",
       "    </tr>\n",
       "    <tr>\n",
       "      <th>aneurysm</th>\n",
       "      <td>2</td>\n",
       "      <td>2</td>\n",
       "    </tr>\n",
       "    <tr>\n",
       "      <th>car crash</th>\n",
       "      <td>2</td>\n",
       "      <td>2</td>\n",
       "    </tr>\n",
       "    <tr>\n",
       "      <th>heart failure</th>\n",
       "      <td>2</td>\n",
       "      <td>2</td>\n",
       "    </tr>\n",
       "  </tbody>\n",
       "</table>\n",
       "</div>"
      ],
      "text/plain": [
       "               Wikipedia ID  Subject\n",
       "Relation                            \n",
       "car accident             10       10\n",
       "heart attack              9        9\n",
       "accident                  8        8\n",
       "cancer                    8        8\n",
       "AIDS                      4        4\n",
       "poison                    4        4\n",
       "poisoning                 2        2\n",
       "aneurysm                  2        2\n",
       "car crash                 2        2\n",
       "heart failure             2        2"
      ]
     },
     "execution_count": 22,
     "metadata": {},
     "output_type": "execute_result"
    }
   ],
   "source": [
    "death_df = get_relation_df(DIR = 'RomancePlotsOutputs/', relation_type = 'per:cause_of_death', confidence_threshold = 0.5)\n",
    "death_df.groupby(['Relation']).count().sort_values(by = 'Wikipedia ID', ascending=False)[:10]"
   ]
  },
  {
   "cell_type": "markdown",
   "metadata": {},
   "source": [
    "We see that heart attacks is the second most common cause of death. "
   ]
  },
  {
   "cell_type": "code",
   "execution_count": 23,
   "metadata": {},
   "outputs": [
    {
     "data": {
      "text/html": [
       "<div>\n",
       "<style scoped>\n",
       "    .dataframe tbody tr th:only-of-type {\n",
       "        vertical-align: middle;\n",
       "    }\n",
       "\n",
       "    .dataframe tbody tr th {\n",
       "        vertical-align: top;\n",
       "    }\n",
       "\n",
       "    .dataframe thead th {\n",
       "        text-align: right;\n",
       "    }\n",
       "</style>\n",
       "<table border=\"1\" class=\"dataframe\">\n",
       "  <thead>\n",
       "    <tr style=\"text-align: right;\">\n",
       "      <th></th>\n",
       "      <th>Wikipedia ID</th>\n",
       "      <th>Subject</th>\n",
       "      <th>Relation</th>\n",
       "    </tr>\n",
       "  </thead>\n",
       "  <tbody>\n",
       "    <tr>\n",
       "      <th>0</th>\n",
       "      <td>2806649</td>\n",
       "      <td>Rafi</td>\n",
       "      <td>37 - year - old</td>\n",
       "    </tr>\n",
       "    <tr>\n",
       "      <th>1</th>\n",
       "      <td>2806649</td>\n",
       "      <td>David</td>\n",
       "      <td>23 - year - old</td>\n",
       "    </tr>\n",
       "    <tr>\n",
       "      <th>2</th>\n",
       "      <td>2806649</td>\n",
       "      <td>David</td>\n",
       "      <td>37 - year - old</td>\n",
       "    </tr>\n",
       "    <tr>\n",
       "      <th>3</th>\n",
       "      <td>24162843</td>\n",
       "      <td>Erin</td>\n",
       "      <td>31 - year - old</td>\n",
       "    </tr>\n",
       "    <tr>\n",
       "      <th>4</th>\n",
       "      <td>3875767</td>\n",
       "      <td>Penelope Wilhern</td>\n",
       "      <td>one - way</td>\n",
       "    </tr>\n",
       "    <tr>\n",
       "      <th>...</th>\n",
       "      <td>...</td>\n",
       "      <td>...</td>\n",
       "      <td>...</td>\n",
       "    </tr>\n",
       "    <tr>\n",
       "      <th>172</th>\n",
       "      <td>14545761</td>\n",
       "      <td>Scarlet Porter</td>\n",
       "      <td>17</td>\n",
       "    </tr>\n",
       "    <tr>\n",
       "      <th>173</th>\n",
       "      <td>14545761</td>\n",
       "      <td>Mike</td>\n",
       "      <td>37</td>\n",
       "    </tr>\n",
       "    <tr>\n",
       "      <th>174</th>\n",
       "      <td>14545761</td>\n",
       "      <td>Scarlet Porter</td>\n",
       "      <td>17</td>\n",
       "    </tr>\n",
       "    <tr>\n",
       "      <th>175</th>\n",
       "      <td>14545761</td>\n",
       "      <td>Scarlet Porter</td>\n",
       "      <td>37</td>\n",
       "    </tr>\n",
       "    <tr>\n",
       "      <th>176</th>\n",
       "      <td>13382767</td>\n",
       "      <td>Inocencio Prieto</td>\n",
       "      <td>1000 - peso</td>\n",
       "    </tr>\n",
       "  </tbody>\n",
       "</table>\n",
       "<p>177 rows × 3 columns</p>\n",
       "</div>"
      ],
      "text/plain": [
       "    Wikipedia ID           Subject         Relation\n",
       "0        2806649              Rafi  37 - year - old\n",
       "1        2806649             David  23 - year - old\n",
       "2        2806649             David  37 - year - old\n",
       "3       24162843              Erin  31 - year - old\n",
       "4        3875767  Penelope Wilhern        one - way\n",
       "..           ...               ...              ...\n",
       "172     14545761    Scarlet Porter               17\n",
       "173     14545761              Mike               37\n",
       "174     14545761    Scarlet Porter               17\n",
       "175     14545761    Scarlet Porter               37\n",
       "176     13382767  Inocencio Prieto      1000 - peso\n",
       "\n",
       "[177 rows x 3 columns]"
      ]
     },
     "execution_count": 23,
     "metadata": {},
     "output_type": "execute_result"
    }
   ],
   "source": [
    "age_df = get_relation_df(DIR = 'RomancePlotsOutputs/', relation_type = 'per:age', confidence_threshold=0.5)\n",
    "age_df"
   ]
  }
 ],
 "metadata": {
  "kernelspec": {
   "display_name": "Python 3.9.6 64-bit",
   "language": "python",
   "name": "python3"
  },
  "language_info": {
   "codemirror_mode": {
    "name": "ipython",
    "version": 3
   },
   "file_extension": ".py",
   "mimetype": "text/x-python",
   "name": "python",
   "nbconvert_exporter": "python",
   "pygments_lexer": "ipython3",
   "version": "3.9.6"
  },
  "orig_nbformat": 4,
  "vscode": {
   "interpreter": {
    "hash": "31f2aee4e71d21fbe5cf8b01ff0e069b9275f58929596ceb00d14d90e3e16cd6"
   }
  }
 },
 "nbformat": 4,
 "nbformat_minor": 2
}
